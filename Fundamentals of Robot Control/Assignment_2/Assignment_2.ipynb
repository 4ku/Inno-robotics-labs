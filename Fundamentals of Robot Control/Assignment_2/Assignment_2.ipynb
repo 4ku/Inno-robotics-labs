{
 "cells": [
  {
   "cell_type": "markdown",
   "id": "20449920",
   "metadata": {},
   "source": [
    "# Assignment 2\n",
    "\n",
    "\n",
    "```\n",
    "- Fundamentals of Robot Control, Innopolis University (Fall semester 2021)\n",
    "- Name : Ivan Efremov\n",
    "- Email : i.efremov@innopolis.university\n",
    "```\n",
    "<hr>\n"
   ]
  },
  {
   "cell_type": "markdown",
   "id": "0b8e20f4",
   "metadata": {},
   "source": [
    "## Problem 1"
   ]
  },
  {
   "cell_type": "markdown",
   "id": "7c513006",
   "metadata": {},
   "source": [
    "![](Problem1.jpg)"
   ]
  },
  {
   "cell_type": "markdown",
   "id": "d0f98914",
   "metadata": {},
   "source": [
    "## Problem 2"
   ]
  },
  {
   "cell_type": "markdown",
   "id": "58ac84a3",
   "metadata": {},
   "source": [
    "![](Problem2.jpg)"
   ]
  },
  {
   "cell_type": "markdown",
   "id": "180b30a4",
   "metadata": {},
   "source": [
    "## Problem 3"
   ]
  },
  {
   "cell_type": "markdown",
   "id": "365622d6",
   "metadata": {},
   "source": [
    "![](Problem3_1.jpg)"
   ]
  },
  {
   "cell_type": "markdown",
   "id": "7df2a6b3",
   "metadata": {},
   "source": [
    "![](Problem3_2.jpg)"
   ]
  },
  {
   "cell_type": "code",
   "execution_count": null,
   "id": "625e0717",
   "metadata": {},
   "outputs": [],
   "source": []
  },
  {
   "cell_type": "code",
   "execution_count": null,
   "id": "af9fc4ca",
   "metadata": {},
   "outputs": [],
   "source": []
  },
  {
   "cell_type": "code",
   "execution_count": null,
   "id": "ef05611d",
   "metadata": {},
   "outputs": [],
   "source": []
  }
 ],
 "metadata": {
  "kernelspec": {
   "display_name": "Python 3 (ipykernel)",
   "language": "python",
   "name": "python3"
  },
  "language_info": {
   "codemirror_mode": {
    "name": "ipython",
    "version": 3
   },
   "file_extension": ".py",
   "mimetype": "text/x-python",
   "name": "python",
   "nbconvert_exporter": "python",
   "pygments_lexer": "ipython3",
   "version": "3.8.10"
  }
 },
 "nbformat": 4,
 "nbformat_minor": 5
}
