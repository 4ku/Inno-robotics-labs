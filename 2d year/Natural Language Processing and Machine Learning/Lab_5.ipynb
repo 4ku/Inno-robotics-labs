{
 "cells": [
  {
   "cell_type": "markdown",
   "metadata": {
    "id": "uRyI3niS0dCn"
   },
   "source": [
    "# Lab 5 : Parsing"
   ]
  },
  {
   "cell_type": "markdown",
   "metadata": {
    "id": "rfiWiCrx1cBT"
   },
   "source": [
    "## Recap \n",
    "\n",
    "**What is Parsing?** : <br>\n",
    "**What are context-free grammars?** : <br>\n",
    "**What are the applications of parsing?**  <br>\n",
    "**What are the commonly used algorithms used for parsing?** <br>\n",
    "**What is structural ambiguity?**"
   ]
  },
  {
   "cell_type": "markdown",
   "metadata": {
    "id": "mln3hkzpA92r"
   },
   "source": [
    "----\n",
    "<br>\n",
    "\n",
    "What is Parsing? : Parsing is the process of analyzing a string of symbols, usually in the form of text, to determine its grammatical structure based on a set of rules or a grammar.\n",
    "\n",
    "Context-free grammars (CFGs) are a type of formal grammar that describe the structure of a language using a set of production rules. These rules consist of a non-terminal symbol that can be replaced by a sequence of terminal and/or non-terminal symbols. CFGs are commonly used to describe the syntax of programming languages, natural languages, and other formal languages.\n",
    "\n",
    "The applications of parsing include language processing tasks such as natural language understanding, machine translation, code compilation, and program analysis. Parsing is also used in text processing tasks such as information extraction, text-to-speech synthesis, and spell checking.\n",
    "\n",
    "There are several algorithms used for parsing, including Recursive Descent Parsing, Bottom-Up Parsing, Earley Parsing, and CYK Parsing. Each algorithm has its own strengths and weaknesses, and the choice of algorithm depends on the type of grammar and the complexity of the input.\n",
    "\n",
    "Structural ambiguity occurs when a sentence or phrase has more than one possible interpretation based on its grammatical structure. For example, the sentence \"I saw the man with the telescope\" can be interpreted as \"I saw the man who was holding the telescope\" or \"I saw the man through the lens of a telescope.\" Structural ambiguity can create difficulties in language processing tasks such as machine translation and natural language understanding.\n",
    "\n",
    "<br>\n",
    "\n",
    "----"
   ]
  },
  {
   "cell_type": "markdown",
   "metadata": {
    "id": "VnGo_2KiOTtY"
   },
   "source": [
    "## Syntax tree\n",
    "\n",
    "A Syntax tree or a parse tree is a tree representation of different syntactic categories of a sentence. It helps us to understand the syntactical structure of a sentence.\n",
    "\n",
    "The standard way to represent the syntactic structure of a grammatical sentence"
   ]
  },
  {
   "cell_type": "code",
   "execution_count": 1,
   "metadata": {
    "id": "tZs-R2WPRrqg"
   },
   "outputs": [
    {
     "name": "stderr",
     "output_type": "stream",
     "text": [
      "[nltk_data] Downloading package punkt to /home/ivan/nltk_data...\n",
      "[nltk_data]   Package punkt is already up-to-date!\n",
      "[nltk_data] Downloading package averaged_perceptron_tagger to\n",
      "[nltk_data]     /home/ivan/nltk_data...\n",
      "[nltk_data]   Package averaged_perceptron_tagger is already up-to-\n",
      "[nltk_data]       date!\n"
     ]
    }
   ],
   "source": [
    "# Import required libraries\n",
    "import nltk\n",
    "nltk.download('punkt')\n",
    "nltk.download('averaged_perceptron_tagger')\n",
    "from nltk import pos_tag, word_tokenize, RegexpParser"
   ]
  },
  {
   "cell_type": "code",
   "execution_count": 2,
   "metadata": {
    "id": "WcifbbEnOdIl"
   },
   "outputs": [
    {
     "name": "stdout",
     "output_type": "stream",
     "text": [
      "After Extracting\n",
      " (S\n",
      "  He/PRP\n",
      "  (VP (V clustered/VBD) (NP the/DT data/NN))\n",
      "  (P into/IN)\n",
      "  (NP information/NN)\n",
      "  granules/NNS)\n"
     ]
    }
   ],
   "source": [
    "# Example text\n",
    "sample_text = \"He clustered the data into information granules\"\n",
    "\n",
    "# Find all parts of speech in above sentence\n",
    "tagged = pos_tag(word_tokenize(sample_text))\n",
    "\n",
    "#Extract all parts of speech from any text\n",
    "chunker = RegexpParser(\"\"\"\n",
    "\t\t\t\t\tNP: {<DT>?<JJ>*<NN>} #To extract Noun Phrases\n",
    "\t\t\t\t\tP: {<IN>}\t\t\t #To extract Prepositions\n",
    "\t\t\t\t\tV: {<V.*>}\t\t\t #To extract Verbs\n",
    "\t\t\t\t\tPP: {<p> <NP>}\t\t #To extract Prepositional Phrases\n",
    "\t\t\t\t\tVP: {<V> <NP|PP>*}\t #To extract Verb Phrases\n",
    "\t\t\t\t\t\"\"\")\n",
    "\n",
    "# Print all parts of speech in above sentence\n",
    "output = chunker.parse(tagged)\n",
    "print(\"After Extracting\\n\", output)"
   ]
  },
  {
   "cell_type": "markdown",
   "metadata": {
    "id": "Kbo2ULxEOnTs"
   },
   "source": [
    "### Visualize the syntax tree"
   ]
  },
  {
   "cell_type": "code",
   "execution_count": 3,
   "metadata": {
    "id": "imWgngQBOmbi"
   },
   "outputs": [
    {
     "name": "stdout",
     "output_type": "stream",
     "text": [
      "E: Could not open lock file /var/lib/dpkg/lock-frontend - open (13: Permission denied)\r\n",
      "E: Unable to acquire the dpkg frontend lock (/var/lib/dpkg/lock-frontend), are you root?\r\n"
     ]
    },
    {
     "name": "stderr",
     "output_type": "stream",
     "text": [
      "_XSERVTransSocketUNIXCreateListener: ...SocketCreateListener() failed\n",
      "_XSERVTransMakeAllCOTSServerListeners: server already running\n",
      "(EE) \n",
      "Fatal server error:\n",
      "(EE) Cannot establish any listening sockets - Make sure an X server isn't already running(EE) \n"
     ]
    },
    {
     "name": "stdout",
     "output_type": "stream",
     "text": [
      "\u001b[1;31mE: \u001b[0mCould not open lock file /var/lib/dpkg/lock-frontend - open (13: Permission denied)\u001b[0m\r\n",
      "\u001b[1;31mE: \u001b[0mUnable to acquire the dpkg frontend lock (/var/lib/dpkg/lock-frontend), are you root?\u001b[0m\r\n"
     ]
    }
   ],
   "source": [
    "!apt-get install -y xvfb # Install X Virtual Frame Buffer\n",
    "import os\n",
    "os.system('Xvfb :1 -screen 0 1600x1200x16  &')    # create virtual display with size 1600x1200 and 16 bit color. Color can be changed to 24 or 8\n",
    "os.environ['DISPLAY']=':1.0'  \n",
    "\n",
    "%matplotlib inline\n",
    "!apt install ghostscript python3-tk"
   ]
  },
  {
   "cell_type": "code",
   "execution_count": 4,
   "metadata": {
    "colab": {
     "base_uri": "https://localhost:8080/",
     "height": 167
    },
    "id": "kogeY-L3Ous2",
    "outputId": "370c1f74-f3bd-4bab-eb23-ba03ed8d4b5c"
   },
   "outputs": [
    {
     "data": {
      "image/svg+xml": [
       "<svg baseProfile=\"full\" height=\"216px\" preserveAspectRatio=\"xMidYMid meet\" style=\"font-family: times, serif; font-weight:normal; font-style: normal; font-size: 16px;\" version=\"1.1\" viewBox=\"0,0,448.0,216.0\" width=\"448px\" xmlns=\"http://www.w3.org/2000/svg\" xmlns:ev=\"http://www.w3.org/2001/xml-events\" xmlns:xlink=\"http://www.w3.org/1999/xlink\"><defs /><svg width=\"100%\" x=\"0\" y=\"0em\"><defs /><text text-anchor=\"middle\" x=\"50%\" y=\"1em\">S</text></svg><svg width=\"8.92857%\" x=\"0%\" y=\"3em\"><defs /><svg width=\"100%\" x=\"0\" y=\"0em\"><defs /><text text-anchor=\"middle\" x=\"50%\" y=\"1em\">He</text></svg><svg width=\"100%\" x=\"0%\" y=\"3em\"><defs /><svg width=\"100%\" x=\"0\" y=\"0em\"><defs /><text text-anchor=\"middle\" x=\"50%\" y=\"1em\">PRP</text></svg></svg><line stroke=\"black\" x1=\"50%\" x2=\"50%\" y1=\"1.2em\" y2=\"3em\" /></svg><line stroke=\"black\" x1=\"50%\" x2=\"4.46429%\" y1=\"1.2em\" y2=\"3em\" /><svg width=\"39.2857%\" x=\"8.92857%\" y=\"3em\"><defs /><svg width=\"100%\" x=\"0\" y=\"0em\"><defs /><text text-anchor=\"middle\" x=\"50%\" y=\"1em\">VP</text></svg><svg width=\"50%\" x=\"0%\" y=\"3em\"><defs /><svg width=\"100%\" x=\"0\" y=\"0em\"><defs /><text text-anchor=\"middle\" x=\"50%\" y=\"1em\">V</text></svg><svg width=\"100%\" x=\"0%\" y=\"3em\"><defs /><svg width=\"100%\" x=\"0\" y=\"0em\"><defs /><text text-anchor=\"middle\" x=\"50%\" y=\"1em\">clustered</text></svg><svg width=\"100%\" x=\"0%\" y=\"3em\"><defs /><svg width=\"100%\" x=\"0\" y=\"0em\"><defs /><text text-anchor=\"middle\" x=\"50%\" y=\"1em\">VBD</text></svg></svg><line stroke=\"black\" x1=\"50%\" x2=\"50%\" y1=\"1.2em\" y2=\"3em\" /></svg><line stroke=\"black\" x1=\"50%\" x2=\"50%\" y1=\"1.2em\" y2=\"3em\" /></svg><line stroke=\"black\" x1=\"50%\" x2=\"25%\" y1=\"1.2em\" y2=\"3em\" /><svg width=\"50%\" x=\"50%\" y=\"3em\"><defs /><svg width=\"100%\" x=\"0\" y=\"0em\"><defs /><text text-anchor=\"middle\" x=\"50%\" y=\"1em\">NP</text></svg><svg width=\"45.4545%\" x=\"0%\" y=\"3em\"><defs /><svg width=\"100%\" x=\"0\" y=\"0em\"><defs /><text text-anchor=\"middle\" x=\"50%\" y=\"1em\">the</text></svg><svg width=\"100%\" x=\"0%\" y=\"3em\"><defs /><svg width=\"100%\" x=\"0\" y=\"0em\"><defs /><text text-anchor=\"middle\" x=\"50%\" y=\"1em\">DT</text></svg></svg><line stroke=\"black\" x1=\"50%\" x2=\"50%\" y1=\"1.2em\" y2=\"3em\" /></svg><line stroke=\"black\" x1=\"50%\" x2=\"22.7273%\" y1=\"1.2em\" y2=\"3em\" /><svg width=\"54.5455%\" x=\"45.4545%\" y=\"3em\"><defs /><svg width=\"100%\" x=\"0\" y=\"0em\"><defs /><text text-anchor=\"middle\" x=\"50%\" y=\"1em\">data</text></svg><svg width=\"100%\" x=\"0%\" y=\"3em\"><defs /><svg width=\"100%\" x=\"0\" y=\"0em\"><defs /><text text-anchor=\"middle\" x=\"50%\" y=\"1em\">NN</text></svg></svg><line stroke=\"black\" x1=\"50%\" x2=\"50%\" y1=\"1.2em\" y2=\"3em\" /></svg><line stroke=\"black\" x1=\"50%\" x2=\"72.7273%\" y1=\"1.2em\" y2=\"3em\" /></svg><line stroke=\"black\" x1=\"50%\" x2=\"75%\" y1=\"1.2em\" y2=\"3em\" /></svg><line stroke=\"black\" x1=\"50%\" x2=\"28.5714%\" y1=\"1.2em\" y2=\"3em\" /><svg width=\"10.7143%\" x=\"48.2143%\" y=\"3em\"><defs /><svg width=\"100%\" x=\"0\" y=\"0em\"><defs /><text text-anchor=\"middle\" x=\"50%\" y=\"1em\">P</text></svg><svg width=\"100%\" x=\"0%\" y=\"3em\"><defs /><svg width=\"100%\" x=\"0\" y=\"0em\"><defs /><text text-anchor=\"middle\" x=\"50%\" y=\"1em\">into</text></svg><svg width=\"100%\" x=\"0%\" y=\"3em\"><defs /><svg width=\"100%\" x=\"0\" y=\"0em\"><defs /><text text-anchor=\"middle\" x=\"50%\" y=\"1em\">IN</text></svg></svg><line stroke=\"black\" x1=\"50%\" x2=\"50%\" y1=\"1.2em\" y2=\"3em\" /></svg><line stroke=\"black\" x1=\"50%\" x2=\"50%\" y1=\"1.2em\" y2=\"3em\" /></svg><line stroke=\"black\" x1=\"50%\" x2=\"53.5714%\" y1=\"1.2em\" y2=\"3em\" /><svg width=\"23.2143%\" x=\"58.9286%\" y=\"3em\"><defs /><svg width=\"100%\" x=\"0\" y=\"0em\"><defs /><text text-anchor=\"middle\" x=\"50%\" y=\"1em\">NP</text></svg><svg width=\"100%\" x=\"0%\" y=\"3em\"><defs /><svg width=\"100%\" x=\"0\" y=\"0em\"><defs /><text text-anchor=\"middle\" x=\"50%\" y=\"1em\">information</text></svg><svg width=\"100%\" x=\"0%\" y=\"3em\"><defs /><svg width=\"100%\" x=\"0\" y=\"0em\"><defs /><text text-anchor=\"middle\" x=\"50%\" y=\"1em\">NN</text></svg></svg><line stroke=\"black\" x1=\"50%\" x2=\"50%\" y1=\"1.2em\" y2=\"3em\" /></svg><line stroke=\"black\" x1=\"50%\" x2=\"50%\" y1=\"1.2em\" y2=\"3em\" /></svg><line stroke=\"black\" x1=\"50%\" x2=\"70.5357%\" y1=\"1.2em\" y2=\"3em\" /><svg width=\"17.8571%\" x=\"82.1429%\" y=\"3em\"><defs /><svg width=\"100%\" x=\"0\" y=\"0em\"><defs /><text text-anchor=\"middle\" x=\"50%\" y=\"1em\">granules</text></svg><svg width=\"100%\" x=\"0%\" y=\"3em\"><defs /><svg width=\"100%\" x=\"0\" y=\"0em\"><defs /><text text-anchor=\"middle\" x=\"50%\" y=\"1em\">NNS</text></svg></svg><line stroke=\"black\" x1=\"50%\" x2=\"50%\" y1=\"1.2em\" y2=\"3em\" /></svg><line stroke=\"black\" x1=\"50%\" x2=\"91.0714%\" y1=\"1.2em\" y2=\"3em\" /></svg>"
      ],
      "text/plain": [
       "Tree('S', [('He', 'PRP'), Tree('VP', [Tree('V', [('clustered', 'VBD')]), Tree('NP', [('the', 'DT'), ('data', 'NN')])]), Tree('P', [('into', 'IN')]), Tree('NP', [('information', 'NN')]), ('granules', 'NNS')])"
      ]
     },
     "metadata": {},
     "output_type": "display_data"
    }
   ],
   "source": [
    "from IPython.display import display\n",
    "display(output)"
   ]
  },
  {
   "cell_type": "markdown",
   "metadata": {
    "id": "GHQYUEl414-C"
   },
   "source": [
    "## 1. Dependency Parsing\n",
    "\n",
    "In dependency parsing, we try to use dependency-based grammars to analyze and infer both structure and semantic dependencies and relationships between tokens in a sentence. \n",
    "\n",
    "![](https://files.realpython.com/media/displacy_dependency_parse.de72f9b1d115.png)\n",
    "\n",
    "Dependency Parsing used in shallow parsing and named entity recognition\n",
    "\n"
   ]
  },
  {
   "cell_type": "code",
   "execution_count": 5,
   "metadata": {
    "id": "UUHt9LPu15hU"
   },
   "outputs": [],
   "source": [
    "import spacy\n",
    "\n",
    "nlp = spacy.load(\"en_core_web_sm\")\n",
    "\n",
    "sentence_nlp = nlp(\"US unvails world's most powerful supercomputer, beats China\")\n",
    "sentence_nlp = nlp(\"Innopolis University is a university located in the city of Innopolis.\")"
   ]
  },
  {
   "cell_type": "code",
   "execution_count": 6,
   "metadata": {
    "colab": {
     "base_uri": "https://localhost:8080/",
     "height": 268
    },
    "id": "xIZyddl8NYrB",
    "outputId": "f217b2ee-3255-4557-b652-53a66dbfe496"
   },
   "outputs": [
    {
     "data": {
      "text/html": [
       "<span class=\"tex2jax_ignore\"><svg xmlns=\"http://www.w3.org/2000/svg\" xmlns:xlink=\"http://www.w3.org/1999/xlink\" xml:lang=\"en\" id=\"4725931bb77c4d939206cad8dd8c0a70-0\" class=\"displacy\" width=\"1260\" height=\"247.0\" direction=\"ltr\" style=\"max-width: none; height: 247.0px; color: #000000; background: #ffffff; font-family: Arial; direction: ltr\">\n",
       "<text class=\"displacy-token\" fill=\"currentColor\" text-anchor=\"middle\" y=\"157.0\">\n",
       "    <tspan class=\"displacy-word\" fill=\"currentColor\" x=\"50\">Innopolis</tspan>\n",
       "    <tspan class=\"displacy-tag\" dy=\"2em\" fill=\"currentColor\" x=\"50\">PROPN</tspan>\n",
       "</text>\n",
       "\n",
       "<text class=\"displacy-token\" fill=\"currentColor\" text-anchor=\"middle\" y=\"157.0\">\n",
       "    <tspan class=\"displacy-word\" fill=\"currentColor\" x=\"160\">University</tspan>\n",
       "    <tspan class=\"displacy-tag\" dy=\"2em\" fill=\"currentColor\" x=\"160\">PROPN</tspan>\n",
       "</text>\n",
       "\n",
       "<text class=\"displacy-token\" fill=\"currentColor\" text-anchor=\"middle\" y=\"157.0\">\n",
       "    <tspan class=\"displacy-word\" fill=\"currentColor\" x=\"270\">is</tspan>\n",
       "    <tspan class=\"displacy-tag\" dy=\"2em\" fill=\"currentColor\" x=\"270\">AUX</tspan>\n",
       "</text>\n",
       "\n",
       "<text class=\"displacy-token\" fill=\"currentColor\" text-anchor=\"middle\" y=\"157.0\">\n",
       "    <tspan class=\"displacy-word\" fill=\"currentColor\" x=\"380\">a</tspan>\n",
       "    <tspan class=\"displacy-tag\" dy=\"2em\" fill=\"currentColor\" x=\"380\">DET</tspan>\n",
       "</text>\n",
       "\n",
       "<text class=\"displacy-token\" fill=\"currentColor\" text-anchor=\"middle\" y=\"157.0\">\n",
       "    <tspan class=\"displacy-word\" fill=\"currentColor\" x=\"490\">university</tspan>\n",
       "    <tspan class=\"displacy-tag\" dy=\"2em\" fill=\"currentColor\" x=\"490\">NOUN</tspan>\n",
       "</text>\n",
       "\n",
       "<text class=\"displacy-token\" fill=\"currentColor\" text-anchor=\"middle\" y=\"157.0\">\n",
       "    <tspan class=\"displacy-word\" fill=\"currentColor\" x=\"600\">located</tspan>\n",
       "    <tspan class=\"displacy-tag\" dy=\"2em\" fill=\"currentColor\" x=\"600\">VERB</tspan>\n",
       "</text>\n",
       "\n",
       "<text class=\"displacy-token\" fill=\"currentColor\" text-anchor=\"middle\" y=\"157.0\">\n",
       "    <tspan class=\"displacy-word\" fill=\"currentColor\" x=\"710\">in</tspan>\n",
       "    <tspan class=\"displacy-tag\" dy=\"2em\" fill=\"currentColor\" x=\"710\">ADP</tspan>\n",
       "</text>\n",
       "\n",
       "<text class=\"displacy-token\" fill=\"currentColor\" text-anchor=\"middle\" y=\"157.0\">\n",
       "    <tspan class=\"displacy-word\" fill=\"currentColor\" x=\"820\">the</tspan>\n",
       "    <tspan class=\"displacy-tag\" dy=\"2em\" fill=\"currentColor\" x=\"820\">DET</tspan>\n",
       "</text>\n",
       "\n",
       "<text class=\"displacy-token\" fill=\"currentColor\" text-anchor=\"middle\" y=\"157.0\">\n",
       "    <tspan class=\"displacy-word\" fill=\"currentColor\" x=\"930\">city</tspan>\n",
       "    <tspan class=\"displacy-tag\" dy=\"2em\" fill=\"currentColor\" x=\"930\">NOUN</tspan>\n",
       "</text>\n",
       "\n",
       "<text class=\"displacy-token\" fill=\"currentColor\" text-anchor=\"middle\" y=\"157.0\">\n",
       "    <tspan class=\"displacy-word\" fill=\"currentColor\" x=\"1040\">of</tspan>\n",
       "    <tspan class=\"displacy-tag\" dy=\"2em\" fill=\"currentColor\" x=\"1040\">ADP</tspan>\n",
       "</text>\n",
       "\n",
       "<text class=\"displacy-token\" fill=\"currentColor\" text-anchor=\"middle\" y=\"157.0\">\n",
       "    <tspan class=\"displacy-word\" fill=\"currentColor\" x=\"1150\">Innopolis.</tspan>\n",
       "    <tspan class=\"displacy-tag\" dy=\"2em\" fill=\"currentColor\" x=\"1150\">PROPN</tspan>\n",
       "</text>\n",
       "\n",
       "<g class=\"displacy-arrow\">\n",
       "    <path class=\"displacy-arc\" id=\"arrow-4725931bb77c4d939206cad8dd8c0a70-0-0\" stroke-width=\"2px\" d=\"M70,112.0 C70,57.0 155.0,57.0 155.0,112.0\" fill=\"none\" stroke=\"currentColor\"/>\n",
       "    <text dy=\"1.25em\" style=\"font-size: 0.8em; letter-spacing: 1px\">\n",
       "        <textPath xlink:href=\"#arrow-4725931bb77c4d939206cad8dd8c0a70-0-0\" class=\"displacy-label\" startOffset=\"50%\" side=\"left\" fill=\"currentColor\" text-anchor=\"middle\">compound</textPath>\n",
       "    </text>\n",
       "    <path class=\"displacy-arrowhead\" d=\"M70,114.0 L64,104.0 76,104.0\" fill=\"currentColor\"/>\n",
       "</g>\n",
       "\n",
       "<g class=\"displacy-arrow\">\n",
       "    <path class=\"displacy-arc\" id=\"arrow-4725931bb77c4d939206cad8dd8c0a70-0-1\" stroke-width=\"2px\" d=\"M180,112.0 C180,57.0 265.0,57.0 265.0,112.0\" fill=\"none\" stroke=\"currentColor\"/>\n",
       "    <text dy=\"1.25em\" style=\"font-size: 0.8em; letter-spacing: 1px\">\n",
       "        <textPath xlink:href=\"#arrow-4725931bb77c4d939206cad8dd8c0a70-0-1\" class=\"displacy-label\" startOffset=\"50%\" side=\"left\" fill=\"currentColor\" text-anchor=\"middle\">nsubj</textPath>\n",
       "    </text>\n",
       "    <path class=\"displacy-arrowhead\" d=\"M180,114.0 L174,104.0 186,104.0\" fill=\"currentColor\"/>\n",
       "</g>\n",
       "\n",
       "<g class=\"displacy-arrow\">\n",
       "    <path class=\"displacy-arc\" id=\"arrow-4725931bb77c4d939206cad8dd8c0a70-0-2\" stroke-width=\"2px\" d=\"M400,112.0 C400,57.0 485.0,57.0 485.0,112.0\" fill=\"none\" stroke=\"currentColor\"/>\n",
       "    <text dy=\"1.25em\" style=\"font-size: 0.8em; letter-spacing: 1px\">\n",
       "        <textPath xlink:href=\"#arrow-4725931bb77c4d939206cad8dd8c0a70-0-2\" class=\"displacy-label\" startOffset=\"50%\" side=\"left\" fill=\"currentColor\" text-anchor=\"middle\">det</textPath>\n",
       "    </text>\n",
       "    <path class=\"displacy-arrowhead\" d=\"M400,114.0 L394,104.0 406,104.0\" fill=\"currentColor\"/>\n",
       "</g>\n",
       "\n",
       "<g class=\"displacy-arrow\">\n",
       "    <path class=\"displacy-arc\" id=\"arrow-4725931bb77c4d939206cad8dd8c0a70-0-3\" stroke-width=\"2px\" d=\"M290,112.0 C290,2.0 490.0,2.0 490.0,112.0\" fill=\"none\" stroke=\"currentColor\"/>\n",
       "    <text dy=\"1.25em\" style=\"font-size: 0.8em; letter-spacing: 1px\">\n",
       "        <textPath xlink:href=\"#arrow-4725931bb77c4d939206cad8dd8c0a70-0-3\" class=\"displacy-label\" startOffset=\"50%\" side=\"left\" fill=\"currentColor\" text-anchor=\"middle\">attr</textPath>\n",
       "    </text>\n",
       "    <path class=\"displacy-arrowhead\" d=\"M490.0,114.0 L496.0,104.0 484.0,104.0\" fill=\"currentColor\"/>\n",
       "</g>\n",
       "\n",
       "<g class=\"displacy-arrow\">\n",
       "    <path class=\"displacy-arc\" id=\"arrow-4725931bb77c4d939206cad8dd8c0a70-0-4\" stroke-width=\"2px\" d=\"M510,112.0 C510,57.0 595.0,57.0 595.0,112.0\" fill=\"none\" stroke=\"currentColor\"/>\n",
       "    <text dy=\"1.25em\" style=\"font-size: 0.8em; letter-spacing: 1px\">\n",
       "        <textPath xlink:href=\"#arrow-4725931bb77c4d939206cad8dd8c0a70-0-4\" class=\"displacy-label\" startOffset=\"50%\" side=\"left\" fill=\"currentColor\" text-anchor=\"middle\">acl</textPath>\n",
       "    </text>\n",
       "    <path class=\"displacy-arrowhead\" d=\"M595.0,114.0 L601.0,104.0 589.0,104.0\" fill=\"currentColor\"/>\n",
       "</g>\n",
       "\n",
       "<g class=\"displacy-arrow\">\n",
       "    <path class=\"displacy-arc\" id=\"arrow-4725931bb77c4d939206cad8dd8c0a70-0-5\" stroke-width=\"2px\" d=\"M620,112.0 C620,57.0 705.0,57.0 705.0,112.0\" fill=\"none\" stroke=\"currentColor\"/>\n",
       "    <text dy=\"1.25em\" style=\"font-size: 0.8em; letter-spacing: 1px\">\n",
       "        <textPath xlink:href=\"#arrow-4725931bb77c4d939206cad8dd8c0a70-0-5\" class=\"displacy-label\" startOffset=\"50%\" side=\"left\" fill=\"currentColor\" text-anchor=\"middle\">prep</textPath>\n",
       "    </text>\n",
       "    <path class=\"displacy-arrowhead\" d=\"M705.0,114.0 L711.0,104.0 699.0,104.0\" fill=\"currentColor\"/>\n",
       "</g>\n",
       "\n",
       "<g class=\"displacy-arrow\">\n",
       "    <path class=\"displacy-arc\" id=\"arrow-4725931bb77c4d939206cad8dd8c0a70-0-6\" stroke-width=\"2px\" d=\"M840,112.0 C840,57.0 925.0,57.0 925.0,112.0\" fill=\"none\" stroke=\"currentColor\"/>\n",
       "    <text dy=\"1.25em\" style=\"font-size: 0.8em; letter-spacing: 1px\">\n",
       "        <textPath xlink:href=\"#arrow-4725931bb77c4d939206cad8dd8c0a70-0-6\" class=\"displacy-label\" startOffset=\"50%\" side=\"left\" fill=\"currentColor\" text-anchor=\"middle\">det</textPath>\n",
       "    </text>\n",
       "    <path class=\"displacy-arrowhead\" d=\"M840,114.0 L834,104.0 846,104.0\" fill=\"currentColor\"/>\n",
       "</g>\n",
       "\n",
       "<g class=\"displacy-arrow\">\n",
       "    <path class=\"displacy-arc\" id=\"arrow-4725931bb77c4d939206cad8dd8c0a70-0-7\" stroke-width=\"2px\" d=\"M730,112.0 C730,2.0 930.0,2.0 930.0,112.0\" fill=\"none\" stroke=\"currentColor\"/>\n",
       "    <text dy=\"1.25em\" style=\"font-size: 0.8em; letter-spacing: 1px\">\n",
       "        <textPath xlink:href=\"#arrow-4725931bb77c4d939206cad8dd8c0a70-0-7\" class=\"displacy-label\" startOffset=\"50%\" side=\"left\" fill=\"currentColor\" text-anchor=\"middle\">pobj</textPath>\n",
       "    </text>\n",
       "    <path class=\"displacy-arrowhead\" d=\"M930.0,114.0 L936.0,104.0 924.0,104.0\" fill=\"currentColor\"/>\n",
       "</g>\n",
       "\n",
       "<g class=\"displacy-arrow\">\n",
       "    <path class=\"displacy-arc\" id=\"arrow-4725931bb77c4d939206cad8dd8c0a70-0-8\" stroke-width=\"2px\" d=\"M950,112.0 C950,57.0 1035.0,57.0 1035.0,112.0\" fill=\"none\" stroke=\"currentColor\"/>\n",
       "    <text dy=\"1.25em\" style=\"font-size: 0.8em; letter-spacing: 1px\">\n",
       "        <textPath xlink:href=\"#arrow-4725931bb77c4d939206cad8dd8c0a70-0-8\" class=\"displacy-label\" startOffset=\"50%\" side=\"left\" fill=\"currentColor\" text-anchor=\"middle\">prep</textPath>\n",
       "    </text>\n",
       "    <path class=\"displacy-arrowhead\" d=\"M1035.0,114.0 L1041.0,104.0 1029.0,104.0\" fill=\"currentColor\"/>\n",
       "</g>\n",
       "\n",
       "<g class=\"displacy-arrow\">\n",
       "    <path class=\"displacy-arc\" id=\"arrow-4725931bb77c4d939206cad8dd8c0a70-0-9\" stroke-width=\"2px\" d=\"M1060,112.0 C1060,57.0 1145.0,57.0 1145.0,112.0\" fill=\"none\" stroke=\"currentColor\"/>\n",
       "    <text dy=\"1.25em\" style=\"font-size: 0.8em; letter-spacing: 1px\">\n",
       "        <textPath xlink:href=\"#arrow-4725931bb77c4d939206cad8dd8c0a70-0-9\" class=\"displacy-label\" startOffset=\"50%\" side=\"left\" fill=\"currentColor\" text-anchor=\"middle\">pobj</textPath>\n",
       "    </text>\n",
       "    <path class=\"displacy-arrowhead\" d=\"M1145.0,114.0 L1151.0,104.0 1139.0,104.0\" fill=\"currentColor\"/>\n",
       "</g>\n",
       "</svg></span>"
      ],
      "text/plain": [
       "<IPython.core.display.HTML object>"
      ]
     },
     "metadata": {},
     "output_type": "display_data"
    }
   ],
   "source": [
    "from spacy import displacy\n",
    "\n",
    "displacy.render(sentence_nlp, jupyter=True, \n",
    "                options={'distance': 110,\n",
    "                         'arrow_stroke': 2,\n",
    "                         'arrow_width': 8})"
   ]
  },
  {
   "cell_type": "markdown",
   "metadata": {
    "id": "lr65VbbyN1JM"
   },
   "source": [
    "## 2. Constituency Parsing\n",
    "\n",
    "Constituent-based grammars are used to analyze and determine the constituents of a sentence. These grammars can be used to model or represent the internal structure of sentences in terms of a hierarchically ordered structure of their constituents. A constituency parser can be built based on such grammars/rules. The grammer has to be defined. \n",
    "\n",
    "One of the popular Constituency Parsing implementation is from stanford. A **probabilistic context-free grammar parser**\n",
    "\n",
    "**TODO: Implement an example** <br>\n",
    "Parser can be downloaded here : `https://nlp.stanford.edu/software/stanford-parser-4.2.0.zip`"
   ]
  },
  {
   "cell_type": "code",
   "execution_count": 7,
   "metadata": {
    "id": "0mOyMCqVPjHb"
   },
   "outputs": [
    {
     "name": "stdout",
     "output_type": "stream",
     "text": [
      "--2023-02-27 16:36:22--  https://nlp.stanford.edu/software/stanford-parser-4.2.0.zip\n",
      "Resolving nlp.stanford.edu (nlp.stanford.edu)... 171.64.67.140\n",
      "Connecting to nlp.stanford.edu (nlp.stanford.edu)|171.64.67.140|:443... connected.\n",
      "HTTP request sent, awaiting response... 302 FOUND\n",
      "Location: https://downloads.cs.stanford.edu/nlp/software/stanford-parser-4.2.0.zip [following]\n",
      "--2023-02-27 16:36:23--  https://downloads.cs.stanford.edu/nlp/software/stanford-parser-4.2.0.zip\n",
      "Resolving downloads.cs.stanford.edu (downloads.cs.stanford.edu)... 171.64.64.22\n",
      "Connecting to downloads.cs.stanford.edu (downloads.cs.stanford.edu)|171.64.64.22|:443... connected.\n",
      "HTTP request sent, awaiting response... 200 OK\n",
      "Length: 182285548 (174M) [application/zip]\n",
      "Saving to: ‘stanford-parser-4.2.0.zip’\n",
      "\n",
      "stanford-parser-4.2 100%[===================>] 173,84M   617KB/s    in 9m 8s   \n",
      "\n",
      "2023-02-27 16:45:33 (325 KB/s) - ‘stanford-parser-4.2.0.zip’ saved [182285548/182285548]\n",
      "\n",
      "Archive:  stanford-parser-4.2.0.zip\n",
      "   creating: stanford-parser-full-2020-11-17/\n",
      "  inflating: stanford-parser-full-2020-11-17/ejml-simple-0.38.jar  \n",
      "  inflating: stanford-parser-full-2020-11-17/StanfordDependenciesManual.pdf  \n",
      "  inflating: stanford-parser-full-2020-11-17/Makefile  \n",
      "  inflating: stanford-parser-full-2020-11-17/ShiftReduceDemo.java  \n",
      "  inflating: stanford-parser-full-2020-11-17/slf4j-api-1.7.12-sources.jar  \n",
      "  inflating: stanford-parser-full-2020-11-17/ejml-core-0.38.jar  \n",
      "  inflating: stanford-parser-full-2020-11-17/build.xml  \n",
      "  inflating: stanford-parser-full-2020-11-17/lexparser-gui.sh  \n",
      "   creating: stanford-parser-full-2020-11-17/data/\n",
      " extracting: stanford-parser-full-2020-11-17/data/chinese-onesent-unseg-gb18030.txt  \n",
      " extracting: stanford-parser-full-2020-11-17/data/arabic-onesent-utf8.txt  \n",
      "  inflating: stanford-parser-full-2020-11-17/data/chinese-onesent-unseg-utf8.txt  \n",
      "  inflating: stanford-parser-full-2020-11-17/data/testsent.txt  \n",
      "  inflating: stanford-parser-full-2020-11-17/data/pos-sentences.txt  \n",
      " extracting: stanford-parser-full-2020-11-17/data/chinese-onesent-utf8.txt  \n",
      " extracting: stanford-parser-full-2020-11-17/data/chinese-onesent-gb18030.txt  \n",
      " extracting: stanford-parser-full-2020-11-17/data/english-onesent.txt  \n",
      " extracting: stanford-parser-full-2020-11-17/data/german-onesent.txt  \n",
      "  inflating: stanford-parser-full-2020-11-17/data/french-onesent.txt  \n",
      "  inflating: stanford-parser-full-2020-11-17/LICENSE.txt  \n",
      "  inflating: stanford-parser-full-2020-11-17/stanford-parser-4.2.0-sources.jar  \n",
      "  inflating: stanford-parser-full-2020-11-17/lexparser-gui.command  \n",
      "  inflating: stanford-parser-full-2020-11-17/README_dependencies.txt  \n",
      "  inflating: stanford-parser-full-2020-11-17/ejml-ddense-0.38.jar  \n",
      "   creating: stanford-parser-full-2020-11-17/conf/\n",
      "  inflating: stanford-parser-full-2020-11-17/conf/ftb-latest.conf  \n",
      "  inflating: stanford-parser-full-2020-11-17/conf/atb-latest.conf  \n",
      "  inflating: stanford-parser-full-2020-11-17/ejml-ddense-0.39-sources.jar  \n",
      "  inflating: stanford-parser-full-2020-11-17/ejml-simple-0.39-sources.jar  \n",
      "  inflating: stanford-parser-full-2020-11-17/README.txt  \n",
      "  inflating: stanford-parser-full-2020-11-17/slf4j-simple.jar  \n",
      "  inflating: stanford-parser-full-2020-11-17/lexparser-lang-train-test.sh  \n",
      "  inflating: stanford-parser-full-2020-11-17/stanford-parser-4.2.0-models.jar  \n",
      "  inflating: stanford-parser-full-2020-11-17/stanford-parser-4.2.0-javadoc.jar  \n",
      "  inflating: stanford-parser-full-2020-11-17/lexparser.sh  \n",
      "  inflating: stanford-parser-full-2020-11-17/lexparser-lang.sh  \n",
      "  inflating: stanford-parser-full-2020-11-17/lexparser.bat  \n",
      "  inflating: stanford-parser-full-2020-11-17/ParserDemo2.java  \n",
      "  inflating: stanford-parser-full-2020-11-17/pom.xml  \n",
      "  inflating: stanford-parser-full-2020-11-17/ejml-core-0.39-sources.jar  \n",
      "  inflating: stanford-parser-full-2020-11-17/stanford-parser.jar  \n",
      "  inflating: stanford-parser-full-2020-11-17/DependencyParserDemo.java  \n",
      "   creating: stanford-parser-full-2020-11-17/bin/\n",
      "  inflating: stanford-parser-full-2020-11-17/bin/makeSerialized.csh  \n",
      "  inflating: stanford-parser-full-2020-11-17/bin/run-tb-preproc  \n",
      "  inflating: stanford-parser-full-2020-11-17/slf4j-api.jar  \n",
      "  inflating: stanford-parser-full-2020-11-17/ParserDemo.java  \n",
      "  inflating: stanford-parser-full-2020-11-17/lexparser_lang.def  \n",
      "  inflating: stanford-parser-full-2020-11-17/lexparser-gui.bat  \n"
     ]
    }
   ],
   "source": [
    "# Download and unzip the parser\n",
    "!wget https://nlp.stanford.edu/software/stanford-parser-4.2.0.zip\n",
    "!unzip stanford-parser-4.2.0.zip"
   ]
  },
  {
   "cell_type": "code",
   "execution_count": 2,
   "metadata": {
    "colab": {
     "base_uri": "https://localhost:8080/"
    },
    "id": "vRcQTPvePkQd",
    "outputId": "92fb3a28-cb1f-47a0-ec14-07ee5be3b737"
   },
   "outputs": [
    {
     "name": "stderr",
     "output_type": "stream",
     "text": [
      "/tmp/ipykernel_97976/2960899494.py:6: DeprecationWarning: The StanfordParser will be deprecated\n",
      "Please use \u001b[91mnltk.parse.corenlp.CoreNLPParser\u001b[0m instead.\n",
      "  scp = StanfordParser('stanford-parser-full-2020-11-17/stanford-parser.jar','stanford-parser-full-2020-11-17/stanford-parser-4.2.0-models.jar')\n"
     ]
    },
    {
     "name": "stdout",
     "output_type": "stream",
     "text": [
      "(ROOT\n",
      "  (S\n",
      "    (NP (NNP Innopolis) (NNP University))\n",
      "    (VP\n",
      "      (VBZ is)\n",
      "      (NP\n",
      "        (NP (DT a) (NN university))\n",
      "        (VP\n",
      "          (VBN located)\n",
      "          (PP\n",
      "            (IN in)\n",
      "            (NP\n",
      "              (NP (DT the) (NN city))\n",
      "              (PP (IN of) (NP (NNP Innopolis))))))))\n",
      "    (. .)))\n"
     ]
    }
   ],
   "source": [
    "import nltk, os\n",
    "from nltk.parse.stanford import StanfordParser\n",
    "\n",
    "os.environ['CLASSPATH'] = 'stanford-parser-full-2020-11-17/*'\n",
    "\n",
    "scp = StanfordParser('stanford-parser-full-2020-11-17/stanford-parser.jar','stanford-parser-full-2020-11-17/stanford-parser-4.2.0-models.jar')\n",
    "\n",
    "sentence = \"Innopolis University is a university located in the city of Innopolis.\"\n",
    "\n",
    "result = list(scp.raw_parse(sentence))\n",
    "print(result[0])"
   ]
  },
  {
   "cell_type": "code",
   "execution_count": 3,
   "metadata": {
    "colab": {
     "base_uri": "https://localhost:8080/",
     "height": 456
    },
    "id": "eDdvWlL2QGG3",
    "outputId": "771d7ce8-22bf-4e58-cb84-6548bcecf7a5"
   },
   "outputs": [
    {
     "data": {
      "image/svg+xml": [
       "<svg baseProfile=\"full\" height=\"504px\" preserveAspectRatio=\"xMidYMid meet\" style=\"font-family: times, serif; font-weight:normal; font-style: normal; font-size: 16px;\" version=\"1.1\" viewBox=\"0,0,688.0,504.0\" width=\"688px\" xmlns=\"http://www.w3.org/2000/svg\" xmlns:ev=\"http://www.w3.org/2001/xml-events\" xmlns:xlink=\"http://www.w3.org/1999/xlink\"><defs /><svg width=\"100%\" x=\"0\" y=\"0em\"><defs /><text text-anchor=\"middle\" x=\"50%\" y=\"1em\">ROOT</text></svg><svg width=\"100%\" x=\"0%\" y=\"3em\"><defs /><svg width=\"100%\" x=\"0\" y=\"0em\"><defs /><text text-anchor=\"middle\" x=\"50%\" y=\"1em\">S</text></svg><svg width=\"26.7442%\" x=\"0%\" y=\"3em\"><defs /><svg width=\"100%\" x=\"0\" y=\"0em\"><defs /><text text-anchor=\"middle\" x=\"50%\" y=\"1em\">NP</text></svg><svg width=\"47.8261%\" x=\"0%\" y=\"3em\"><defs /><svg width=\"100%\" x=\"0\" y=\"0em\"><defs /><text text-anchor=\"middle\" x=\"50%\" y=\"1em\">NNP</text></svg><svg width=\"100%\" x=\"0%\" y=\"3em\"><defs /><svg width=\"100%\" x=\"0\" y=\"0em\"><defs /><text text-anchor=\"middle\" x=\"50%\" y=\"1em\">Innopolis</text></svg></svg><line stroke=\"black\" x1=\"50%\" x2=\"50%\" y1=\"1.2em\" y2=\"3em\" /></svg><line stroke=\"black\" x1=\"50%\" x2=\"23.913%\" y1=\"1.2em\" y2=\"3em\" /><svg width=\"52.1739%\" x=\"47.8261%\" y=\"3em\"><defs /><svg width=\"100%\" x=\"0\" y=\"0em\"><defs /><text text-anchor=\"middle\" x=\"50%\" y=\"1em\">NNP</text></svg><svg width=\"100%\" x=\"0%\" y=\"3em\"><defs /><svg width=\"100%\" x=\"0\" y=\"0em\"><defs /><text text-anchor=\"middle\" x=\"50%\" y=\"1em\">University</text></svg></svg><line stroke=\"black\" x1=\"50%\" x2=\"50%\" y1=\"1.2em\" y2=\"3em\" /></svg><line stroke=\"black\" x1=\"50%\" x2=\"73.913%\" y1=\"1.2em\" y2=\"3em\" /></svg><line stroke=\"black\" x1=\"50%\" x2=\"13.3721%\" y1=\"1.2em\" y2=\"3em\" /><svg width=\"69.7674%\" x=\"26.7442%\" y=\"3em\"><defs /><svg width=\"100%\" x=\"0\" y=\"0em\"><defs /><text text-anchor=\"middle\" x=\"50%\" y=\"1em\">VP</text></svg><svg width=\"8.33333%\" x=\"0%\" y=\"3em\"><defs /><svg width=\"100%\" x=\"0\" y=\"0em\"><defs /><text text-anchor=\"middle\" x=\"50%\" y=\"1em\">VBZ</text></svg><svg width=\"100%\" x=\"0%\" y=\"3em\"><defs /><svg width=\"100%\" x=\"0\" y=\"0em\"><defs /><text text-anchor=\"middle\" x=\"50%\" y=\"1em\">is</text></svg></svg><line stroke=\"black\" x1=\"50%\" x2=\"50%\" y1=\"1.2em\" y2=\"3em\" /></svg><line stroke=\"black\" x1=\"50%\" x2=\"4.16667%\" y1=\"1.2em\" y2=\"3em\" /><svg width=\"91.6667%\" x=\"8.33333%\" y=\"3em\"><defs /><svg width=\"100%\" x=\"0\" y=\"0em\"><defs /><text text-anchor=\"middle\" x=\"50%\" y=\"1em\">NP</text></svg><svg width=\"29.0909%\" x=\"0%\" y=\"3em\"><defs /><svg width=\"100%\" x=\"0\" y=\"0em\"><defs /><text text-anchor=\"middle\" x=\"50%\" y=\"1em\">NP</text></svg><svg width=\"25%\" x=\"0%\" y=\"3em\"><defs /><svg width=\"100%\" x=\"0\" y=\"0em\"><defs /><text text-anchor=\"middle\" x=\"50%\" y=\"1em\">DT</text></svg><svg width=\"100%\" x=\"0%\" y=\"3em\"><defs /><svg width=\"100%\" x=\"0\" y=\"0em\"><defs /><text text-anchor=\"middle\" x=\"50%\" y=\"1em\">a</text></svg></svg><line stroke=\"black\" x1=\"50%\" x2=\"50%\" y1=\"1.2em\" y2=\"3em\" /></svg><line stroke=\"black\" x1=\"50%\" x2=\"12.5%\" y1=\"1.2em\" y2=\"3em\" /><svg width=\"75%\" x=\"25%\" y=\"3em\"><defs /><svg width=\"100%\" x=\"0\" y=\"0em\"><defs /><text text-anchor=\"middle\" x=\"50%\" y=\"1em\">NN</text></svg><svg width=\"100%\" x=\"0%\" y=\"3em\"><defs /><svg width=\"100%\" x=\"0\" y=\"0em\"><defs /><text text-anchor=\"middle\" x=\"50%\" y=\"1em\">university</text></svg></svg><line stroke=\"black\" x1=\"50%\" x2=\"50%\" y1=\"1.2em\" y2=\"3em\" /></svg><line stroke=\"black\" x1=\"50%\" x2=\"62.5%\" y1=\"1.2em\" y2=\"3em\" /></svg><line stroke=\"black\" x1=\"50%\" x2=\"14.5455%\" y1=\"1.2em\" y2=\"3em\" /><svg width=\"70.9091%\" x=\"29.0909%\" y=\"3em\"><defs /><svg width=\"100%\" x=\"0\" y=\"0em\"><defs /><text text-anchor=\"middle\" x=\"50%\" y=\"1em\">VP</text></svg><svg width=\"23.0769%\" x=\"0%\" y=\"3em\"><defs /><svg width=\"100%\" x=\"0\" y=\"0em\"><defs /><text text-anchor=\"middle\" x=\"50%\" y=\"1em\">VBN</text></svg><svg width=\"100%\" x=\"0%\" y=\"3em\"><defs /><svg width=\"100%\" x=\"0\" y=\"0em\"><defs /><text text-anchor=\"middle\" x=\"50%\" y=\"1em\">located</text></svg></svg><line stroke=\"black\" x1=\"50%\" x2=\"50%\" y1=\"1.2em\" y2=\"3em\" /></svg><line stroke=\"black\" x1=\"50%\" x2=\"11.5385%\" y1=\"1.2em\" y2=\"3em\" /><svg width=\"76.9231%\" x=\"23.0769%\" y=\"3em\"><defs /><svg width=\"100%\" x=\"0\" y=\"0em\"><defs /><text text-anchor=\"middle\" x=\"50%\" y=\"1em\">PP</text></svg><svg width=\"13.3333%\" x=\"0%\" y=\"3em\"><defs /><svg width=\"100%\" x=\"0\" y=\"0em\"><defs /><text text-anchor=\"middle\" x=\"50%\" y=\"1em\">IN</text></svg><svg width=\"100%\" x=\"0%\" y=\"3em\"><defs /><svg width=\"100%\" x=\"0\" y=\"0em\"><defs /><text text-anchor=\"middle\" x=\"50%\" y=\"1em\">in</text></svg></svg><line stroke=\"black\" x1=\"50%\" x2=\"50%\" y1=\"1.2em\" y2=\"3em\" /></svg><line stroke=\"black\" x1=\"50%\" x2=\"6.66667%\" y1=\"1.2em\" y2=\"3em\" /><svg width=\"86.6667%\" x=\"13.3333%\" y=\"3em\"><defs /><svg width=\"100%\" x=\"0\" y=\"0em\"><defs /><text text-anchor=\"middle\" x=\"50%\" y=\"1em\">NP</text></svg><svg width=\"42.3077%\" x=\"0%\" y=\"3em\"><defs /><svg width=\"100%\" x=\"0\" y=\"0em\"><defs /><text text-anchor=\"middle\" x=\"50%\" y=\"1em\">NP</text></svg><svg width=\"45.4545%\" x=\"0%\" y=\"3em\"><defs /><svg width=\"100%\" x=\"0\" y=\"0em\"><defs /><text text-anchor=\"middle\" x=\"50%\" y=\"1em\">DT</text></svg><svg width=\"100%\" x=\"0%\" y=\"3em\"><defs /><svg width=\"100%\" x=\"0\" y=\"0em\"><defs /><text text-anchor=\"middle\" x=\"50%\" y=\"1em\">the</text></svg></svg><line stroke=\"black\" x1=\"50%\" x2=\"50%\" y1=\"1.2em\" y2=\"3em\" /></svg><line stroke=\"black\" x1=\"50%\" x2=\"22.7273%\" y1=\"1.2em\" y2=\"3em\" /><svg width=\"54.5455%\" x=\"45.4545%\" y=\"3em\"><defs /><svg width=\"100%\" x=\"0\" y=\"0em\"><defs /><text text-anchor=\"middle\" x=\"50%\" y=\"1em\">NN</text></svg><svg width=\"100%\" x=\"0%\" y=\"3em\"><defs /><svg width=\"100%\" x=\"0\" y=\"0em\"><defs /><text text-anchor=\"middle\" x=\"50%\" y=\"1em\">city</text></svg></svg><line stroke=\"black\" x1=\"50%\" x2=\"50%\" y1=\"1.2em\" y2=\"3em\" /></svg><line stroke=\"black\" x1=\"50%\" x2=\"72.7273%\" y1=\"1.2em\" y2=\"3em\" /></svg><line stroke=\"black\" x1=\"50%\" x2=\"21.1538%\" y1=\"1.2em\" y2=\"3em\" /><svg width=\"57.6923%\" x=\"42.3077%\" y=\"3em\"><defs /><svg width=\"100%\" x=\"0\" y=\"0em\"><defs /><text text-anchor=\"middle\" x=\"50%\" y=\"1em\">PP</text></svg><svg width=\"26.6667%\" x=\"0%\" y=\"3em\"><defs /><svg width=\"100%\" x=\"0\" y=\"0em\"><defs /><text text-anchor=\"middle\" x=\"50%\" y=\"1em\">IN</text></svg><svg width=\"100%\" x=\"0%\" y=\"3em\"><defs /><svg width=\"100%\" x=\"0\" y=\"0em\"><defs /><text text-anchor=\"middle\" x=\"50%\" y=\"1em\">of</text></svg></svg><line stroke=\"black\" x1=\"50%\" x2=\"50%\" y1=\"1.2em\" y2=\"3em\" /></svg><line stroke=\"black\" x1=\"50%\" x2=\"13.3333%\" y1=\"1.2em\" y2=\"3em\" /><svg width=\"73.3333%\" x=\"26.6667%\" y=\"3em\"><defs /><svg width=\"100%\" x=\"0\" y=\"0em\"><defs /><text text-anchor=\"middle\" x=\"50%\" y=\"1em\">NP</text></svg><svg width=\"100%\" x=\"0%\" y=\"3em\"><defs /><svg width=\"100%\" x=\"0\" y=\"0em\"><defs /><text text-anchor=\"middle\" x=\"50%\" y=\"1em\">NNP</text></svg><svg width=\"100%\" x=\"0%\" y=\"3em\"><defs /><svg width=\"100%\" x=\"0\" y=\"0em\"><defs /><text text-anchor=\"middle\" x=\"50%\" y=\"1em\">Innopolis</text></svg></svg><line stroke=\"black\" x1=\"50%\" x2=\"50%\" y1=\"1.2em\" y2=\"3em\" /></svg><line stroke=\"black\" x1=\"50%\" x2=\"50%\" y1=\"1.2em\" y2=\"3em\" /></svg><line stroke=\"black\" x1=\"50%\" x2=\"63.3333%\" y1=\"1.2em\" y2=\"3em\" /></svg><line stroke=\"black\" x1=\"50%\" x2=\"71.1538%\" y1=\"1.2em\" y2=\"3em\" /></svg><line stroke=\"black\" x1=\"50%\" x2=\"56.6667%\" y1=\"1.2em\" y2=\"3em\" /></svg><line stroke=\"black\" x1=\"50%\" x2=\"61.5385%\" y1=\"1.2em\" y2=\"3em\" /></svg><line stroke=\"black\" x1=\"50%\" x2=\"64.5455%\" y1=\"1.2em\" y2=\"3em\" /></svg><line stroke=\"black\" x1=\"50%\" x2=\"54.1667%\" y1=\"1.2em\" y2=\"3em\" /></svg><line stroke=\"black\" x1=\"50%\" x2=\"61.6279%\" y1=\"1.2em\" y2=\"3em\" /><svg width=\"3.48837%\" x=\"96.5116%\" y=\"3em\"><defs /><svg width=\"100%\" x=\"0\" y=\"0em\"><defs /><text text-anchor=\"middle\" x=\"50%\" y=\"1em\">.</text></svg><svg width=\"100%\" x=\"0%\" y=\"3em\"><defs /><svg width=\"100%\" x=\"0\" y=\"0em\"><defs /><text text-anchor=\"middle\" x=\"50%\" y=\"1em\">.</text></svg></svg><line stroke=\"black\" x1=\"50%\" x2=\"50%\" y1=\"1.2em\" y2=\"3em\" /></svg><line stroke=\"black\" x1=\"50%\" x2=\"98.2558%\" y1=\"1.2em\" y2=\"3em\" /></svg><line stroke=\"black\" x1=\"50%\" x2=\"50%\" y1=\"1.2em\" y2=\"3em\" /></svg>"
      ],
      "text/plain": [
       "Tree('ROOT', [Tree('S', [Tree('NP', [Tree('NNP', ['Innopolis']), Tree('NNP', ['University'])]), Tree('VP', [Tree('VBZ', ['is']), Tree('NP', [Tree('NP', [Tree('DT', ['a']), Tree('NN', ['university'])]), Tree('VP', [Tree('VBN', ['located']), Tree('PP', [Tree('IN', ['in']), Tree('NP', [Tree('NP', [Tree('DT', ['the']), Tree('NN', ['city'])]), Tree('PP', [Tree('IN', ['of']), Tree('NP', [Tree('NNP', ['Innopolis'])])])])])])])]), Tree('.', ['.'])])])"
      ]
     },
     "metadata": {},
     "output_type": "display_data"
    }
   ],
   "source": [
    "display(result[0])"
   ]
  },
  {
   "cell_type": "markdown",
   "metadata": {
    "id": "xXw1IdIKPUTX"
   },
   "source": [
    "## References \n",
    "\n",
    "1. [Tree Syntax of Natural Language](https://www.cs.cornell.edu/courses/cs474/2004fa/lec1.pdf)\n",
    "1. [Stanford parser](https://nlp.stanford.edu/software/lex-parser.shtml)\n",
    "1. [Constituency Parsing](https://web.stanford.edu/~jurafsky/slp3/13.pdf)"
   ]
  },
  {
   "cell_type": "markdown",
   "metadata": {
    "id": "DqtRCjG_As_j"
   },
   "source": [
    "# As this content was already covered in Lab 3, the rest of the lab will be focused on how to apply deep learning in few steps, since many of you selected topics related to text generation.\n",
    "\n",
    "- You'd better execute the next code in colab with GPU enabled.\n",
    "- We will not dig into the architectures of these models, as it is the content for the following lectures."
   ]
  },
  {
   "cell_type": "markdown",
   "metadata": {
    "id": "r8aInMIrCcrD"
   },
   "source": [
    "## HuggingFace\n",
    "\n",
    "![image.png](data:image/png;base64,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)"
   ]
  },
  {
   "cell_type": "markdown",
   "metadata": {
    "id": "GlBq_wzACmuX"
   },
   "source": [
    "### [HuggingFace](https://huggingface.co) provides a repository of models and datasets, as well as the libraries to implement or load models."
   ]
  },
  {
   "cell_type": "markdown",
   "metadata": {
    "collapsed": true,
    "id": "PiJHg_stXspF",
    "pycharm": {
     "name": "#%% md\n"
    }
   },
   "source": [
    "## HuggingFace transformers package:\n",
    "The library downloads pretrained models for Natural Language Understanding (NLU) tasks, such as analyzing the sentiment of a text, and Natural Language Generation (NLG), such as completing a prompt with new text or translating in another language."
   ]
  },
  {
   "cell_type": "markdown",
   "metadata": {
    "id": "H7KVhPLSXspJ",
    "pycharm": {
     "name": "#%% md\n"
    }
   },
   "source": [
    "### Sequence classification:\n",
    "#### Sentiment Analysis\n",
    "the task of classifying sequences according to a given number of classes. An example of using pipelines to do sentiment analysis: identifying if a sequence is positive or negative. It leverages a fine-tuned model on sst2."
   ]
  },
  {
   "cell_type": "code",
   "execution_count": 4,
   "metadata": {
    "colab": {
     "base_uri": "https://localhost:8080/"
    },
    "id": "LAw8CadpBK5D",
    "outputId": "cf6cf3a9-3dc7-4a34-dee6-b870c08dfa49"
   },
   "outputs": [
    {
     "name": "stdout",
     "output_type": "stream",
     "text": [
      "Collecting transformers\n",
      "  Downloading transformers-4.26.1-py3-none-any.whl (6.3 MB)\n",
      "\u001b[2K     \u001b[38;2;114;156;31m━━━━━━━━━━━━━━━━━━━━━━━━━━━━━━━━━━━━━━━━\u001b[0m \u001b[32m6.3/6.3 MB\u001b[0m \u001b[31m2.3 MB/s\u001b[0m eta \u001b[36m0:00:00\u001b[0mm eta \u001b[36m0:00:01\u001b[0m[36m0:00:01\u001b[0m\n",
      "\u001b[?25hRequirement already satisfied: packaging>=20.0 in /home/ivan/miniconda3/lib/python3.8/site-packages (from transformers) (22.0)\n",
      "Collecting huggingface-hub<1.0,>=0.11.0\n",
      "  Downloading huggingface_hub-0.12.1-py3-none-any.whl (190 kB)\n",
      "\u001b[2K     \u001b[38;2;114;156;31m━━━━━━━━━━━━━━━━━━━━━━━━━━━━━━━━━━━━━━━\u001b[0m \u001b[32m190.3/190.3 kB\u001b[0m \u001b[31m2.2 MB/s\u001b[0m eta \u001b[36m0:00:00\u001b[0m[31m2.7 MB/s\u001b[0m eta \u001b[36m0:00:01\u001b[0m\n",
      "\u001b[?25hRequirement already satisfied: requests in /home/ivan/miniconda3/lib/python3.8/site-packages (from transformers) (2.28.1)\n",
      "Collecting tokenizers!=0.11.3,<0.14,>=0.11.1\n",
      "  Downloading tokenizers-0.13.2-cp38-cp38-manylinux_2_17_x86_64.manylinux2014_x86_64.whl (7.6 MB)\n",
      "\u001b[2K     \u001b[38;2;114;156;31m━━━━━━━━━━━━━━━━━━━━━━━━━━━━━━━━━━━━━━━━\u001b[0m \u001b[32m7.6/7.6 MB\u001b[0m \u001b[31m1.5 MB/s\u001b[0m eta \u001b[36m0:00:00\u001b[0mm eta \u001b[36m0:00:01\u001b[0m[36m0:00:01\u001b[0m\n",
      "\u001b[?25hRequirement already satisfied: pyyaml>=5.1 in /opt/ros/noetic/lib/python3/dist-packages (from transformers) (6.0)\n",
      "Requirement already satisfied: filelock in /home/ivan/miniconda3/lib/python3.8/site-packages (from transformers) (3.8.0)\n",
      "Requirement already satisfied: tqdm>=4.27 in /home/ivan/.local/lib/python3.8/site-packages (from transformers) (4.64.1)\n",
      "Requirement already satisfied: regex!=2019.12.17 in /home/ivan/miniconda3/lib/python3.8/site-packages (from transformers) (2022.10.31)\n",
      "Requirement already satisfied: numpy>=1.17 in /home/ivan/miniconda3/lib/python3.8/site-packages (from transformers) (1.23.3)\n",
      "Requirement already satisfied: typing-extensions>=3.7.4.3 in /home/ivan/miniconda3/lib/python3.8/site-packages (from huggingface-hub<1.0,>=0.11.0->transformers) (4.4.0)\n",
      "Requirement already satisfied: certifi>=2017.4.17 in /home/ivan/miniconda3/lib/python3.8/site-packages (from requests->transformers) (2022.12.7)\n",
      "Requirement already satisfied: urllib3<1.27,>=1.21.1 in /home/ivan/miniconda3/lib/python3.8/site-packages (from requests->transformers) (1.26.13)\n",
      "Requirement already satisfied: idna<4,>=2.5 in /home/ivan/miniconda3/lib/python3.8/site-packages (from requests->transformers) (3.4)\n",
      "Requirement already satisfied: charset-normalizer<3,>=2 in /home/ivan/miniconda3/lib/python3.8/site-packages (from requests->transformers) (2.1.1)\n",
      "Installing collected packages: tokenizers, huggingface-hub, transformers\n",
      "  Attempting uninstall: huggingface-hub\n",
      "    Found existing installation: huggingface-hub 0.9.1\n",
      "    Uninstalling huggingface-hub-0.9.1:\n",
      "      Successfully uninstalled huggingface-hub-0.9.1\n",
      "Successfully installed huggingface-hub-0.12.1 tokenizers-0.13.2 transformers-4.26.1\n",
      "\n",
      "\u001b[1m[\u001b[0m\u001b[34;49mnotice\u001b[0m\u001b[1;39;49m]\u001b[0m\u001b[39;49m A new release of pip is available: \u001b[0m\u001b[31;49m23.0\u001b[0m\u001b[39;49m -> \u001b[0m\u001b[32;49m23.0.1\u001b[0m\n",
      "\u001b[1m[\u001b[0m\u001b[34;49mnotice\u001b[0m\u001b[1;39;49m]\u001b[0m\u001b[39;49m To update, run: \u001b[0m\u001b[32;49mpip install --upgrade pip\u001b[0m\n"
     ]
    }
   ],
   "source": [
    "!pip install transformers"
   ]
  },
  {
   "cell_type": "code",
   "execution_count": 5,
   "metadata": {
    "colab": {
     "base_uri": "https://localhost:8080/",
     "height": 218,
     "referenced_widgets": [
      "4079514fd81844f2820a3c9e8356462a",
      "beb91d47d5a2429b80558c722d5f85ea",
      "b3977eb79636450882e5c324a8d736d6",
      "bd74d95512e449dbb102fc3e86e2410c",
      "d953083ae8794c198ee299e51c1e6d32",
      "7c7e47491ac142708baaf9eafd437f88",
      "ad93b0b9d1b945c8b35e50b272927726",
      "18c0b04ff65f4944b8bcbb19927bdd5c",
      "f9c13ecfff5b464896ed3ac25f4abfae",
      "ed1edbba4c1742f685e43b472ecf512a",
      "4ec09f100259432ca0f7fc3dfd110588",
      "8540437c9d2f4926b32d639671cd0479",
      "2e74fe3895c54b7aa6382523dc211c06",
      "0436f094d24549aab79c28febf9e39a8",
      "e065a2dd68f84d1597b984f921778d4a",
      "c669cc570cf74ad3b5c283e55b7ccfa4",
      "9973660ac0ff467dbb7ccc98997caa8c",
      "ffa78a1dd03444f99bf074e7c43a24d9",
      "21ee773b54c44742967a041114e9fd86",
      "4631d995feb64638a56c3e1caf103b1d",
      "042f39eada2a46f0bbf1b6cde6c327c5",
      "e7238f7456534de2a4bdea29706b2970",
      "b7e0ee89567f4804acd07cff1e41d042",
      "37cda4711fec4e35a644ad9fce0ea6ed",
      "2fde72d9217e4c338762baac9ad4da70",
      "673838dc2e194316a2d00a4c540aabb0",
      "f358ba6513e4480a90117363e423da44",
      "ed32e7d7092a4c1bb4bcef422f601b19",
      "868e69e033e64dd0b1224418a1f1a5e0",
      "1efa49784547407e8a9d5f5e1587efd3",
      "0d8d14e29edd4fd68d6120b96188f24d",
      "52b495f72fba45f1babc1ab0d4a256a4",
      "527c49fe04ba45458324d93c66fdd871",
      "237bbcc7fbf243359cb4f53927a5aadf",
      "85192751f1db48bc8e548d8e65bad38e",
      "9f97865a514c4e9ba68a144d079362f0",
      "a77cf2c59bb147f9985ac583c6fd3be0",
      "b61f3dec4a29406e85b5c24d068690db",
      "a6a9ec6beb4b47e291a6340108fed9da",
      "8747d95fdb644176978d8432ada5a4ba",
      "37f1d925ea344cf381008d2611483c91",
      "4c0c5870f1454b7c9c20067d97846abe",
      "42e46ae3a5d349d0a0b7e488db8aa7ed",
      "5cf7532956a14ab68051e06783b0d3cc"
     ]
    },
    "id": "NMRS420UXspK",
    "outputId": "5a5dbee4-bca7-47f9-b795-59a7692aef25",
    "pycharm": {
     "name": "#%%\n"
    }
   },
   "outputs": [
    {
     "name": "stderr",
     "output_type": "stream",
     "text": [
      "No model was supplied, defaulted to distilbert-base-uncased-finetuned-sst-2-english and revision af0f99b (https://huggingface.co/distilbert-base-uncased-finetuned-sst-2-english).\n",
      "Using a pipeline without specifying a model name and revision in production is not recommended.\n"
     ]
    },
    {
     "data": {
      "application/vnd.jupyter.widget-view+json": {
       "model_id": "f05b7627834e4cbab9e861193fffa2bb",
       "version_major": 2,
       "version_minor": 0
      },
      "text/plain": [
       "Downloading (…)lve/main/config.json:   0%|          | 0.00/629 [00:00<?, ?B/s]"
      ]
     },
     "metadata": {},
     "output_type": "display_data"
    },
    {
     "data": {
      "application/vnd.jupyter.widget-view+json": {
       "model_id": "3a776855609542e09ed83d26da71436f",
       "version_major": 2,
       "version_minor": 0
      },
      "text/plain": [
       "Downloading (…)\"pytorch_model.bin\";:   0%|          | 0.00/268M [00:00<?, ?B/s]"
      ]
     },
     "metadata": {},
     "output_type": "display_data"
    },
    {
     "data": {
      "application/vnd.jupyter.widget-view+json": {
       "model_id": "a0a2ccb4b18e494a837d3ae6d57a4242",
       "version_major": 2,
       "version_minor": 0
      },
      "text/plain": [
       "Downloading (…)okenizer_config.json:   0%|          | 0.00/48.0 [00:00<?, ?B/s]"
      ]
     },
     "metadata": {},
     "output_type": "display_data"
    },
    {
     "data": {
      "application/vnd.jupyter.widget-view+json": {
       "model_id": "cd609a8b8c1f4c859ab6ec64d2d44d5a",
       "version_major": 2,
       "version_minor": 0
      },
      "text/plain": [
       "Downloading (…)solve/main/vocab.txt:   0%|          | 0.00/232k [00:00<?, ?B/s]"
      ]
     },
     "metadata": {},
     "output_type": "display_data"
    },
    {
     "name": "stdout",
     "output_type": "stream",
     "text": [
      "label: NEGATIVE, with score: 0.9991\n",
      "label: POSITIVE, with score: 0.9999\n"
     ]
    }
   ],
   "source": [
    "from transformers import pipeline\n",
    "\n",
    "nlp = pipeline(\"sentiment-analysis\")\n",
    "result = nlp(\"I hate you\")[0]\n",
    "print(f\"label: {result['label']}, with score: {round(result['score'], 4)}\")\n",
    "result = nlp(\"I love you\")[0]\n",
    "print(f\"label: {result['label']}, with score: {round(result['score'], 4)}\")"
   ]
  },
  {
   "cell_type": "markdown",
   "metadata": {
    "id": "xPy1KpxeXspM",
    "pycharm": {
     "name": "#%% md\n"
    }
   },
   "source": [
    "#### Paraphrasing detection\n",
    "an example of doing a sequence classification using a model to determine if two sequences are paraphrases of each other. The process is the following:\n",
    "\n",
    "1. Instantiate a tokenizer and a model from the checkpoint name. The model is identified as a BERT model and loads it with the weights stored in the checkpoint.\n",
    "\n",
    "2. Build a sequence from the two sentences, with the correct model-specific separators token type ids and attention masks (encode() and __call__() take care of this).\n",
    "\n",
    "3. Pass this sequence through the model so that it is classified in one of the two available classes: 0 (not a paraphrase) and 1 (is a paraphrase).\n",
    "\n",
    "4. Compute the softmax of the result to get probabilities over the classes.\n",
    "\n",
    "5. Print the results."
   ]
  },
  {
   "cell_type": "code",
   "execution_count": 6,
   "metadata": {
    "colab": {
     "base_uri": "https://localhost:8080/",
     "height": 250,
     "referenced_widgets": [
      "b73129281486446babd0e822b436d8a0",
      "2bc26632ef4640109187ad23f8136b4a",
      "179cfe800aa74de887e52b5f1523896b",
      "905da3d453c94cb3af9414008aa3b3e1",
      "28a5eac5bfb940319d074ca00194b7ec",
      "5f384e743fe24f63aefd4e36320fe9b9",
      "b2f4990a171f45758451f639eb0d6c27",
      "42437abe1bf446488672f2b1a59b0ec0",
      "740c5fc67def4e91ab4b1d04e967f1e1",
      "137e3b6cbb5f4092bb3e6a2425914a2e",
      "78b5d11b8dfb4c51837741e339b5aaf2",
      "8886b94beef6463aaddc5507a5603079",
      "733467d3a9da44cea9aa5e3c51087512",
      "a76bd0b32a8146639449627e5f45cab5",
      "e2c0e3288e1540ce92c28d37fcdf4358",
      "f304cc0d5bf947089640eb9189c582bc",
      "f2d7123fc2d9474daf19e8e485ce0d47",
      "0bdab81e983b49eba225d9b961b8601a",
      "46c628ee9eb74cf8a25157b011b78569",
      "e832cb0359a841fc915c9384ab10e520",
      "836bfc960ecd4ae2aee485cab4e0b209",
      "398de76e6104470289a9272531a08f2a",
      "3abde6b678d9402ab333ea79ab07041c",
      "4d24d9d30b044845a2e5c356e29955fc",
      "458769fc07f34e868ebe6ec5dcd16098",
      "fc264b1a616b4ff4b0cb632785a21e4f",
      "8057f266935649f6b711da5403aeb7a8",
      "3dd7564508514d6889c23cb9eb9a1236",
      "ef5d31a332ba43aa9c08f6f841903d40",
      "0aa069bc83e8404b8d1126fbdefa8907",
      "5ddb990d12a74ad58983dc894f588da0",
      "dad769ccf6614d1f9541139ed7595afc",
      "171fa1be87a8491b9c18dcae2b71f4b5",
      "5433c874ff6446ee81bb75a2eed8d99f",
      "373c2fd4cfe24269ad5246452b75d8f9",
      "a7ba25b243bf42ce88c149c79b45e65d",
      "d98548141330403fa09fad8d710a2de5",
      "a35639a29201439c98d63d336bf428f6",
      "80594dc9d076473b87fa4e78be2b91f9",
      "f7beab570e864d88b9446d7bf076f466",
      "85a40e09c6d046eda97878def94f349e",
      "d7161fe5eb504310b55dd3c752fd39bd",
      "253cda3131074756a82b21d07a66874f",
      "eb7f35ad052b43408008d406219f7bdf",
      "477d613a43714b28a0c65ebaa0f6fb50",
      "549bea5b2dec4dd08fbcff12d7378090",
      "52d646e67f67471fafa6faefa66b9d1a",
      "ab37ef3599494bca9ba5d972a8b9075b",
      "faa88d5110ca40f2b8c1313d885151c9",
      "40be96c1385546e29050b58fc44752ce",
      "ccf9e47d69b04921bf64b686d707fea3",
      "e7048dc161754f2396e496822ff4c2a5",
      "600166c2eabb49719171e0220fd969e1",
      "68d48e3cda294d17a0266e58662e051f",
      "2e41d7126f6847548b1078cbdaa43387"
     ]
    },
    "id": "pZkcbES-XspN",
    "outputId": "e5b87fb2-8983-4b73-c4e5-7594024245af",
    "pycharm": {
     "name": "#%%\n"
    }
   },
   "outputs": [
    {
     "data": {
      "application/vnd.jupyter.widget-view+json": {
       "model_id": "9742e5c6cd2e4404bef749ef7f76e0aa",
       "version_major": 2,
       "version_minor": 0
      },
      "text/plain": [
       "Downloading (…)okenizer_config.json:   0%|          | 0.00/29.0 [00:00<?, ?B/s]"
      ]
     },
     "metadata": {},
     "output_type": "display_data"
    },
    {
     "data": {
      "application/vnd.jupyter.widget-view+json": {
       "model_id": "e12d290952ee43fdb06033e03b35b7cf",
       "version_major": 2,
       "version_minor": 0
      },
      "text/plain": [
       "Downloading (…)lve/main/config.json:   0%|          | 0.00/433 [00:00<?, ?B/s]"
      ]
     },
     "metadata": {},
     "output_type": "display_data"
    },
    {
     "data": {
      "application/vnd.jupyter.widget-view+json": {
       "model_id": "9df15ce1739848b081b77d7480b9b870",
       "version_major": 2,
       "version_minor": 0
      },
      "text/plain": [
       "Downloading (…)solve/main/vocab.txt:   0%|          | 0.00/213k [00:00<?, ?B/s]"
      ]
     },
     "metadata": {},
     "output_type": "display_data"
    },
    {
     "data": {
      "application/vnd.jupyter.widget-view+json": {
       "model_id": "524a88af57ea4019a89e00cea9d40091",
       "version_major": 2,
       "version_minor": 0
      },
      "text/plain": [
       "Downloading (…)/main/tokenizer.json:   0%|          | 0.00/436k [00:00<?, ?B/s]"
      ]
     },
     "metadata": {},
     "output_type": "display_data"
    },
    {
     "data": {
      "application/vnd.jupyter.widget-view+json": {
       "model_id": "7cfd4bc283134806a06bb0c73fccc377",
       "version_major": 2,
       "version_minor": 0
      },
      "text/plain": [
       "Downloading (…)\"pytorch_model.bin\";:   0%|          | 0.00/433M [00:00<?, ?B/s]"
      ]
     },
     "metadata": {},
     "output_type": "display_data"
    },
    {
     "name": "stdout",
     "output_type": "stream",
     "text": [
      "not paraphrase: 10%\n",
      "is paraphrase: 90%\n",
      "not paraphrase: 94%\n",
      "is paraphrase: 6%\n"
     ]
    }
   ],
   "source": [
    "from transformers import AutoTokenizer, AutoModelForSequenceClassification\n",
    "import torch\n",
    "\n",
    "tokenizer = AutoTokenizer.from_pretrained(\"bert-base-cased-finetuned-mrpc\")\n",
    "model = AutoModelForSequenceClassification.from_pretrained(\"bert-base-cased-finetuned-mrpc\")\n",
    "\n",
    "classes = [\"not paraphrase\", \"is paraphrase\"]\n",
    "\n",
    "sequence_0 = \"The company HuggingFace is based in New York City\"\n",
    "sequence_1 = \"Apples are especially bad for your health\"\n",
    "sequence_2 = \"HuggingFace's headquarters are situated in Manhattan\"\n",
    "\n",
    "paraphrase = tokenizer(sequence_0, sequence_2, return_tensors=\"pt\")\n",
    "not_paraphrase = tokenizer(sequence_0, sequence_1, return_tensors=\"pt\")\n",
    "\n",
    "paraphrase_classification_logits = model(**paraphrase).logits\n",
    "not_paraphrase_classification_logits = model(**not_paraphrase).logits\n",
    "\n",
    "paraphrase_results = torch.softmax(paraphrase_classification_logits, dim=1).tolist()[0]\n",
    "not_paraphrase_results = torch.softmax(not_paraphrase_classification_logits, dim=1).tolist()[0]\n",
    "# Should be paraphrase\n",
    "for i in range(len(classes)):\n",
    "    print(f\"{classes[i]}: {int(round(paraphrase_results[i] * 100))}%\")\n",
    "# Should not be paraphrase\n",
    "for i in range(len(classes)):\n",
    "    print(f\"{classes[i]}: {int(round(not_paraphrase_results[i] * 100))}%\")"
   ]
  },
  {
   "cell_type": "markdown",
   "metadata": {
    "id": "UBXlhTDFXspO",
    "pycharm": {
     "name": "#%% md\n"
    }
   },
   "source": [
    "#### Extractive Question Answering\n",
    "Extractive Question Answering is the task of extracting an answer from a text given a question.\n",
    "\n",
    "An example of a question answering dataset is the SQuAD dataset, which is entirely based on that task."
   ]
  },
  {
   "cell_type": "code",
   "execution_count": 7,
   "metadata": {
    "colab": {
     "base_uri": "https://localhost:8080/",
     "height": 214,
     "referenced_widgets": [
      "9ad6f519456449a69bed0a3690d7d40b",
      "9f4f56183705492d8c92ef210959b1dd",
      "c722895748454f83b8777aa55b24e395",
      "9bcb6f9bc79c43d7a1a2da3ddaef5060",
      "2efd82bea723472a9d8213d41315ab57",
      "ac39d7d10b7a4278906a5063653dc30e",
      "085ce055668a47b39c370289f50b6465",
      "56e0b4be0f944f5e997ff99371e755ea",
      "df2ebcc5ed674108b43fed4755e6a5ac",
      "c26dac5af4d14a5ca496e30af4be0656",
      "6ee1d7d8c5a045f9a2a81cb2870665a0",
      "473df0be70ce44b1aa8e43b5ad915e49",
      "44ea8ac4675b462d8b302c977d843157",
      "17b2ff9f9e024eb79bab11fc7a7cc4ce",
      "be5d10d4c5a94da8a83f72c3b8708492",
      "22fb88f209114652b54218fd9a3d2421",
      "8aa7c05b60ca48698e506f38492fceb0",
      "c915fcadcf404036ad0e158f644693df",
      "3fa1387aeafd4208b23f3c4ca3e077c5",
      "303d7bea27be4813ab8c4eda85435d99",
      "1a5bd7dbc3c54134b94e13a8ea752dec",
      "64dc5e6785e4499793b171298f805371",
      "5666fcf9848a48ff9c1f2e838af04354",
      "a22a898e1e2545a29febc0f120ff01d6",
      "5b944228091b4d13b5343d41ce81cf66",
      "97c5c34088a147eb84d9e75712958de0",
      "9e13225b64f14ac4b8c4ddc96cb76073",
      "3d0ae2b03f344c50b3bd2ef815b0ad71",
      "f2d76297350441e7a62be8cf60b81c69",
      "991a3c536839425ca06ff044f6bbd59e",
      "b8902adeb03c4e21a1c57c5d76d72617",
      "dd647377a31e4b6b8267d003c7979870",
      "4c71b6a9ce4d4d5eb23fe40f714f7100",
      "36128809d03a406ea0e04e307b77c4ca",
      "9347b36e50074c5988c10dc439029183",
      "06f4fc14b1834b4fbfe24b6635cb63f6",
      "1c1f32b9d8d34c2b808a37a5cc1520eb",
      "4e83816ef9df4a45a64381e239b2539c",
      "34dbb034bdf24673a529c21c71353ccb",
      "79dc80e0efa04fb8a838a4aae3088bb9",
      "676cd626124f483cb164307d724abecf",
      "92744d912a524f2f934da97be571e191",
      "1fbb18bd42694d53a6ee42461e21579d",
      "7478fcbc46f24786a0bc09687493e0a4",
      "3bac7fb8617f41d49d1387ace7a2864a",
      "85c392dd87d54035a14602f402434879",
      "50447ea6becf4b3caa4e7a0505fbfcf5",
      "b9e16fac4c0349d48005eacf86937014",
      "ded9b42935a640189f1b9691ba503759",
      "787968ead049416793654aeaf6e007be",
      "dc4833a742224c7fb11d2f3c4db84af9",
      "6ca56b9e31a84b8ca05d33cadfb468b0",
      "667a371bf03643bbb50646ef2adac7dd",
      "2c2ede0b621549ffbc9c776298506697",
      "0930c6e42e484f9f9f19a91e018fbb53"
     ]
    },
    "id": "pL5SwKIDXspP",
    "outputId": "ea0c6cde-0c91-480a-f397-41df9b5ecb3d",
    "pycharm": {
     "name": "#%%\n"
    }
   },
   "outputs": [
    {
     "name": "stderr",
     "output_type": "stream",
     "text": [
      "No model was supplied, defaulted to distilbert-base-cased-distilled-squad and revision 626af31 (https://huggingface.co/distilbert-base-cased-distilled-squad).\n",
      "Using a pipeline without specifying a model name and revision in production is not recommended.\n"
     ]
    },
    {
     "data": {
      "application/vnd.jupyter.widget-view+json": {
       "model_id": "f743e4ab7e6b4a479c3446b342703363",
       "version_major": 2,
       "version_minor": 0
      },
      "text/plain": [
       "Downloading (…)lve/main/config.json:   0%|          | 0.00/473 [00:00<?, ?B/s]"
      ]
     },
     "metadata": {},
     "output_type": "display_data"
    },
    {
     "data": {
      "application/vnd.jupyter.widget-view+json": {
       "model_id": "e5efbc3af61644ff971e19aff4ca1455",
       "version_major": 2,
       "version_minor": 0
      },
      "text/plain": [
       "Downloading (…)\"pytorch_model.bin\";:   0%|          | 0.00/261M [00:00<?, ?B/s]"
      ]
     },
     "metadata": {},
     "output_type": "display_data"
    },
    {
     "data": {
      "application/vnd.jupyter.widget-view+json": {
       "model_id": "608b2ac1fd6f4a939532a034fe83c213",
       "version_major": 2,
       "version_minor": 0
      },
      "text/plain": [
       "Downloading (…)okenizer_config.json:   0%|          | 0.00/29.0 [00:00<?, ?B/s]"
      ]
     },
     "metadata": {},
     "output_type": "display_data"
    },
    {
     "data": {
      "application/vnd.jupyter.widget-view+json": {
       "model_id": "7d6dc171c8a34ef69fc853828eeecdd5",
       "version_major": 2,
       "version_minor": 0
      },
      "text/plain": [
       "Downloading (…)solve/main/vocab.txt:   0%|          | 0.00/213k [00:00<?, ?B/s]"
      ]
     },
     "metadata": {},
     "output_type": "display_data"
    },
    {
     "data": {
      "application/vnd.jupyter.widget-view+json": {
       "model_id": "e1622540950847019a9448c53f952b71",
       "version_major": 2,
       "version_minor": 0
      },
      "text/plain": [
       "Downloading (…)/main/tokenizer.json:   0%|          | 0.00/436k [00:00<?, ?B/s]"
      ]
     },
     "metadata": {},
     "output_type": "display_data"
    }
   ],
   "source": [
    "from transformers import pipeline\n",
    "nlp = pipeline(\"question-answering\")\n",
    "context = r\"\"\"\n",
    "Extractive Question Answering is the task of extracting an answer from a text given a question. An example of a\n",
    "question answering dataset is the SQuAD dataset, which is entirely based on that task. If you would like to fine-tune\n",
    "a model on a SQuAD task, you may leverage the examples/question-answering/run_squad.py script.\n",
    "\"\"\""
   ]
  },
  {
   "cell_type": "markdown",
   "metadata": {
    "id": "Gw6BaM4zXspQ",
    "pycharm": {
     "name": "#%% md\n"
    }
   },
   "source": [
    "This returns an answer extracted from the text, a confidence score, alongside “start” and “end” values, which are the positions of the extracted answer in the text.\n"
   ]
  },
  {
   "cell_type": "code",
   "execution_count": 8,
   "metadata": {
    "colab": {
     "base_uri": "https://localhost:8080/"
    },
    "id": "L8TLm8TXXspb",
    "outputId": "1e2267d7-2619-4229-95a7-ead6c4497196",
    "pycharm": {
     "name": "#%%\n"
    }
   },
   "outputs": [
    {
     "name": "stdout",
     "output_type": "stream",
     "text": [
      "Answer: 'the task of extracting an answer from a text given a question', score: 0.6226, start: 34, end: 95\n",
      "Answer: 'SQuAD dataset', score: 0.5053, start: 147, end: 160\n"
     ]
    }
   ],
   "source": [
    "result = nlp(question=\"What is extractive question answering?\", context=context)\n",
    "print(f\"Answer: '{result['answer']}', score: {round(result['score'], 4)}, start: {result['start']}, end: {result['end']}\")\n",
    "result = nlp(question=\"What is a good example of a question answering dataset?\", context=context)\n",
    "print(f\"Answer: '{result['answer']}', score: {round(result['score'], 4)}, start: {result['start']}, end: {result['end']}\")"
   ]
  },
  {
   "cell_type": "code",
   "execution_count": 9,
   "metadata": {
    "id": "6OUnBr8SY1BL"
   },
   "outputs": [
    {
     "name": "stderr",
     "output_type": "stream",
     "text": [
      "No model was supplied, defaulted to distilbert-base-cased-distilled-squad and revision 626af31 (https://huggingface.co/distilbert-base-cased-distilled-squad).\n",
      "Using a pipeline without specifying a model name and revision in production is not recommended.\n"
     ]
    },
    {
     "name": "stdout",
     "output_type": "stream",
     "text": [
      "Answer: 'the world's largest coral reef system', score: 0.4659, start: 27, end: 64\n",
      "Answer: 'the world's biggest single structure made by living organisms', score: 0.1133, start: 379, end: 440\n"
     ]
    }
   ],
   "source": [
    "# run this model on a different text and query\n",
    "\n",
    "from transformers import pipeline\n",
    "\n",
    "nlp = pipeline(\"question-answering\")\n",
    "\n",
    "context = r\"\"\"\n",
    "The Great Barrier Reef is the world's largest coral reef system composed of over 2,900 individual reefs and 900 islands\n",
    "stretching for over 2,300 kilometers (1,400 mi) over an area of approximately 344,400 square kilometers (133,000 sq mi).\n",
    "The reef is located in the Coral Sea, off the coast of Queensland, Australia. The Great Barrier Reef can be seen from\n",
    "outer space and is the world's biggest single structure made by living organisms. This reef structure is composed of and\n",
    "built by billions of tiny organisms, known as coral polyps. It supports a wide diversity of life and was selected as a\n",
    "World Heritage Site in 1981. CNN named it one of the seven natural wonders of the world.\n",
    "\"\"\"\n",
    "\n",
    "result = nlp(question=\"What is the Great Barrier Reef?\", context=context)\n",
    "print(f\"Answer: '{result['answer']}', score: {round(result['score'], 4)}, start: {result['start']}, end: {result['end']}\")\n",
    "\n",
    "result = nlp(question=\"What is the significance of the Great Barrier Reef?\", context=context)\n",
    "print(f\"Answer: '{result['answer']}', score: {round(result['score'], 4)}, start: {result['start']}, end: {result['end']}\")\n"
   ]
  },
  {
   "cell_type": "markdown",
   "metadata": {
    "id": "0gwP7uJkXspc",
    "pycharm": {
     "name": "#%% md\n"
    }
   },
   "source": [
    "### Language Modeling\n",
    "#### Masked Language Modeling\n",
    "\n",
    "The objective of Masked Language Model (MLM) training is to hide a word in a sentence and then have the program predict what word has been hidden (masked) based on the hidden word's context. The objective of Next Sentence Prediction training is to have the program predict whether two given sentences have a logical, sequential connection or whether their relationship is simply random."
   ]
  },
  {
   "cell_type": "code",
   "execution_count": 10,
   "metadata": {
    "colab": {
     "base_uri": "https://localhost:8080/",
     "height": 214,
     "referenced_widgets": [
      "102c3da9a93d47b2a47b9fb32ddec9d2",
      "18cc7b1c1f0e44249da773268d0a9fa6",
      "ab1a22adad26434eb4e1e9daa3b46db1",
      "329da323b1ee4c7086be874d58aee566",
      "b68888227fb8476797d7c4a4be5b52b5",
      "843b046f9db048e1aca2c66ced94c38a",
      "f9fb8a78478946948e996d1a3ea1fb50",
      "9cf51de54f0a406a8bc3347d930e616b",
      "c886a048059847418248d6d7c9011a73",
      "6e10634de3924846a7f4e13e5a31a375",
      "a59fa7310bee4939ab551519e7b894f5",
      "603aff1ce2bd47ec998bb0c9f916b493",
      "8a94821506df4db8a6acf304dea65b65",
      "7f2ecffd864041c285a8dd6798c55bef",
      "90bdadc2e15946cc8eac26e8619eb1b5",
      "9ba5692645264f5cbccd199f7bff3433",
      "37d0ac86968d446cab1b6d0113875be3",
      "c313801622944e2690c0c17609097737",
      "37bcb9faec8c44cb851beba0b5599bd7",
      "5e346e818a004750b2656e7b360ddb4d",
      "73bf104e4ca04b8ab4ed5879a4eda9a3",
      "94b935a361b54fc99530819ad90e9ef2",
      "bedf4f73c78b47abab246e0f81240c04",
      "b6effcf2131f4e71a113ab3d8802bb59",
      "7165b40aa0f64104a08bb8a9d2139614",
      "66595c55497c4573b51a1c4c495d7f6c",
      "11c0acb918b34945954bbea98b3af2f1",
      "3fcb8b33853a4b00bf220c1a74239748",
      "f2dc98aade4741c09cb723e42c60fb38",
      "4be228b4a29a491eab4bb267b45cd336",
      "c0b72f202c624457b9695c4cd08c182b",
      "3fa82cfd0c8f43b5990c69daf1edfda5",
      "3b07fca7053e4df990d61c926af8ea86",
      "5f1f325a67274cebb47b20eeb92cf890",
      "6190eaab587c4833ab2672b97e350779",
      "fc6907825d29406ca7b33a07f5103233",
      "7a8e66b0f87c4cb296f0cd3a7a4064ee",
      "64b11f5f48f84dae83923c2bb6d7c151",
      "31948b994a8047b8888affc96f91a5f8",
      "f4323f2a2f7c4bb493c6fdcd0c487c07",
      "ad91b1acc2f3489789533b2e32e76e58",
      "e84cd3421a104c4a888dbcf20d8dc01c",
      "2809dd69c3664f87a852087f52da98ca",
      "cbe2a8b77ecb440ea2666eb095599e7b",
      "37cbe71f98104eb8a321b994c1d1999d",
      "96f3a9cee96c41d3bb24365475ffa5bc",
      "d991d824a3f844699a4489766ac48d84",
      "cbd2399ee7ba4c81941951abae53ad09",
      "7091f05b0b97441984567f58a2a30b4c",
      "fab461b6023944e88f5b6f59413340db",
      "2f8492f9d03e4695a1e0db3b8b1ef7f9",
      "03fe18786b634e399c1ca78d7ea0da8d",
      "dd7481799c0541a8b4667a92ee45e55d",
      "a965a4de4fd145aba8484d3ee6352dbf",
      "a84a19b9f8ac4b1f92bfd83323711d23"
     ]
    },
    "id": "lhmqj6dqXspd",
    "outputId": "b7022b98-6ef3-4a50-e1c8-fca463baeb39",
    "pycharm": {
     "name": "#%%\n"
    }
   },
   "outputs": [
    {
     "name": "stderr",
     "output_type": "stream",
     "text": [
      "No model was supplied, defaulted to distilroberta-base and revision ec58a5b (https://huggingface.co/distilroberta-base).\n",
      "Using a pipeline without specifying a model name and revision in production is not recommended.\n"
     ]
    },
    {
     "data": {
      "application/vnd.jupyter.widget-view+json": {
       "model_id": "9034f268980f4fbc9633964f6d70b396",
       "version_major": 2,
       "version_minor": 0
      },
      "text/plain": [
       "Downloading (…)lve/main/config.json:   0%|          | 0.00/480 [00:00<?, ?B/s]"
      ]
     },
     "metadata": {},
     "output_type": "display_data"
    },
    {
     "data": {
      "application/vnd.jupyter.widget-view+json": {
       "model_id": "b7c8e42e8e6b46c6b0531232e939bfd5",
       "version_major": 2,
       "version_minor": 0
      },
      "text/plain": [
       "Downloading (…)\"pytorch_model.bin\";:   0%|          | 0.00/331M [00:00<?, ?B/s]"
      ]
     },
     "metadata": {},
     "output_type": "display_data"
    },
    {
     "data": {
      "application/vnd.jupyter.widget-view+json": {
       "model_id": "4984b9d912f044a3826583c55f7fae92",
       "version_major": 2,
       "version_minor": 0
      },
      "text/plain": [
       "Downloading (…)olve/main/vocab.json:   0%|          | 0.00/899k [00:00<?, ?B/s]"
      ]
     },
     "metadata": {},
     "output_type": "display_data"
    },
    {
     "data": {
      "application/vnd.jupyter.widget-view+json": {
       "model_id": "a8c6bf4a1f0548a1b7e95e80297ccbe2",
       "version_major": 2,
       "version_minor": 0
      },
      "text/plain": [
       "Downloading (…)olve/main/merges.txt:   0%|          | 0.00/456k [00:00<?, ?B/s]"
      ]
     },
     "metadata": {},
     "output_type": "display_data"
    },
    {
     "data": {
      "application/vnd.jupyter.widget-view+json": {
       "model_id": "293d853193374931843eb1ee537e836f",
       "version_major": 2,
       "version_minor": 0
      },
      "text/plain": [
       "Downloading (…)/main/tokenizer.json:   0%|          | 0.00/1.36M [00:00<?, ?B/s]"
      ]
     },
     "metadata": {},
     "output_type": "display_data"
    }
   ],
   "source": [
    "from transformers import pipeline\n",
    "nlp = pipeline(\"fill-mask\")"
   ]
  },
  {
   "cell_type": "code",
   "execution_count": 11,
   "metadata": {
    "colab": {
     "base_uri": "https://localhost:8080/"
    },
    "id": "vPspE0brXspd",
    "outputId": "b62b08fa-fbdb-4c15-a705-04faa5bb7710",
    "pycharm": {
     "name": "#%%\n"
    }
   },
   "outputs": [
    {
     "name": "stdout",
     "output_type": "stream",
     "text": [
      "[{'score': 0.17927433550357819,\n",
      "  'sequence': 'HuggingFace is creating a tool that the community uses to solve '\n",
      "              'NLP tasks.',\n",
      "  'token': 3944,\n",
      "  'token_str': ' tool'},\n",
      " {'score': 0.1134943887591362,\n",
      "  'sequence': 'HuggingFace is creating a framework that the community uses to '\n",
      "              'solve NLP tasks.',\n",
      "  'token': 7208,\n",
      "  'token_str': ' framework'},\n",
      " {'score': 0.05243557691574097,\n",
      "  'sequence': 'HuggingFace is creating a library that the community uses to '\n",
      "              'solve NLP tasks.',\n",
      "  'token': 5560,\n",
      "  'token_str': ' library'},\n",
      " {'score': 0.03493545204401016,\n",
      "  'sequence': 'HuggingFace is creating a database that the community uses to '\n",
      "              'solve NLP tasks.',\n",
      "  'token': 8503,\n",
      "  'token_str': ' database'},\n",
      " {'score': 0.028602516278624535,\n",
      "  'sequence': 'HuggingFace is creating a prototype that the community uses to '\n",
      "              'solve NLP tasks.',\n",
      "  'token': 17715,\n",
      "  'token_str': ' prototype'}]\n"
     ]
    }
   ],
   "source": [
    "from pprint import pprint\n",
    "pprint(nlp(f\"HuggingFace is creating a {nlp.tokenizer.mask_token} that the community uses to solve NLP tasks.\"))"
   ]
  },
  {
   "cell_type": "code",
   "execution_count": 13,
   "metadata": {
    "id": "kndkyDP5YvFQ"
   },
   "outputs": [
    {
     "name": "stderr",
     "output_type": "stream",
     "text": [
      "No model was supplied, defaulted to distilroberta-base and revision ec58a5b (https://huggingface.co/distilroberta-base).\n",
      "Using a pipeline without specifying a model name and revision in production is not recommended.\n"
     ]
    },
    {
     "name": "stdout",
     "output_type": "stream",
     "text": [
      "[{'score': 0.1345282644033432,\n",
      "  'sequence': \"The rest of the world's oceans is still largely unexplored.\",\n",
      "  'token': 1079,\n",
      "  'token_str': ' rest'},\n",
      " {'score': 0.09913061559200287,\n",
      "  'sequence': \"The future of the world's oceans is still largely unexplored.\",\n",
      "  'token': 499,\n",
      "  'token_str': ' future'},\n",
      " {'score': 0.0687551498413086,\n",
      "  'sequence': \"The fate of the world's oceans is still largely unexplored.\",\n",
      "  'token': 7658,\n",
      "  'token_str': ' fate'},\n",
      " {'score': 0.04594556614756584,\n",
      "  'sequence': \"The surface of the world's oceans is still largely unexplored.\",\n",
      "  'token': 4084,\n",
      "  'token_str': ' surface'},\n",
      " {'score': 0.04072652384638786,\n",
      "  'sequence': \"The history of the world's oceans is still largely unexplored.\",\n",
      "  'token': 750,\n",
      "  'token_str': ' history'}]\n"
     ]
    }
   ],
   "source": [
    "# run this model on your own example sentence\n",
    "\n",
    "from transformers import pipeline\n",
    "nlp = pipeline(\"fill-mask\")\n",
    "\n",
    "from pprint import pprint\n",
    "pprint(nlp(f\"The {nlp.tokenizer.mask_token} of the world's oceans is still largely unexplored.\"))\n",
    "\n"
   ]
  },
  {
   "cell_type": "markdown",
   "metadata": {
    "id": "u0UGCuADXspe",
    "pycharm": {
     "name": "#%% md\n"
    }
   },
   "source": [
    "#### Text generation\n",
    "the goal is to create a coherent portion of text that is a continuation from the given context."
   ]
  },
  {
   "cell_type": "code",
   "execution_count": 14,
   "metadata": {
    "colab": {
     "base_uri": "https://localhost:8080/",
     "height": 270,
     "referenced_widgets": [
      "ce641fa41dde40c6af70304f207d90d9",
      "98a1d70ad3eb46dd9631ffa66219f0ac",
      "5f8b7449a4c64aae8040fb71fcc3e0ed",
      "750a6f63b8284cb692bdf4602e383c6b",
      "71c3ea4f145f4907a9a6f167e0de38c4",
      "c0c28fcd207a4db59a27728c29fdef33",
      "2c623dda24f34b5ab085a5d6afa9b044",
      "955b035a90e9434da44854d419b224f7",
      "c23984abff20460ebbaa0e47b64021a2",
      "dcfe62739e4a40ccbcabe712dc3b581c",
      "2a163e88aed341858e6d5db93d723da2",
      "6fae73a58ed74e3b9331e47cb866c803",
      "3a29d332a3204fbfaf40d09dc10831fb",
      "94860e71f2434332b8d98059479e84d6",
      "59a8cbeb5ba048fea82a6a46293fa952",
      "255b1610e5e3487eb8f9795a56aa3b7f",
      "27653e9a61174e86a679203ad6abbb29",
      "b923bc76aa454eedb351574d758f31a8",
      "501eb3c0959347fc95fa6046ccb44375",
      "2d3daf84288d43da9c90087b0d7d5242",
      "4333d1c3d3244cb6802ba5e58104a2b0",
      "30e93cb68f21442ea6a4bca61219c607",
      "c00e628de53545eeadc8ba5b83f3084c",
      "d023afc4096e4ac7b91fd0f40071c5cb",
      "f32f0673596e4849a1501f87f083dfb9",
      "b1bae82d692344e7b6da9b4047e0749b",
      "9772ca5ec4084cd59de40764979dd724",
      "5f19d6b269be4dfb8db7001dcabbd869",
      "15f7840d88444f349ac814620268d93b",
      "86e02b01e44a483f98bafbfe310112d9",
      "9bad1cc21c4c44a7869da6cf66813c65",
      "e58070acdc03444ca3a4fe83009ef331",
      "ed5651fdef5f4adbafe44c2ba519d493",
      "50e53fc2f1da4865a5cd950cde37f66e",
      "928bcfeda66b4fa0b513b1408409caae",
      "a1ce552ccb854d5187df154aab45a327",
      "95e636d199ce4fdcb409893b74c5c4e4",
      "276b82d586cb4f809417eb5145e81cbe",
      "082560272b5b4cb3bda08193a4d32206",
      "b95a14aa409143fdb55afcb1e064f1a1",
      "bfce1ee48479435dafda2f3c33750d28",
      "2346ddb87a3c43ae82367fe9d33a76be",
      "e7b711d0bd234f818fcaf1317dc99858",
      "ca42a1e779324fc69333bed4fa2768fc",
      "506301de87084bf89cf3c6c697cdb26c",
      "604bf5756a76425c9910e425bbe79bcf",
      "9b42bd5981c343b482aa48b91e461985",
      "35627d2cd5b947a7b6d06d87b6fb9006",
      "7f5ab8d21daf4a9a9ab21f828c58435c",
      "9d34c5162e044778b51b92e6ae8bda11",
      "93bb1464f6714b75b5f80383c4e11676",
      "1f5c94cbb58841f8b29f30ffdc6eeab4",
      "49ce91c1182d4f1db6293c0b5b4f57de",
      "6302fb8fe8af400f9cfb4ccd551ff59f",
      "241e7a63a4e64af8a0449cdec455be4a"
     ]
    },
    "id": "5yLbx1BrXspe",
    "outputId": "6a03e30d-233b-457d-c7bf-cf6e82672ec0",
    "pycharm": {
     "name": "#%%\n"
    }
   },
   "outputs": [
    {
     "name": "stderr",
     "output_type": "stream",
     "text": [
      "No model was supplied, defaulted to gpt2 and revision 6c0e608 (https://huggingface.co/gpt2).\n",
      "Using a pipeline without specifying a model name and revision in production is not recommended.\n"
     ]
    },
    {
     "data": {
      "application/vnd.jupyter.widget-view+json": {
       "model_id": "d762e22c836a4a53a912d08ee8b378e9",
       "version_major": 2,
       "version_minor": 0
      },
      "text/plain": [
       "Downloading (…)lve/main/config.json:   0%|          | 0.00/665 [00:00<?, ?B/s]"
      ]
     },
     "metadata": {},
     "output_type": "display_data"
    },
    {
     "data": {
      "application/vnd.jupyter.widget-view+json": {
       "model_id": "b4567141723e4f71b33896b0e35bbf0e",
       "version_major": 2,
       "version_minor": 0
      },
      "text/plain": [
       "Downloading (…)\"pytorch_model.bin\";:   0%|          | 0.00/548M [00:00<?, ?B/s]"
      ]
     },
     "metadata": {},
     "output_type": "display_data"
    },
    {
     "data": {
      "application/vnd.jupyter.widget-view+json": {
       "model_id": "a32e5a1bca5b414198a26f49e80a26cb",
       "version_major": 2,
       "version_minor": 0
      },
      "text/plain": [
       "Downloading (…)olve/main/vocab.json:   0%|          | 0.00/1.04M [00:00<?, ?B/s]"
      ]
     },
     "metadata": {},
     "output_type": "display_data"
    },
    {
     "data": {
      "application/vnd.jupyter.widget-view+json": {
       "model_id": "cf14c63dea964e2695725ae880b965be",
       "version_major": 2,
       "version_minor": 0
      },
      "text/plain": [
       "Downloading (…)olve/main/merges.txt:   0%|          | 0.00/456k [00:00<?, ?B/s]"
      ]
     },
     "metadata": {},
     "output_type": "display_data"
    },
    {
     "data": {
      "application/vnd.jupyter.widget-view+json": {
       "model_id": "bc813dafdb95423cab1bad04c0a36b6e",
       "version_major": 2,
       "version_minor": 0
      },
      "text/plain": [
       "Downloading (…)/main/tokenizer.json:   0%|          | 0.00/1.36M [00:00<?, ?B/s]"
      ]
     },
     "metadata": {},
     "output_type": "display_data"
    },
    {
     "name": "stderr",
     "output_type": "stream",
     "text": [
      "/home/ivan/miniconda3/lib/python3.8/site-packages/transformers/generation/utils.py:1186: UserWarning: You have modified the pretrained model configuration to control generation. This is a deprecated strategy to control generation and will be removed soon, in a future version. Please use a generation configuration file (see https://huggingface.co/docs/transformers/main_classes/text_generation)\n",
      "  warnings.warn(\n",
      "Setting `pad_token_id` to `eos_token_id`:50256 for open-end generation.\n"
     ]
    },
    {
     "name": "stdout",
     "output_type": "stream",
     "text": [
      "[{'generated_text': 'As far as I am concerned, I will be the first to admit that I am not a fan of the idea of a \"free market.\" I think that the idea of a free market is a bit of a stretch. I think that the idea'}]\n"
     ]
    }
   ],
   "source": [
    "from transformers import pipeline\n",
    "text_generator = pipeline(\"text-generation\")\n",
    "print(text_generator(\"As far as I am concerned, I will\", max_length=50, do_sample=False))"
   ]
  },
  {
   "cell_type": "code",
   "execution_count": 15,
   "metadata": {
    "id": "BQ4GAXwuYm4y"
   },
   "outputs": [
    {
     "name": "stderr",
     "output_type": "stream",
     "text": [
      "Setting `pad_token_id` to `eos_token_id`:50256 for open-end generation.\n"
     ]
    },
    {
     "name": "stdout",
     "output_type": "stream",
     "text": [
      "[{'generated_text': \"In a world where machines can think and learn like humans, it's hard to imagine a world where machines can't learn.\\n\\nThe problem is that machines are not just learning. They are learning.\\n\\nThe problem is that machines are not\"}]\n"
     ]
    }
   ],
   "source": [
    "# run this model on your sentence beginning\n",
    "print(text_generator(\"In a world where machines can think and learn like humans,\", max_length=50, do_sample=False))"
   ]
  },
  {
   "cell_type": "markdown",
   "metadata": {
    "id": "q-lnGVWbXspf",
    "pycharm": {
     "name": "#%% md\n"
    }
   },
   "source": [
    "### Named Entity recognition"
   ]
  },
  {
   "cell_type": "code",
   "execution_count": 16,
   "metadata": {
    "colab": {
     "base_uri": "https://localhost:8080/",
     "height": 202,
     "referenced_widgets": [
      "96e35941190843528983b9429061f65a",
      "8f42bc677ea04a0f9db0869a0b5c9973",
      "f14e14475b104014a9a0e947e435ff43",
      "8eddfa0c663d4801ba80b7250a68bf58",
      "dd0b8abfb7be4539bb122969b3eadf93",
      "c81120eb5a024436a1a31b1ac58f9761",
      "f10e75a93bc54279adf84db5643451ed",
      "242d738050cd4887bf44b3d13117822c",
      "e88bb5b0b23f4908a8c9f37ef214bf89",
      "cac9e3db11774f06b7aab6782c2e61e3",
      "67b836dd048b43299de8dd7630556123",
      "509c741bda5d4925a9ed309893472887",
      "64daec6247364175bdcf50eb5d434093",
      "a5acbbc5ba2141e5ad224224dab44ed9",
      "dfa3bc3831e24479acf82691d9fa330b",
      "6a4a990d999b49a8bb675848b98123ed",
      "d97350dea3884992ba9d00c0048e23f4",
      "34bee9a8357a45d0af650bd63624a509",
      "b7340bbc2d11492b957ae36226c38c87",
      "0cc791f8ff734ac9b8e46de42123f6d3",
      "15e96eda4c5445468d127e03656a01f7",
      "2434f261c6f44418bb8ea81ec6abe17d",
      "5394008b5e3f42219b32542d6ba306b6",
      "7a576ad3a4774f71aa2adf9c0cde7366",
      "b5901523b55241c1adef54050d7d2f04",
      "d5eb4a89b60a4f9086af95a43a06406a",
      "4b047ef5b9fd4744aa3dcceebb9a23bf",
      "9ec38b374b3541b484cfc1030450a44e",
      "5db634de7874446d90b382fad2fa69a2",
      "288c250d4d5244c2b77762ef5c3aa596",
      "67fd0c8112bf44d2a34cfeba45ee4a2a",
      "e3d0f03c71154da79fb70b1eaad87bca",
      "bf1e0266d1404c06a0bc21f898a61267",
      "ca4be2d27ea34003a89c29c239a94b62",
      "6c63f989ffe343f9bf2bef8154e08d38",
      "cfa29137d64d472dab4dabbd26048753",
      "70df14d07f7246188e9b1b149c22f43f",
      "43ea5f8f4e754a06b75f1e3f3975cc21",
      "d87c27d71a30457ca60dd919294c98cf",
      "73c2ac9b39814d00a2fe93a05a64efed",
      "7b1f1e1306684fdf83ab34be3ab63c4f",
      "31ad35689d7c4a458960f6158ae29445",
      "025bbffc810243f399ab96572e124d68",
      "c620ddc270e949628c506c4108f8ea08"
     ]
    },
    "id": "aWkfAIbOXspf",
    "outputId": "cb5acbe9-c436-44ce-b1bd-4714e8fb1658",
    "pycharm": {
     "name": "#%%\n"
    }
   },
   "outputs": [
    {
     "name": "stderr",
     "output_type": "stream",
     "text": [
      "No model was supplied, defaulted to dbmdz/bert-large-cased-finetuned-conll03-english and revision f2482bf (https://huggingface.co/dbmdz/bert-large-cased-finetuned-conll03-english).\n",
      "Using a pipeline without specifying a model name and revision in production is not recommended.\n"
     ]
    },
    {
     "data": {
      "application/vnd.jupyter.widget-view+json": {
       "model_id": "a631d0bff2e34e019f9607ba96fa8225",
       "version_major": 2,
       "version_minor": 0
      },
      "text/plain": [
       "Downloading (…)lve/main/config.json:   0%|          | 0.00/998 [00:00<?, ?B/s]"
      ]
     },
     "metadata": {},
     "output_type": "display_data"
    },
    {
     "data": {
      "application/vnd.jupyter.widget-view+json": {
       "model_id": "76f87f95083f4444ba4a63456ba94e54",
       "version_major": 2,
       "version_minor": 0
      },
      "text/plain": [
       "Downloading (…)\"pytorch_model.bin\";:   0%|          | 0.00/1.33G [00:00<?, ?B/s]"
      ]
     },
     "metadata": {},
     "output_type": "display_data"
    },
    {
     "data": {
      "application/vnd.jupyter.widget-view+json": {
       "model_id": "6232b17089b94a648c29f4792aa78365",
       "version_major": 2,
       "version_minor": 0
      },
      "text/plain": [
       "Downloading (…)okenizer_config.json:   0%|          | 0.00/60.0 [00:00<?, ?B/s]"
      ]
     },
     "metadata": {},
     "output_type": "display_data"
    },
    {
     "data": {
      "application/vnd.jupyter.widget-view+json": {
       "model_id": "e3af98d5e8b74723af4a390c046f2812",
       "version_major": 2,
       "version_minor": 0
      },
      "text/plain": [
       "Downloading (…)solve/main/vocab.txt:   0%|          | 0.00/213k [00:00<?, ?B/s]"
      ]
     },
     "metadata": {},
     "output_type": "display_data"
    }
   ],
   "source": [
    "from transformers import pipeline\n",
    "nlp = pipeline(\"ner\")\n",
    "sequence = \"Hugging Face Inc. is a company based in New York City. Its headquarters are in DUMBO, therefore very \" \\\n",
    "           \"close to the Manhattan Bridge which is visible from the window.\""
   ]
  },
  {
   "cell_type": "code",
   "execution_count": 17,
   "metadata": {
    "colab": {
     "base_uri": "https://localhost:8080/"
    },
    "id": "v0jlNHPgXspf",
    "outputId": "fd6d4ae6-7066-4b54-c0d7-ccea07404e46",
    "pycharm": {
     "name": "#%%\n"
    }
   },
   "outputs": [
    {
     "name": "stdout",
     "output_type": "stream",
     "text": [
      "[{'entity': 'I-ORG', 'score': 0.99957865, 'index': 1, 'word': 'Hu', 'start': 0, 'end': 2}, {'entity': 'I-ORG', 'score': 0.9909764, 'index': 2, 'word': '##gging', 'start': 2, 'end': 7}, {'entity': 'I-ORG', 'score': 0.9982224, 'index': 3, 'word': 'Face', 'start': 8, 'end': 12}, {'entity': 'I-ORG', 'score': 0.9994879, 'index': 4, 'word': 'Inc', 'start': 13, 'end': 16}, {'entity': 'I-LOC', 'score': 0.9994344, 'index': 11, 'word': 'New', 'start': 40, 'end': 43}, {'entity': 'I-LOC', 'score': 0.99931955, 'index': 12, 'word': 'York', 'start': 44, 'end': 48}, {'entity': 'I-LOC', 'score': 0.9993794, 'index': 13, 'word': 'City', 'start': 49, 'end': 53}, {'entity': 'I-LOC', 'score': 0.98625815, 'index': 19, 'word': 'D', 'start': 79, 'end': 80}, {'entity': 'I-LOC', 'score': 0.95142686, 'index': 20, 'word': '##UM', 'start': 80, 'end': 82}, {'entity': 'I-LOC', 'score': 0.9336589, 'index': 21, 'word': '##BO', 'start': 82, 'end': 84}, {'entity': 'I-LOC', 'score': 0.9761654, 'index': 28, 'word': 'Manhattan', 'start': 114, 'end': 123}, {'entity': 'I-LOC', 'score': 0.9914629, 'index': 29, 'word': 'Bridge', 'start': 124, 'end': 130}]\n"
     ]
    }
   ],
   "source": [
    "print(nlp(sequence))"
   ]
  },
  {
   "cell_type": "code",
   "execution_count": 18,
   "metadata": {
    "id": "Pwi38oujYYR2"
   },
   "outputs": [
    {
     "name": "stdout",
     "output_type": "stream",
     "text": [
      "[{'entity': 'I-LOC', 'score': 0.9998247, 'index': 4, 'word': 'Paris', 'start': 19, 'end': 24}, {'entity': 'I-LOC', 'score': 0.8217536, 'index': 8, 'word': 'E', 'start': 37, 'end': 38}, {'entity': 'I-LOC', 'score': 0.8048147, 'index': 9, 'word': '##iff', 'start': 38, 'end': 41}, {'entity': 'I-LOC', 'score': 0.81223667, 'index': 10, 'word': '##el', 'start': 41, 'end': 43}, {'entity': 'I-LOC', 'score': 0.91857564, 'index': 11, 'word': 'Tower', 'start': 44, 'end': 49}, {'entity': 'I-LOC', 'score': 0.9977957, 'index': 13, 'word': 'Notre', 'start': 51, 'end': 56}, {'entity': 'I-LOC', 'score': 0.99534285, 'index': 14, 'word': 'Dame', 'start': 57, 'end': 61}, {'entity': 'I-LOC', 'score': 0.9843067, 'index': 15, 'word': 'Cathedral', 'start': 62, 'end': 71}, {'entity': 'I-LOC', 'score': 0.9314261, 'index': 19, 'word': 'Lou', 'start': 81, 'end': 84}, {'entity': 'I-LOC', 'score': 0.82322264, 'index': 20, 'word': '##vre', 'start': 84, 'end': 87}, {'entity': 'I-LOC', 'score': 0.826156, 'index': 21, 'word': 'Museum', 'start': 88, 'end': 94}]\n"
     ]
    }
   ],
   "source": [
    "# run this model on your sentence\n",
    "\n",
    "sequence = \"I recently visited Paris and saw the Eiffel Tower, Notre Dame Cathedral, and the Louvre Museum.\"\n",
    "print(nlp(sequence))"
   ]
  },
  {
   "cell_type": "markdown",
   "metadata": {
    "id": "MuhCk8rjXspg",
    "pycharm": {
     "name": "#%% md\n"
    }
   },
   "source": [
    "### Summarization"
   ]
  },
  {
   "cell_type": "code",
   "execution_count": 19,
   "metadata": {
    "colab": {
     "base_uri": "https://localhost:8080/",
     "height": 252,
     "referenced_widgets": [
      "80a54407d48c4d28a44016f3153f6ebc",
      "0508e15ae59042da993ee684382409f1",
      "d11e9da6f77543088867aa141848e675",
      "6363f0583f334ba384ecfd66a6c99107",
      "5e27a891f0544759a68529832a007556",
      "8b91a712e41d4e8791e109bc26f6f948",
      "106b720728ac4df1bf1c3daab473c613",
      "4bd5f16c6dda413c91fd77fc81788fd4",
      "d3ac9810bc834115b76fd9a1c02fa721",
      "57ac9be8efa34b1e884972fe3e7e4665",
      "c66a7975e3c44366a33867042d085028",
      "7e4aecc32a74491288d61adbf7243722",
      "8e644e511c76424c89d21a2f08d0b7e4",
      "c6084c22ecc5413f827269b2e9a9bcae",
      "6f160046328d4b929d00f0c3bb4e99eb",
      "7b4ee183a78b4993af999cda00e77dd9",
      "da4e07d2cbe543849c7c0f7f8ccea23a",
      "95be42224f484c619d53cf63699e8601",
      "c355761629944b02afe3cef3529f8b20",
      "8bc8a5e8e034442ba3b6b2b7edbd76c3",
      "17f8b759eb87414187a80622c7e71fe2",
      "9c76ef4aed0147bab09c0e7a1a5fef07",
      "c991dc72efe5468b82a30cfeeba2f3de",
      "363603e266a94ca09457227a24ea9d5c",
      "798816e52b394f9783e50d2fdf46c5ee",
      "2bd7ab08d6174d11937ab91de43f7b1f",
      "bfb24ad5970b4937a27e9a5411afd3dd",
      "f3c50ec0ea454f98824a3ed9c204c37e",
      "64a4ff6ea87f4cc790d6641f410752bb",
      "7f465723435849a5aa2f3a27fa697a63",
      "a33413554f224c0dae21ae98413035bc",
      "4e3b528a9d934a08adb085a7286d6e6f",
      "c6e8f85c08524fbc9e7723cc0e6580ef",
      "8d36b8b6691a4fffab3df44308a8cf30",
      "6c2ed6bed18f428188f5d401c30ce4df",
      "1c843798a7b04fb0a7a7c324479a795f",
      "7ee5a4c0988e4a34b8757515b4748339",
      "52e0136694bf4ef999de15bd803f9b12",
      "4bda3c3536e241689d4b21d0f5985791",
      "244b08b4e84e4819b2a7225b0f81952d",
      "51e44b4476d24f169bd4ff003f87a1ea",
      "fd80c1c7e607440f9c6212b415b58c8c",
      "3444d321466a4240b1301492aa12e060",
      "512179c411ea4b3cbfcc34fe162030ba",
      "97c6a218f38446f7bfe8c05d85c1a43b",
      "6a8e622a64894b37a674f7f7e02ae97d",
      "5be3f3d91cbf4c53add7068f820ba15b",
      "cd8896194fe0408faf2cebc8951f148b",
      "1aee02735a70427cb951e0921b27d5ea",
      "ca359cc11d674211a16aafa153b0620f",
      "e84fc1444e464e6eb12864ee16567d6b",
      "47299b6e75334d4fb5c79ec7cf9c64d3",
      "c3cb58d10759403784ec0cdbc310da00",
      "93bd2c33c406406c8f163c99fc643796",
      "d7f9b20d78e14a1c9520edf13e0fbb44"
     ]
    },
    "id": "wLIl3YF9Xspg",
    "outputId": "6b5b97bc-46a5-4eba-8cdb-c8f7fa8751dd",
    "pycharm": {
     "name": "#%%\n"
    }
   },
   "outputs": [
    {
     "name": "stderr",
     "output_type": "stream",
     "text": [
      "No model was supplied, defaulted to sshleifer/distilbart-cnn-12-6 and revision a4f8f3e (https://huggingface.co/sshleifer/distilbart-cnn-12-6).\n",
      "Using a pipeline without specifying a model name and revision in production is not recommended.\n"
     ]
    },
    {
     "data": {
      "application/vnd.jupyter.widget-view+json": {
       "model_id": "689ebe6ba8de430e9e42fb36fc3fbe2f",
       "version_major": 2,
       "version_minor": 0
      },
      "text/plain": [
       "Downloading (…)lve/main/config.json:   0%|          | 0.00/1.80k [00:00<?, ?B/s]"
      ]
     },
     "metadata": {},
     "output_type": "display_data"
    },
    {
     "data": {
      "application/vnd.jupyter.widget-view+json": {
       "model_id": "5a41714303ae45e7bcc592fbe1a58970",
       "version_major": 2,
       "version_minor": 0
      },
      "text/plain": [
       "Downloading (…)\"pytorch_model.bin\";:   0%|          | 0.00/1.22G [00:00<?, ?B/s]"
      ]
     },
     "metadata": {},
     "output_type": "display_data"
    },
    {
     "data": {
      "application/vnd.jupyter.widget-view+json": {
       "model_id": "ca0d0abc05654a8990fec9548323b6a3",
       "version_major": 2,
       "version_minor": 0
      },
      "text/plain": [
       "Downloading (…)okenizer_config.json:   0%|          | 0.00/26.0 [00:00<?, ?B/s]"
      ]
     },
     "metadata": {},
     "output_type": "display_data"
    },
    {
     "data": {
      "application/vnd.jupyter.widget-view+json": {
       "model_id": "028c5a942e1f4c8d9911165a1d464bac",
       "version_major": 2,
       "version_minor": 0
      },
      "text/plain": [
       "Downloading (…)olve/main/vocab.json:   0%|          | 0.00/899k [00:00<?, ?B/s]"
      ]
     },
     "metadata": {},
     "output_type": "display_data"
    },
    {
     "data": {
      "application/vnd.jupyter.widget-view+json": {
       "model_id": "ab5a5c079f3442d2adfbf9bb4f643c38",
       "version_major": 2,
       "version_minor": 0
      },
      "text/plain": [
       "Downloading (…)olve/main/merges.txt:   0%|          | 0.00/456k [00:00<?, ?B/s]"
      ]
     },
     "metadata": {},
     "output_type": "display_data"
    },
    {
     "name": "stdout",
     "output_type": "stream",
     "text": [
      "[{'summary_text': ' Liana Barrientos, 39, is charged with two counts of \"offering a false instrument for filing in the first degree\" In total, she has been married 10 times, with nine of her marriages occurring between 1999 and 2002 . At one time, she was married to eight men at once, prosecutors say .'}]\n"
     ]
    }
   ],
   "source": [
    "from transformers import pipeline\n",
    "\n",
    "summarizer = pipeline(\"summarization\")\n",
    "\n",
    "ARTICLE = \"\"\" New York (CNN)When Liana Barrientos was 23 years old, she got married in Westchester County, New York.\n",
    "A year later, she got married again in Westchester County, but to a different man and without divorcing her first husband.\n",
    "Only 18 days after that marriage, she got hitched yet again. Then, Barrientos declared \"I do\" five more times, sometimes only within two weeks of each other.\n",
    "In 2010, she married once more, this time in the Bronx. In an application for a marriage license, she stated it was her \"first and only\" marriage.\n",
    "Barrientos, now 39, is facing two criminal counts of \"offering a false instrument for filing in the first degree,\" referring to her false statements on the\n",
    "2010 marriage license application, according to court documents.\n",
    "Prosecutors said the marriages were part of an immigration scam.\n",
    "On Friday, she pleaded not guilty at State Supreme Court in the Bronx, according to her attorney, Christopher Wright, who declined to comment further.\n",
    "After leaving court, Barrientos was arrested and charged with theft of service and criminal trespass for allegedly sneaking into the New York subway through an emergency exit, said Detective\n",
    "Annette Markowski, a police spokeswoman. In total, Barrientos has been married 10 times, with nine of her marriages occurring between 1999 and 2002.\n",
    "All occurred either in Westchester County, Long Island, New Jersey or the Bronx. She is believed to still be married to four men, and at one time, she was married to eight men at once, prosecutors say.\n",
    "Prosecutors said the immigration scam involved some of her husbands, who filed for permanent residence status shortly after the marriages.\n",
    "Any divorces happened only after such filings were approved. It was unclear whether any of the men will be prosecuted.\n",
    "The case was referred to the Bronx District Attorney\\'s Office by Immigration and Customs Enforcement and the Department of Homeland Security\\'s\n",
    "Investigation Division. Seven of the men are from so-called \"red-flagged\" countries, including Egypt, Turkey, Georgia, Pakistan and Mali.\n",
    "Her eighth husband, Rashid Rajput, was deported in 2006 to his native Pakistan after an investigation by the Joint Terrorism Task Force.\n",
    "If convicted, Barrientos faces up to four years in prison.  Her next court appearance is scheduled for May 18.\n",
    "\"\"\"\n",
    "\n",
    "print(summarizer(ARTICLE, max_length=130, min_length=30, do_sample=False))\n"
   ]
  },
  {
   "cell_type": "code",
   "execution_count": 23,
   "metadata": {
    "id": "2cXQVSQ5YOYL"
   },
   "outputs": [
    {
     "name": "stdout",
     "output_type": "stream",
     "text": [
      "[{'summary_text': ' The Carnival of Brazil (Portuguese: Carnaval do Brasil, IPA: [kaʁnaˈvaw) is an annual Brazilian festival held the Friday afternoon before Ash Wednesday at noon . It marks the beginning of Lent, the forty-day period before Easter . During Lent, Roman Catholics and some other Christians traditionally abstained from the consumption of meat and poultry, hence the term \"carnival\"'}]\n"
     ]
    }
   ],
   "source": [
    "# run this model on a different text\n",
    "\n",
    "ARTICLE = \"\"\"\n",
    "The Carnival of Brazil (Portuguese: Carnaval do Brasil, IPA: [kaʁnaˈvaw]) is an annual Brazilian festival held the Friday afternoon before Ash Wednesday at noon, which marks the beginning of Lent, the forty-day period before Easter. During Lent, Roman Catholics and some other Christians traditionally abstained from the consumption of meat and poultry, hence the term \"carnival\", from carnelevare, \"to remove (literally, \"raise\") meat.\"[2]\n",
    "Rhythm, participation, and costumes vary from one region of Brazil to another. In the southeastern cities of Rio de Janeiro, São Paulo, and Vitória, huge organized parades are led by samba schools. Those official parades are meant to be watched by the public, while minor parades (blocos) allowing public participation can be found in other cities, like Belo Horizonte,[3] also in the southeastern region. The northeastern cities of Recife, Olinda, Salvador, and Porto Seguro have organized groups parading through streets, and public interacts directly with them. It is a six-day party where crowds follow the trios elétricos through the city streets, dancing and singing. Also in northeast, Olinda carnival features unique characteristics, heavily influenced by local folklore and cultural manifestations, such as Frevo and Maracatu. \n",
    "The typical genres of music of Brazilian carnival are, in the Southeast Region in general, mostly cities of Rio de Janeiro and São Paulo: the samba-enredo, the samba de bloco, the samba de embalo and the marchinha; and in the Northeast Region including Pernambuco (mostly cities of Olinda and Recife): frevo and maracatu, and Bahia (mostly the city of Salvador): samba-reggae, pagode (also a type of Samba) and the main genre axé music. These rhythms were mainly developed by Afro-brazlians and Pardos, incorporating and adapting many cultural influences, from the percussion beats of Africa to the military fanfares of Europe and iberian music in the use of instruments like pandeiro and cavaquinho. \n",
    "\"\"\"\n",
    "print(summarizer(ARTICLE, max_length=130, min_length=30, do_sample=False))"
   ]
  },
  {
   "cell_type": "markdown",
   "metadata": {
    "id": "Qp3Opo7kXsph",
    "pycharm": {
     "name": "#%% md\n"
    }
   },
   "source": [
    "### Translation"
   ]
  },
  {
   "cell_type": "code",
   "execution_count": 22,
   "metadata": {
    "colab": {
     "base_uri": "https://localhost:8080/",
     "height": 1000,
     "referenced_widgets": [
      "b64a94a6d1604f46b05d73360d0da7dd",
      "ee3e36bf6e1e4f61b3d9bcaa3c922d63",
      "829b23485187415f83a2dbdc94aae7c5",
      "bab67cd4f11942588496a271921b3943",
      "aa4a45b3b3e24f7abdf065a62510f724",
      "f6b94aeadadf45aa97c0d99ed87cd10a",
      "8156c7fc19a249348a827b3dceecf1a8",
      "a7ef8186abbf4ad2b3529abd4030a217",
      "e608c1eca5374da8b90fa93fb912a5cd",
      "a0bbbff24f7d45368b57ed4e58ac17f5",
      "e7b37c1c22874e248ec8a8c2e8d361af",
      "67ecc15a792441628046da3cae547fec",
      "86dd80483a4f4ea9aa174856dd35b7e2",
      "9cadd39e942e4ba384a63d90757beecd",
      "276e6df6f6434d08a0708a5ec9c0e3c2",
      "7b9cfd0d6815493dac233905f33e3e17",
      "3583a1e1311d4d829715ae72a944603a",
      "69b6909b17fc4a2b8804191fdb086ff3",
      "af7b7b9929694c689ca51bb975df59eb",
      "c41a38ab90654f00b03ab37a438490b7",
      "5109887d04d7414e878d1db29f6fd020",
      "f7af16f56b88480b93e3071ea98bf2c3",
      "8f3315a3438244e3808cd29d00402517",
      "67a871a006744eb0925180b1e44d74cd",
      "c5149906e0ff4d21a263ca4217085098",
      "5689e10b31384d2eb008474924839378",
      "1b7d05ae9200490f92a8f0aed56948e5",
      "28cede452afe4dce995a845e00f02228",
      "5779f29d98be4b26b44a6411d6c60865",
      "2fe6f1ba931c479093825c11196bde88",
      "84963c1789b54240989824e50fe1a5e2",
      "34eac91b4cc84e8da26f14645da7dfcc",
      "4f23d7eed78a4f91b11b4e2dddf4140b",
      "12dbaf566d1249b8af723ff847093f13",
      "613a783e6f0d46c6ba32b374e7aa9449",
      "44a04603254d43569f2333f555fc0305",
      "39c95c32924c48109f08b906f938b7e7",
      "034706468d6c45989391bce5da856cbf",
      "134ceb3055104ffd8aa67cf25196670c",
      "df652d96a37b49d0bf8981605155c887",
      "7ce0505d92454ba0818819475346279f",
      "2a2b451615224dac9dfd191be5f2fc22",
      "18cc81ce81354e2eb6b1eb405f7c5dda",
      "85a35fdc333f474792fe8a9f99d1af73"
     ]
    },
    "id": "0b7dv0K5Xsph",
    "outputId": "002112e0-5c98-4fbc-dd8e-a556cd7e0ccf",
    "pycharm": {
     "name": "#%%\n"
    }
   },
   "outputs": [
    {
     "name": "stderr",
     "output_type": "stream",
     "text": [
      "No model was supplied, defaulted to t5-base and revision 686f1db (https://huggingface.co/t5-base).\n",
      "Using a pipeline without specifying a model name and revision in production is not recommended.\n"
     ]
    },
    {
     "data": {
      "application/vnd.jupyter.widget-view+json": {
       "model_id": "257e2caf963948fa9a03a0057014ca8d",
       "version_major": 2,
       "version_minor": 0
      },
      "text/plain": [
       "Downloading (…)lve/main/config.json:   0%|          | 0.00/1.21k [00:00<?, ?B/s]"
      ]
     },
     "metadata": {},
     "output_type": "display_data"
    },
    {
     "data": {
      "application/vnd.jupyter.widget-view+json": {
       "model_id": "84f486a1e5c44c40b739adf14152ad42",
       "version_major": 2,
       "version_minor": 0
      },
      "text/plain": [
       "Downloading (…)\"pytorch_model.bin\";:   0%|          | 0.00/892M [00:00<?, ?B/s]"
      ]
     },
     "metadata": {},
     "output_type": "display_data"
    },
    {
     "data": {
      "application/vnd.jupyter.widget-view+json": {
       "model_id": "ad5b50fa6f124121a6aecbe6d8329338",
       "version_major": 2,
       "version_minor": 0
      },
      "text/plain": [
       "Downloading (…)neration_config.json:   0%|          | 0.00/147 [00:00<?, ?B/s]"
      ]
     },
     "metadata": {},
     "output_type": "display_data"
    },
    {
     "data": {
      "application/vnd.jupyter.widget-view+json": {
       "model_id": "9d1a97ad16164403965f2c49ccdb88e9",
       "version_major": 2,
       "version_minor": 0
      },
      "text/plain": [
       "Downloading (…)ve/main/spiece.model:   0%|          | 0.00/792k [00:00<?, ?B/s]"
      ]
     },
     "metadata": {},
     "output_type": "display_data"
    },
    {
     "data": {
      "application/vnd.jupyter.widget-view+json": {
       "model_id": "3537adf8bc914d46846234ef5064c383",
       "version_major": 2,
       "version_minor": 0
      },
      "text/plain": [
       "Downloading (…)/main/tokenizer.json:   0%|          | 0.00/1.39M [00:00<?, ?B/s]"
      ]
     },
     "metadata": {},
     "output_type": "display_data"
    },
    {
     "name": "stderr",
     "output_type": "stream",
     "text": [
      "/home/ivan/miniconda3/lib/python3.8/site-packages/transformers/models/t5/tokenization_t5_fast.py:155: FutureWarning: This tokenizer was incorrectly instantiated with a model max length of 512 which will be corrected in Transformers v5.\n",
      "For now, this behavior is kept to avoid breaking backwards compatibility when padding/encoding with `truncation is True`.\n",
      "- Be aware that you SHOULD NOT rely on t5-base automatically truncating your input to 512 when padding/encoding.\n",
      "- If you want to encode/pad to sequences longer than 512 you can either instantiate this tokenizer with `model_max_length` or pass `max_length` when encoding/padding.\n",
      "- To avoid this warning, please instantiate this tokenizer with `model_max_length` set to your preferred value.\n",
      "  warnings.warn(\n"
     ]
    },
    {
     "name": "stdout",
     "output_type": "stream",
     "text": [
      "[{'translation_text': 'Hugging Face est une entreprise technologique basée à New York et à Paris.'}]\n"
     ]
    }
   ],
   "source": [
    "from transformers import pipeline\n",
    "translator = pipeline(\"translation_en_to_fr\")  \n",
    "# not alls languages present here, you can go to huggingface and search for \n",
    "# translation models of your choice, most of models usually have usage example. \n",
    "print(translator(\"Hugging Face is a technology company based in New York and Paris\", max_length=40))"
   ]
  },
  {
   "cell_type": "code",
   "execution_count": 24,
   "metadata": {
    "id": "MaR_1SpuX30m"
   },
   "outputs": [
    {
     "name": "stdout",
     "output_type": "stream",
     "text": [
      "[{'translation_text': 'Le renard brun rapide saute au-dessus du chien lazy.'}]\n"
     ]
    }
   ],
   "source": [
    "# take a different language pair and translte your sentence\n",
    "print(translator(\"The quick brown fox jumps over the lazy dog.\", max_length=40))\n"
   ]
  },
  {
   "cell_type": "markdown",
   "metadata": {
    "id": "fGVQ9QV7XUaR"
   },
   "source": [
    "### Task: find a multilingual BERT model in hugging face and write its name ([link](https://huggingface.co/models))"
   ]
  },
  {
   "cell_type": "markdown",
   "metadata": {},
   "source": [
    "One multilingual BERT model available in Hugging Face is called \"bert-base-multilingual-cased\". This model is trained on a large corpus of text in 104 different languages and has a cased vocabulary, meaning that the model distinguishes between uppercase and lowercase letters. The model is based on the original BERT architecture developed by Google and has 12 layers and 110 million parameters."
   ]
  },
  {
   "cell_type": "markdown",
   "metadata": {
    "id": "57bj8nQXzZA2"
   },
   "source": [
    "## How to choose between Transformer, BERT and GPT?\n",
    "\n",
    "These are generally the same architecture adapted to different kinds of tasks, and consequently, have different pretraining methodologies:\n",
    "- Transformer is used for sequence-to-sequence tasks, e.g. neural machine translation or summarization. The crucial moment is that the lengths of the input and output sequences can be different. For the pretrained models, you can look at T5 models from Google.\n",
    "- BERT is simply encoder part of Transformer and used for embedding, tagging or classification tasks. In case of classification, a special token \\[CLS\\] is used that is trained to represent the whole input sequence.\n",
    "- GPT is Transformer decoder without encoder. It is used for text generation tasks (i.e. language modeling), including dialogue conversations, question answering, etc.\n",
    "\n",
    "## You can write me (https://t.me/valeev_aidar) your questions, I will try to answer all of them. You can also book offiice hours by writing me in pm."
   ]
  },
  {
   "cell_type": "markdown",
   "metadata": {
    "id": "efh-Frhu1Y8R"
   },
   "source": [
    "# BERT fine-tuning for sentiment analysis. Optional part, no extra points."
   ]
  },
  {
   "cell_type": "code",
   "execution_count": 26,
   "metadata": {
    "colab": {
     "base_uri": "https://localhost:8080/"
    },
    "id": "GLfN09gCpqQx",
    "outputId": "1bad07f6-c16b-4d26-cd17-76b747de0444"
   },
   "outputs": [
    {
     "name": "stdout",
     "output_type": "stream",
     "text": [
      "Collecting datasets\n",
      "  Downloading datasets-2.10.0-py3-none-any.whl (469 kB)\n",
      "\u001b[2K     \u001b[38;2;114;156;31m━━━━━━━━━━━━━━━━━━━━━━━━━━━━━━━━━━━━━━━\u001b[0m \u001b[32m469.0/469.0 kB\u001b[0m \u001b[31m2.8 MB/s\u001b[0m eta \u001b[36m0:00:00\u001b[0m[31m2.5 MB/s\u001b[0m eta \u001b[36m0:00:01\u001b[0m\n",
      "\u001b[?25hCollecting dill<0.3.7,>=0.3.0\n",
      "  Downloading dill-0.3.6-py3-none-any.whl (110 kB)\n",
      "\u001b[2K     \u001b[38;2;114;156;31m━━━━━━━━━━━━━━━━━━━━━━━━━━━━━━━━━━━━━━━\u001b[0m \u001b[32m110.5/110.5 kB\u001b[0m \u001b[31m1.7 MB/s\u001b[0m eta \u001b[36m0:00:00\u001b[0m[31m8.3 MB/s\u001b[0m eta \u001b[36m0:00:01\u001b[0m\n",
      "\u001b[?25hRequirement already satisfied: requests>=2.19.0 in /home/ivan/miniconda3/lib/python3.8/site-packages (from datasets) (2.28.1)\n",
      "Requirement already satisfied: pyyaml>=5.1 in /opt/ros/noetic/lib/python3/dist-packages (from datasets) (6.0)\n",
      "Requirement already satisfied: huggingface-hub<1.0.0,>=0.2.0 in /home/ivan/miniconda3/lib/python3.8/site-packages (from datasets) (0.12.1)\n",
      "Collecting xxhash\n",
      "  Downloading xxhash-3.2.0-cp38-cp38-manylinux_2_17_x86_64.manylinux2014_x86_64.whl (213 kB)\n",
      "\u001b[2K     \u001b[38;2;114;156;31m━━━━━━━━━━━━━━━━━━━━━━━━━━━━━━━━━━━━━━\u001b[0m \u001b[32m213.0/213.0 kB\u001b[0m \u001b[31m12.0 MB/s\u001b[0m eta \u001b[36m0:00:00\u001b[0m\n",
      "\u001b[?25hRequirement already satisfied: pandas in /home/ivan/miniconda3/lib/python3.8/site-packages (from datasets) (1.3.5)\n",
      "Requirement already satisfied: packaging in /home/ivan/miniconda3/lib/python3.8/site-packages (from datasets) (22.0)\n",
      "Collecting fsspec[http]>=2021.11.1\n",
      "  Downloading fsspec-2023.1.0-py3-none-any.whl (143 kB)\n",
      "\u001b[2K     \u001b[38;2;114;156;31m━━━━━━━━━━━━━━━━━━━━━━━━━━━━━━━━━━━━━━━\u001b[0m \u001b[32m143.0/143.0 kB\u001b[0m \u001b[31m1.3 MB/s\u001b[0m eta \u001b[36m0:00:00\u001b[0m[31m2.0 MB/s\u001b[0m eta \u001b[36m0:00:01\u001b[0m\n",
      "\u001b[?25hCollecting multiprocess\n",
      "  Downloading multiprocess-0.70.14-py38-none-any.whl (132 kB)\n",
      "\u001b[2K     \u001b[38;2;114;156;31m━━━━━━━━━━━━━━━━━━━━━━━━━━━━━━━━━━━━━━━\u001b[0m \u001b[32m132.0/132.0 kB\u001b[0m \u001b[31m4.1 MB/s\u001b[0m eta \u001b[36m0:00:00\u001b[0m\n",
      "\u001b[?25hCollecting responses<0.19\n",
      "  Downloading responses-0.18.0-py3-none-any.whl (38 kB)\n",
      "Requirement already satisfied: tqdm>=4.62.1 in /home/ivan/.local/lib/python3.8/site-packages (from datasets) (4.64.1)\n",
      "Requirement already satisfied: numpy>=1.17 in /home/ivan/miniconda3/lib/python3.8/site-packages (from datasets) (1.23.3)\n",
      "Requirement already satisfied: aiohttp in /home/ivan/miniconda3/lib/python3.8/site-packages (from datasets) (3.8.3)\n",
      "Collecting pyarrow>=6.0.0\n",
      "  Downloading pyarrow-11.0.0-cp38-cp38-manylinux_2_17_x86_64.manylinux2014_x86_64.whl (35.0 MB)\n",
      "\u001b[2K     \u001b[38;2;114;156;31m━━━━━━━━━━━━━━━━━━━━━━━━━━━━━━━━━━━━━━━━\u001b[0m \u001b[32m35.0/35.0 MB\u001b[0m \u001b[31m3.2 MB/s\u001b[0m eta \u001b[36m0:00:00\u001b[0mm eta \u001b[36m0:00:01\u001b[0m[36m0:00:01\u001b[0m\n",
      "\u001b[?25hRequirement already satisfied: charset-normalizer<3.0,>=2.0 in /home/ivan/miniconda3/lib/python3.8/site-packages (from aiohttp->datasets) (2.1.1)\n",
      "Requirement already satisfied: attrs>=17.3.0 in /home/ivan/miniconda3/lib/python3.8/site-packages (from aiohttp->datasets) (22.2.0)\n",
      "Requirement already satisfied: async-timeout<5.0,>=4.0.0a3 in /home/ivan/miniconda3/lib/python3.8/site-packages (from aiohttp->datasets) (4.0.2)\n",
      "Requirement already satisfied: frozenlist>=1.1.1 in /home/ivan/miniconda3/lib/python3.8/site-packages (from aiohttp->datasets) (1.3.3)\n",
      "Requirement already satisfied: multidict<7.0,>=4.5 in /home/ivan/miniconda3/lib/python3.8/site-packages (from aiohttp->datasets) (6.0.4)\n",
      "Requirement already satisfied: yarl<2.0,>=1.0 in /home/ivan/miniconda3/lib/python3.8/site-packages (from aiohttp->datasets) (1.8.2)\n",
      "Requirement already satisfied: aiosignal>=1.1.2 in /home/ivan/miniconda3/lib/python3.8/site-packages (from aiohttp->datasets) (1.3.1)\n",
      "Requirement already satisfied: typing-extensions>=3.7.4.3 in /home/ivan/miniconda3/lib/python3.8/site-packages (from huggingface-hub<1.0.0,>=0.2.0->datasets) (4.4.0)\n",
      "Requirement already satisfied: filelock in /home/ivan/miniconda3/lib/python3.8/site-packages (from huggingface-hub<1.0.0,>=0.2.0->datasets) (3.8.0)\n",
      "Requirement already satisfied: idna<4,>=2.5 in /home/ivan/miniconda3/lib/python3.8/site-packages (from requests>=2.19.0->datasets) (3.4)\n",
      "Requirement already satisfied: urllib3<1.27,>=1.21.1 in /home/ivan/miniconda3/lib/python3.8/site-packages (from requests>=2.19.0->datasets) (1.26.13)\n",
      "Requirement already satisfied: certifi>=2017.4.17 in /home/ivan/miniconda3/lib/python3.8/site-packages (from requests>=2.19.0->datasets) (2022.12.7)\n",
      "Requirement already satisfied: pytz>=2017.3 in /home/ivan/miniconda3/lib/python3.8/site-packages (from pandas->datasets) (2019.3)\n",
      "Requirement already satisfied: python-dateutil>=2.7.3 in /opt/ros/noetic/lib/python3/dist-packages (from pandas->datasets) (2.8.2)\n",
      "Requirement already satisfied: six>=1.5 in /opt/ros/noetic/lib/python3/dist-packages (from python-dateutil>=2.7.3->pandas->datasets) (1.16.0)\n",
      "Installing collected packages: xxhash, pyarrow, fsspec, dill, responses, multiprocess, datasets\n",
      "Successfully installed datasets-2.10.0 dill-0.3.6 fsspec-2023.1.0 multiprocess-0.70.14 pyarrow-11.0.0 responses-0.18.0 xxhash-3.2.0\n",
      "\n",
      "\u001b[1m[\u001b[0m\u001b[34;49mnotice\u001b[0m\u001b[1;39;49m]\u001b[0m\u001b[39;49m A new release of pip is available: \u001b[0m\u001b[31;49m23.0\u001b[0m\u001b[39;49m -> \u001b[0m\u001b[32;49m23.0.1\u001b[0m\n",
      "\u001b[1m[\u001b[0m\u001b[34;49mnotice\u001b[0m\u001b[1;39;49m]\u001b[0m\u001b[39;49m To update, run: \u001b[0m\u001b[32;49mpip install --upgrade pip\u001b[0m\n",
      "Requirement already satisfied: transformers in /home/ivan/miniconda3/lib/python3.8/site-packages (4.26.1)\n",
      "Requirement already satisfied: regex!=2019.12.17 in /home/ivan/miniconda3/lib/python3.8/site-packages (from transformers) (2022.10.31)\n",
      "Requirement already satisfied: tqdm>=4.27 in /home/ivan/.local/lib/python3.8/site-packages (from transformers) (4.64.1)\n",
      "Requirement already satisfied: packaging>=20.0 in /home/ivan/miniconda3/lib/python3.8/site-packages (from transformers) (22.0)\n",
      "Requirement already satisfied: huggingface-hub<1.0,>=0.11.0 in /home/ivan/miniconda3/lib/python3.8/site-packages (from transformers) (0.12.1)\n",
      "Requirement already satisfied: numpy>=1.17 in /home/ivan/miniconda3/lib/python3.8/site-packages (from transformers) (1.23.3)\n",
      "Requirement already satisfied: requests in /home/ivan/miniconda3/lib/python3.8/site-packages (from transformers) (2.28.1)\n",
      "Requirement already satisfied: pyyaml>=5.1 in /opt/ros/noetic/lib/python3/dist-packages (from transformers) (6.0)\n",
      "Requirement already satisfied: tokenizers!=0.11.3,<0.14,>=0.11.1 in /home/ivan/miniconda3/lib/python3.8/site-packages (from transformers) (0.13.2)\n",
      "Requirement already satisfied: filelock in /home/ivan/miniconda3/lib/python3.8/site-packages (from transformers) (3.8.0)\n",
      "Requirement already satisfied: typing-extensions>=3.7.4.3 in /home/ivan/miniconda3/lib/python3.8/site-packages (from huggingface-hub<1.0,>=0.11.0->transformers) (4.4.0)\n",
      "Requirement already satisfied: urllib3<1.27,>=1.21.1 in /home/ivan/miniconda3/lib/python3.8/site-packages (from requests->transformers) (1.26.13)\n",
      "Requirement already satisfied: idna<4,>=2.5 in /home/ivan/miniconda3/lib/python3.8/site-packages (from requests->transformers) (3.4)\n",
      "Requirement already satisfied: charset-normalizer<3,>=2 in /home/ivan/miniconda3/lib/python3.8/site-packages (from requests->transformers) (2.1.1)\n",
      "Requirement already satisfied: certifi>=2017.4.17 in /home/ivan/miniconda3/lib/python3.8/site-packages (from requests->transformers) (2022.12.7)\n",
      "\n",
      "\u001b[1m[\u001b[0m\u001b[34;49mnotice\u001b[0m\u001b[1;39;49m]\u001b[0m\u001b[39;49m A new release of pip is available: \u001b[0m\u001b[31;49m23.0\u001b[0m\u001b[39;49m -> \u001b[0m\u001b[32;49m23.0.1\u001b[0m\n",
      "\u001b[1m[\u001b[0m\u001b[34;49mnotice\u001b[0m\u001b[1;39;49m]\u001b[0m\u001b[39;49m To update, run: \u001b[0m\u001b[32;49mpip install --upgrade pip\u001b[0m\n"
     ]
    }
   ],
   "source": [
    "!pip install datasets\n",
    "!pip install transformers"
   ]
  },
  {
   "cell_type": "markdown",
   "metadata": {
    "id": "-H3p1tdnqrvT"
   },
   "source": [
    "## Data preprocessing"
   ]
  },
  {
   "cell_type": "code",
   "execution_count": 1,
   "metadata": {
    "colab": {
     "base_uri": "https://localhost:8080/",
     "height": 88,
     "referenced_widgets": [
      "54723a75d7c74ffbaaadb67068659be1",
      "e82c93c5d82246afac14cbb964d1980c",
      "3c1e0a31a77043958331fe076188cd80",
      "3f76fdd7cc884095af804cc8ed395ec8",
      "790c298df47b4053ba1002a8b6d648da",
      "18425e4cf74a4713a84c7ecf9517f5fc",
      "bf0dbfff36894ac89071654bedaa7118",
      "b829479408a04b919fd6ef4b448fa26e",
      "10605c0e9cf94373b34f626f5482341f",
      "52bd23ec9a634894991b85ceee40cc63",
      "e968ad9f908146559ec677aca3af78ac"
     ]
    },
    "id": "CV74SlP5aPbw",
    "outputId": "8eefc321-ece2-4b28-dcd7-004d27d23fab"
   },
   "outputs": [
    {
     "name": "stderr",
     "output_type": "stream",
     "text": [
      "Found cached dataset imdb (/home/ivan/.cache/huggingface/datasets/imdb/plain_text/1.0.0/d613c88cf8fa3bab83b4ded3713f1f74830d1100e171db75bbddb80b3345c9c0)\n"
     ]
    },
    {
     "data": {
      "application/vnd.jupyter.widget-view+json": {
       "model_id": "a28a6456a1a74966ade6895bfbd47555",
       "version_major": 2,
       "version_minor": 0
      },
      "text/plain": [
       "  0%|          | 0/3 [00:00<?, ?it/s]"
      ]
     },
     "metadata": {},
     "output_type": "display_data"
    }
   ],
   "source": [
    "from datasets import load_dataset\n",
    "\n",
    "raw_datasets = load_dataset(\"imdb\")"
   ]
  },
  {
   "cell_type": "code",
   "execution_count": 2,
   "metadata": {
    "colab": {
     "base_uri": "https://localhost:8080/"
    },
    "id": "u0vAqF7OnL4B",
    "outputId": "f3bbc880-405a-4a53-9573-249301b1bd37"
   },
   "outputs": [],
   "source": [
    "from transformers import AutoTokenizer\n",
    "\n",
    "tokenizer = AutoTokenizer.from_pretrained(\"bert-base-cased\")"
   ]
  },
  {
   "cell_type": "code",
   "execution_count": 3,
   "metadata": {
    "colab": {
     "base_uri": "https://localhost:8080/",
     "height": 106,
     "referenced_widgets": [
      "78bf4c6a7fdb4471b1308448b2281cbd",
      "a2d65a95219341db8e1ddb570d0d21be",
      "d64b06558c3841bb82db162be9fa78ab",
      "08f022383d3748e2b5553aea4925c38e",
      "a9e688c8c3dd4554b744dcd5e6d5ae62",
      "b46a227d08ce4721abef4eafcd432365",
      "333fd93303744e7ab7bf6bb413342e42",
      "daa4ee7bd4f8497e9e0f82da5d2f9cf2",
      "c5ffb672127647cd8fe257b2dfc81987",
      "41ec63557f614585a02c5ae0a4051ae8",
      "5cd5d21b73b74c3bade6e921be164c9a"
     ]
    },
    "id": "A0tR5rmUnTLO",
    "outputId": "4cd16f7c-3306-4eb0-ec32-d80560f159b9"
   },
   "outputs": [
    {
     "name": "stderr",
     "output_type": "stream",
     "text": [
      "Loading cached processed dataset at /home/ivan/.cache/huggingface/datasets/imdb/plain_text/1.0.0/d613c88cf8fa3bab83b4ded3713f1f74830d1100e171db75bbddb80b3345c9c0/cache-23dbfa0878e525bf.arrow\n",
      "Loading cached processed dataset at /home/ivan/.cache/huggingface/datasets/imdb/plain_text/1.0.0/d613c88cf8fa3bab83b4ded3713f1f74830d1100e171db75bbddb80b3345c9c0/cache-9fcb76b56aad9b74.arrow\n",
      "Loading cached processed dataset at /home/ivan/.cache/huggingface/datasets/imdb/plain_text/1.0.0/d613c88cf8fa3bab83b4ded3713f1f74830d1100e171db75bbddb80b3345c9c0/cache-615abeb0d008ff33.arrow\n"
     ]
    }
   ],
   "source": [
    "def tokenize_function(examples):\n",
    "    return tokenizer(examples[\"text\"], padding=\"max_length\", truncation=True)\n",
    "\n",
    "\n",
    "tokenized_datasets = raw_datasets.map(tokenize_function, batched=True)"
   ]
  },
  {
   "cell_type": "code",
   "execution_count": 4,
   "metadata": {
    "id": "Z_aDki0gnWkq"
   },
   "outputs": [
    {
     "name": "stderr",
     "output_type": "stream",
     "text": [
      "Loading cached shuffled indices for dataset at /home/ivan/.cache/huggingface/datasets/imdb/plain_text/1.0.0/d613c88cf8fa3bab83b4ded3713f1f74830d1100e171db75bbddb80b3345c9c0/cache-c6770004c957715b.arrow\n",
      "Loading cached shuffled indices for dataset at /home/ivan/.cache/huggingface/datasets/imdb/plain_text/1.0.0/d613c88cf8fa3bab83b4ded3713f1f74830d1100e171db75bbddb80b3345c9c0/cache-22b125dffe7555d7.arrow\n"
     ]
    }
   ],
   "source": [
    "small_train_dataset = tokenized_datasets[\"train\"].shuffle(seed=42).select(range(1000))\n",
    "small_eval_dataset = tokenized_datasets[\"test\"].shuffle(seed=42).select(range(1000))"
   ]
  },
  {
   "cell_type": "code",
   "execution_count": 5,
   "metadata": {
    "colab": {
     "base_uri": "https://localhost:8080/"
    },
    "id": "snhEn-e8y15R",
    "outputId": "0032313a-b959-4923-99ed-d5a974990d0a"
   },
   "outputs": [
    {
     "data": {
      "text/plain": [
       "{'[UNK]': 100, '[SEP]': 102, '[PAD]': 0, '[CLS]': 101, '[MASK]': 103}"
      ]
     },
     "execution_count": 5,
     "metadata": {},
     "output_type": "execute_result"
    }
   ],
   "source": [
    "special = tokenizer.all_special_tokens\n",
    "dict(zip(special, tokenizer.convert_tokens_to_ids(special)))"
   ]
  },
  {
   "cell_type": "code",
   "execution_count": 6,
   "metadata": {
    "colab": {
     "base_uri": "https://localhost:8080/"
    },
    "id": "dEG_f_epzXHc",
    "outputId": "f7810151-dc65-440e-fb24-634e6222ce09"
   },
   "outputs": [
    {
     "data": {
      "text/plain": [
       "dict_keys(['text', 'label', 'input_ids', 'token_type_ids', 'attention_mask'])"
      ]
     },
     "execution_count": 6,
     "metadata": {},
     "output_type": "execute_result"
    }
   ],
   "source": [
    "small_train_dataset[0].keys()"
   ]
  },
  {
   "cell_type": "code",
   "execution_count": 7,
   "metadata": {
    "colab": {
     "base_uri": "https://localhost:8080/"
    },
    "id": "F3_vlel9zhDG",
    "outputId": "dd9f0e71-043a-4083-8340-db299a8941c9"
   },
   "outputs": [
    {
     "name": "stdout",
     "output_type": "stream",
     "text": [
      "There is no relation at all between Fortier and Profiler but the fact that both are police series ab\n",
      "101\n",
      "3144 Fort\n",
      "[0, 0, 0, 0, 0, 0, 0, 0, 0, 0]\n"
     ]
    }
   ],
   "source": [
    "print(small_train_dataset[0][\"text\"][:100])\n",
    "print(small_train_dataset[0][\"input_ids\"][0])  # [CLS]\n",
    "i = small_train_dataset[0][\"input_ids\"][8]\n",
    "print(i, tokenizer.convert_ids_to_tokens(i))  # token with id `i`\n",
    "print(small_train_dataset[0][\"input_ids\"][-10:])  # [PAD]"
   ]
  },
  {
   "cell_type": "markdown",
   "metadata": {
    "id": "mIZ39MCgqzAs"
   },
   "source": [
    "## Bert Fine-tuning"
   ]
  },
  {
   "cell_type": "markdown",
   "metadata": {
    "id": "yxvUE-f9xnhX"
   },
   "source": [
    "The architecture of BERT is the same as the encoder of a transformer network. It mainly consists of a series of self-attention layers (12 in case of the base model and 24 in the large model) combined with layer normalization and residual layers."
   ]
  },
  {
   "cell_type": "markdown",
   "metadata": {
    "id": "cjFffbsiwRFV"
   },
   "source": [
    "![image.png](data:image/png;base64,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)\n"
   ]
  },
  {
   "cell_type": "markdown",
   "metadata": {
    "id": "CBAUSMBnxgNX"
   },
   "source": [
    "This network is pre-trained on large corpora on two main tasks:\n",
    "\n",
    "1. Masked Language Model: Given an input sentence, some words are randomly (in the paper they choose 15% of the total words) replaced with a MASK token and the network is trained to predict these masked words."
   ]
  },
  {
   "cell_type": "markdown",
   "metadata": {
    "id": "ykfd02PHxd9J"
   },
   "source": [
    "![image.png](data:image/png;base64,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)\n"
   ]
  },
  {
   "cell_type": "markdown",
   "metadata": {
    "id": "zMOMOKXwxNis"
   },
   "source": [
    "2. Next Sentence Prediction: BERT can also handle a pair of sequences as inputs. For these cases, the 2 sequences are separated by a [SEP] token. In addition to the masked LM Task, we also train BERT on the next sentence prediction problem, where given 2 sentences it needs to predict if the first sentence comes before second in the actual corpus."
   ]
  },
  {
   "cell_type": "markdown",
   "metadata": {
    "id": "O3TNW0_IxMAh"
   },
   "source": [
    "![image.png](data:image/png;base64,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)"
   ]
  },
  {
   "cell_type": "markdown",
   "metadata": {
    "id": "Dhxg9Q96x1ZA"
   },
   "source": [
    "You may have noticed the [CLS] token in the figure, it is basically added to the beginning of each sequence (or pair of sequences) and is given the responsibility of sequence level classification. That’s why we used the embeddings of [CLS] token to predict if sentence A comes before B in the next sentence prediction task.\n",
    "\n",
    "After BERT is trained on these 2 tasks, the learned model can be then used as a feature extractor for different NLP problems, where we can either keep the learned weights fixed and just learn the newly added task-specific layers or fine-tune the pre-trained layers too."
   ]
  },
  {
   "cell_type": "code",
   "execution_count": 8,
   "metadata": {
    "id": "M4GiSkL_1Rsj"
   },
   "outputs": [],
   "source": [
    "import torch\n",
    "from torch.utils.data import DataLoader\n",
    "\n",
    "from transformers import BertModel, BertTokenizer\n",
    "\n",
    "def to_tensors(x):\n",
    "    return (torch.tensor(x['input_ids']), torch.tensor(x['attention_mask']), torch.tensor(x['label']))\n",
    "\n",
    "small_train_dataset_tensors = [to_tensors(x) for x in small_train_dataset]\n",
    "small_eval_dataset_tensors = [to_tensors(x) for x in small_eval_dataset]\n",
    "\n",
    "train_loader = DataLoader(small_train_dataset_tensors, batch_size=64)\n",
    "val_loader = DataLoader(small_eval_dataset_tensors, batch_size=64)"
   ]
  },
  {
   "cell_type": "code",
   "execution_count": 9,
   "metadata": {
    "id": "T9PUCfqn1SzU"
   },
   "outputs": [],
   "source": [
    "import torch\n",
    "import torch.nn as nn\n",
    "from transformers import BertModel\n",
    "\n",
    "class SentimentClassifier(nn.Module):\n",
    "\n",
    "    def __init__(self, freeze_bert = True):\n",
    "        super(SentimentClassifier, self).__init__()\n",
    "        #Instantiating BERT model object \n",
    "        self.bert_layer = BertModel.from_pretrained('bert-base-uncased')\n",
    "        \n",
    "        #Freeze bert layers\n",
    "        if freeze_bert:\n",
    "            for p in self.bert_layer.parameters():\n",
    "                # task: freeze bert training weights\n",
    "                p.requires_grad = False\n",
    "        \n",
    "        #Classification layer\n",
    "        self.cls_layer = nn.Linear(768, 1)\n",
    "\n",
    "    def forward(self, seq, attn_masks):\n",
    "        '''\n",
    "            -seq : Tensor of shape [B, T] containing token ids of sequences\n",
    "            -attn_masks : Tensor of shape [B, T] containing attention masks to be used to avoid contibution of PAD tokens\n",
    "        '''\n",
    "\n",
    "        #Feeding the input to BERT model to obtain contextualized representations\n",
    "        output = self.bert_layer(seq, attention_mask=attn_masks)\n",
    "        cont_reps = output.last_hidden_state  # task: get last hidden state from output\n",
    "\n",
    "        #Obtaining the representation of [CLS] head\n",
    "        cls_rep = cont_reps[:, 0]\n",
    "\n",
    "        #Feeding cls_rep to the classifier layer\n",
    "        logits = self.cls_layer(cls_rep)\n",
    "\n",
    "        return logits"
   ]
  },
  {
   "cell_type": "code",
   "execution_count": 10,
   "metadata": {
    "colab": {
     "base_uri": "https://localhost:8080/"
    },
    "id": "o9FM75291fze",
    "outputId": "85eeff19-e246-45a9-9bcc-4c748cabfb86"
   },
   "outputs": [
    {
     "name": "stderr",
     "output_type": "stream",
     "text": [
      "Some weights of the model checkpoint at bert-base-uncased were not used when initializing BertModel: ['cls.seq_relationship.bias', 'cls.predictions.transform.dense.weight', 'cls.predictions.bias', 'cls.predictions.transform.LayerNorm.weight', 'cls.predictions.transform.LayerNorm.bias', 'cls.predictions.decoder.weight', 'cls.predictions.transform.dense.bias', 'cls.seq_relationship.weight']\n",
      "- This IS expected if you are initializing BertModel from the checkpoint of a model trained on another task or with another architecture (e.g. initializing a BertForSequenceClassification model from a BertForPreTraining model).\n",
      "- This IS NOT expected if you are initializing BertModel from the checkpoint of a model that you expect to be exactly identical (initializing a BertForSequenceClassification model from a BertForSequenceClassification model).\n"
     ]
    }
   ],
   "source": [
    "net = SentimentClassifier(freeze_bert=True)"
   ]
  },
  {
   "cell_type": "code",
   "execution_count": 11,
   "metadata": {
    "id": "RPAsTWhf1hoY"
   },
   "outputs": [],
   "source": [
    "import torch.nn as nn\n",
    "import torch.optim as optim\n",
    "\n",
    "criterion = nn.BCEWithLogitsLoss()\n",
    "optimizer = optim.Adam(net.parameters(), lr=2e-5)"
   ]
  },
  {
   "cell_type": "code",
   "execution_count": 12,
   "metadata": {
    "id": "F8IWCm768FBn"
   },
   "outputs": [],
   "source": [
    "def get_accuracy_from_logits(logits, labels):\n",
    "    #Get a tensor of shape [B, 1, 1] with probabilities that the sentiment is positive\n",
    "    probs = torch.sigmoid(logits.unsqueeze(-1))\n",
    "    #Convert probabilities to predictions, 1 being positive and 0 being negative\n",
    "    soft_probs = (probs > 0.5).long()\n",
    "    #Check which predictions are the same as the ground truth and calculate the accuracy\n",
    "    acc = (soft_probs.squeeze() == labels).float().mean()\n",
    "    return acc"
   ]
  },
  {
   "cell_type": "code",
   "execution_count": 13,
   "metadata": {
    "id": "cCFfU_x_1l5k"
   },
   "outputs": [],
   "source": [
    "from tqdm.notebook import tqdm\n",
    "\n",
    "device = torch.device(\"cuda\" if torch.cuda.is_available() else \"cpu\")\n",
    "\n",
    "\n",
    "def train(net, criterion, optimizer, train_loader, val_loader):\n",
    "    net = net.to(device)\n",
    "    net.train()\n",
    "\n",
    "    for epoch in range(5):\n",
    "        for iteration, (seq, attn_masks, labels) in enumerate(tqdm((train_loader))):\n",
    "            optimizer.zero_grad()\n",
    "            seq, attn_masks, labels = seq.to(device), attn_masks.to(device), labels.to(device)\n",
    "\n",
    "            logits = net(seq, attn_masks)  # task: model forward pass\n",
    "            loss = criterion(logits.squeeze(-1), labels.float())\n",
    "            loss.backward()\n",
    "            optimizer.step()\n",
    "\n",
    "        acc = get_accuracy_from_logits(logits, labels)\n",
    "        print(\"Iteration {} of epoch {} complete. Loss : {} Accuracy : {}\".format(iteration + 1, epoch + 1, loss.item(), acc))"
   ]
  },
  {
   "cell_type": "code",
   "execution_count": 14,
   "metadata": {
    "colab": {
     "base_uri": "https://localhost:8080/"
    },
    "id": "vYfVoaqvGdxW",
    "outputId": "b52962cd-4542-42dd-8110-c8d956ab5502"
   },
   "outputs": [
    {
     "name": "stdout",
     "output_type": "stream",
     "text": [
      "Mon Feb 27 18:06:19 2023       \r\n",
      "+-----------------------------------------------------------------------------+\r\n",
      "| NVIDIA-SMI 525.85.12    Driver Version: 525.85.12    CUDA Version: 12.0     |\r\n",
      "|-------------------------------+----------------------+----------------------+\r\n",
      "| GPU  Name        Persistence-M| Bus-Id        Disp.A | Volatile Uncorr. ECC |\r\n",
      "| Fan  Temp  Perf  Pwr:Usage/Cap|         Memory-Usage | GPU-Util  Compute M. |\r\n",
      "|                               |                      |               MIG M. |\r\n",
      "|===============================+======================+======================|\r\n",
      "|   0  NVIDIA GeForce ...  On   | 00000000:01:00.0 Off |                  N/A |\r\n",
      "| N/A   45C    P0    12W /  75W |     13MiB /  4096MiB |      0%      Default |\r\n",
      "|                               |                      |                  N/A |\r\n",
      "+-------------------------------+----------------------+----------------------+\r\n",
      "                                                                               \r\n",
      "+-----------------------------------------------------------------------------+\r\n",
      "| Processes:                                                                  |\r\n",
      "|  GPU   GI   CI        PID   Type   Process name                  GPU Memory |\r\n",
      "|        ID   ID                                                   Usage      |\r\n",
      "|=============================================================================|\r\n",
      "|    0   N/A  N/A     10106      G   /usr/lib/xorg/Xorg                  4MiB |\r\n",
      "|    0   N/A  N/A     10539      G   /usr/lib/xorg/Xorg                  4MiB |\r\n",
      "+-----------------------------------------------------------------------------+\r\n"
     ]
    }
   ],
   "source": [
    "!nvidia-smi"
   ]
  },
  {
   "cell_type": "code",
   "execution_count": 15,
   "metadata": {
    "colab": {
     "base_uri": "https://localhost:8080/",
     "height": 270,
     "referenced_widgets": [
      "804b6f89d11847dfb0fd4423afec6376",
      "93a72d63ed704620b1152a9fd219eea2",
      "1bcfaa91c0114e9daf1fc14f576956f7",
      "b36bdc4b4e9a4c5ca110d34a4d3dd699",
      "c33ce704e0844baabee324ed541d6e89",
      "264a56bf64f645128d1678f6dedc9fe4",
      "b741638778d849c2abe63ba0de2eb2b7",
      "1c15d8ae85d3409b91e002f1ea82499b",
      "1f61920cd884497388dd976cbe7f20bc",
      "5e5afed7ee6b4826bb93b6d46a6a054d",
      "56958cbeba4e4d128d5e9c24d4fea5af",
      "bc726a815f3940b2b2ad1b75960b9a42",
      "f45966c21e304b998379e1ac51749b8e",
      "514a13fd0b1f41928e5673425fd7185e",
      "57bcbd95af934885bb72c790f2a0810c",
      "989392b3523b4f8daa49eca54c7338be",
      "bdff26d3f966434f9305bac8d4b7a148",
      "91ac8b276eae4c6096eb5f9768599233",
      "d6709f4a3040491caffab31d183432f7",
      "14363e4f8d3149f98fb0ff5469476b36",
      "6fb9e69019f34618a6329494cbeddd7f",
      "5a18939bb6314c8a96d2e86518416aa6",
      "496dd0446b134f488b24cb5e0bb36394",
      "f961c9dd1d7c464dab4e4cf2a3a46dcc",
      "78f09f5712c74060a008253342d799ec",
      "3a66ff2bb4574bb88f13e8efc578fe1f",
      "54d9fe98ad84410e9c353490fb024ce0",
      "0b5710a210f5427b97dddb0a6ce413f2",
      "fee3e1dbea4f41d5880bc816ddbcab15",
      "4dbd6bb132dc498bad48efcda456e499",
      "01a1ca99125a47b5ace7de73b1c1a0a6",
      "fff850dd8ee344cdac2d197a81dcdf1f",
      "ce5ab7657c17417393f6d6311277245e",
      "40be05ba96904df68739e994e69c5b2b",
      "3d7a582f73f441419eb0bda6525c641d",
      "3838a5e5f83b48b4ad3f9b5d782de426",
      "f61c1bd93ca1416fa7cfeb3a6beae317",
      "f84f00b35fc64eaaa4cd2eb166f78a99",
      "1d18d4b7363542db871b418f5c5f9fb2",
      "052a4b490afb4a3881a0678c0bd89d16",
      "90d2bcbbf9884bd09115a555e09ac30d",
      "1d27ad967e384d93bd8a85e48b11e362",
      "ed5cdcaaa86549789a0e3292880ed7d1",
      "a6cd4139bf144ac3a04ae19f7f92f804",
      "f06fbc3e1b1646cd903b87e34a200ad8",
      "909e038e655f409cbdd9abcf66a581e1",
      "1fa9fe6c04dc41fabf96df10bb776bd1",
      "ceea3e82662a4c138624eb3fadecec3f",
      "d93a0fca1491441599ddc7ae2da5d8a3",
      "e2c94c3097004ef0bcb6c2fbc54787c3",
      "643f359d62e74eeaa059840c067442d5",
      "cc6ac09fb5c44190b22e7be5f55ce589",
      "86ff629b8d854f64843bd0b0f036df1e",
      "4ca0be758c3143e5aee9c2cf6636e117",
      "872a2a22e53d467a9250075e00d1d01d"
     ]
    },
    "id": "_9uROVdG7wG4",
    "outputId": "abdc5f73-b424-4f62-9abe-ccc401d0d052"
   },
   "outputs": [
    {
     "data": {
      "application/vnd.jupyter.widget-view+json": {
       "model_id": "9a94f10bedc849ed851059abe3aba44f",
       "version_major": 2,
       "version_minor": 0
      },
      "text/plain": [
       "  0%|          | 0/16 [00:00<?, ?it/s]"
      ]
     },
     "metadata": {},
     "output_type": "display_data"
    },
    {
     "ename": "OutOfMemoryError",
     "evalue": "CUDA out of memory. Tried to allocate 768.00 MiB (GPU 0; 3.81 GiB total capacity; 2.47 GiB already allocated; 362.94 MiB free; 2.52 GiB reserved in total by PyTorch) If reserved memory is >> allocated memory try setting max_split_size_mb to avoid fragmentation.  See documentation for Memory Management and PYTORCH_CUDA_ALLOC_CONF",
     "output_type": "error",
     "traceback": [
      "\u001b[0;31m---------------------------------------------------------------------------\u001b[0m",
      "\u001b[0;31mOutOfMemoryError\u001b[0m                          Traceback (most recent call last)",
      "Cell \u001b[0;32mIn [15], line 1\u001b[0m\n\u001b[0;32m----> 1\u001b[0m \u001b[43mtrain\u001b[49m\u001b[43m(\u001b[49m\u001b[43mnet\u001b[49m\u001b[43m,\u001b[49m\u001b[43m \u001b[49m\u001b[43mcriterion\u001b[49m\u001b[43m,\u001b[49m\u001b[43m \u001b[49m\u001b[43moptimizer\u001b[49m\u001b[43m,\u001b[49m\u001b[43m \u001b[49m\u001b[43mtrain_loader\u001b[49m\u001b[43m,\u001b[49m\u001b[43m \u001b[49m\u001b[43mval_loader\u001b[49m\u001b[43m)\u001b[49m\n",
      "Cell \u001b[0;32mIn [13], line 15\u001b[0m, in \u001b[0;36mtrain\u001b[0;34m(net, criterion, optimizer, train_loader, val_loader)\u001b[0m\n\u001b[1;32m     12\u001b[0m optimizer\u001b[38;5;241m.\u001b[39mzero_grad()\n\u001b[1;32m     13\u001b[0m seq, attn_masks, labels \u001b[38;5;241m=\u001b[39m seq\u001b[38;5;241m.\u001b[39mto(device), attn_masks\u001b[38;5;241m.\u001b[39mto(device), labels\u001b[38;5;241m.\u001b[39mto(device)\n\u001b[0;32m---> 15\u001b[0m logits \u001b[38;5;241m=\u001b[39m \u001b[43mnet\u001b[49m\u001b[43m(\u001b[49m\u001b[43mseq\u001b[49m\u001b[43m,\u001b[49m\u001b[43m \u001b[49m\u001b[43mattn_masks\u001b[49m\u001b[43m)\u001b[49m  \u001b[38;5;66;03m# task: model forward pass\u001b[39;00m\n\u001b[1;32m     16\u001b[0m loss \u001b[38;5;241m=\u001b[39m criterion(logits\u001b[38;5;241m.\u001b[39msqueeze(\u001b[38;5;241m-\u001b[39m\u001b[38;5;241m1\u001b[39m), labels\u001b[38;5;241m.\u001b[39mfloat())\n\u001b[1;32m     17\u001b[0m loss\u001b[38;5;241m.\u001b[39mbackward()\n",
      "File \u001b[0;32m~/miniconda3/lib/python3.8/site-packages/torch/nn/modules/module.py:1194\u001b[0m, in \u001b[0;36mModule._call_impl\u001b[0;34m(self, *input, **kwargs)\u001b[0m\n\u001b[1;32m   1190\u001b[0m \u001b[38;5;66;03m# If we don't have any hooks, we want to skip the rest of the logic in\u001b[39;00m\n\u001b[1;32m   1191\u001b[0m \u001b[38;5;66;03m# this function, and just call forward.\u001b[39;00m\n\u001b[1;32m   1192\u001b[0m \u001b[38;5;28;01mif\u001b[39;00m \u001b[38;5;129;01mnot\u001b[39;00m (\u001b[38;5;28mself\u001b[39m\u001b[38;5;241m.\u001b[39m_backward_hooks \u001b[38;5;129;01mor\u001b[39;00m \u001b[38;5;28mself\u001b[39m\u001b[38;5;241m.\u001b[39m_forward_hooks \u001b[38;5;129;01mor\u001b[39;00m \u001b[38;5;28mself\u001b[39m\u001b[38;5;241m.\u001b[39m_forward_pre_hooks \u001b[38;5;129;01mor\u001b[39;00m _global_backward_hooks\n\u001b[1;32m   1193\u001b[0m         \u001b[38;5;129;01mor\u001b[39;00m _global_forward_hooks \u001b[38;5;129;01mor\u001b[39;00m _global_forward_pre_hooks):\n\u001b[0;32m-> 1194\u001b[0m     \u001b[38;5;28;01mreturn\u001b[39;00m \u001b[43mforward_call\u001b[49m\u001b[43m(\u001b[49m\u001b[38;5;241;43m*\u001b[39;49m\u001b[38;5;28;43minput\u001b[39;49m\u001b[43m,\u001b[49m\u001b[43m \u001b[49m\u001b[38;5;241;43m*\u001b[39;49m\u001b[38;5;241;43m*\u001b[39;49m\u001b[43mkwargs\u001b[49m\u001b[43m)\u001b[49m\n\u001b[1;32m   1195\u001b[0m \u001b[38;5;66;03m# Do not call functions when jit is used\u001b[39;00m\n\u001b[1;32m   1196\u001b[0m full_backward_hooks, non_full_backward_hooks \u001b[38;5;241m=\u001b[39m [], []\n",
      "Cell \u001b[0;32mIn [9], line 28\u001b[0m, in \u001b[0;36mSentimentClassifier.forward\u001b[0;34m(self, seq, attn_masks)\u001b[0m\n\u001b[1;32m     22\u001b[0m \u001b[38;5;124;03m'''\u001b[39;00m\n\u001b[1;32m     23\u001b[0m \u001b[38;5;124;03m    -seq : Tensor of shape [B, T] containing token ids of sequences\u001b[39;00m\n\u001b[1;32m     24\u001b[0m \u001b[38;5;124;03m    -attn_masks : Tensor of shape [B, T] containing attention masks to be used to avoid contibution of PAD tokens\u001b[39;00m\n\u001b[1;32m     25\u001b[0m \u001b[38;5;124;03m'''\u001b[39;00m\n\u001b[1;32m     27\u001b[0m \u001b[38;5;66;03m#Feeding the input to BERT model to obtain contextualized representations\u001b[39;00m\n\u001b[0;32m---> 28\u001b[0m output \u001b[38;5;241m=\u001b[39m \u001b[38;5;28;43mself\u001b[39;49m\u001b[38;5;241;43m.\u001b[39;49m\u001b[43mbert_layer\u001b[49m\u001b[43m(\u001b[49m\u001b[43mseq\u001b[49m\u001b[43m,\u001b[49m\u001b[43m \u001b[49m\u001b[43mattention_mask\u001b[49m\u001b[38;5;241;43m=\u001b[39;49m\u001b[43mattn_masks\u001b[49m\u001b[43m)\u001b[49m\n\u001b[1;32m     29\u001b[0m cont_reps \u001b[38;5;241m=\u001b[39m output\u001b[38;5;241m.\u001b[39mlast_hidden_state  \u001b[38;5;66;03m# task: get last hidden state from output\u001b[39;00m\n\u001b[1;32m     31\u001b[0m \u001b[38;5;66;03m#Obtaining the representation of [CLS] head\u001b[39;00m\n",
      "File \u001b[0;32m~/miniconda3/lib/python3.8/site-packages/torch/nn/modules/module.py:1194\u001b[0m, in \u001b[0;36mModule._call_impl\u001b[0;34m(self, *input, **kwargs)\u001b[0m\n\u001b[1;32m   1190\u001b[0m \u001b[38;5;66;03m# If we don't have any hooks, we want to skip the rest of the logic in\u001b[39;00m\n\u001b[1;32m   1191\u001b[0m \u001b[38;5;66;03m# this function, and just call forward.\u001b[39;00m\n\u001b[1;32m   1192\u001b[0m \u001b[38;5;28;01mif\u001b[39;00m \u001b[38;5;129;01mnot\u001b[39;00m (\u001b[38;5;28mself\u001b[39m\u001b[38;5;241m.\u001b[39m_backward_hooks \u001b[38;5;129;01mor\u001b[39;00m \u001b[38;5;28mself\u001b[39m\u001b[38;5;241m.\u001b[39m_forward_hooks \u001b[38;5;129;01mor\u001b[39;00m \u001b[38;5;28mself\u001b[39m\u001b[38;5;241m.\u001b[39m_forward_pre_hooks \u001b[38;5;129;01mor\u001b[39;00m _global_backward_hooks\n\u001b[1;32m   1193\u001b[0m         \u001b[38;5;129;01mor\u001b[39;00m _global_forward_hooks \u001b[38;5;129;01mor\u001b[39;00m _global_forward_pre_hooks):\n\u001b[0;32m-> 1194\u001b[0m     \u001b[38;5;28;01mreturn\u001b[39;00m \u001b[43mforward_call\u001b[49m\u001b[43m(\u001b[49m\u001b[38;5;241;43m*\u001b[39;49m\u001b[38;5;28;43minput\u001b[39;49m\u001b[43m,\u001b[49m\u001b[43m \u001b[49m\u001b[38;5;241;43m*\u001b[39;49m\u001b[38;5;241;43m*\u001b[39;49m\u001b[43mkwargs\u001b[49m\u001b[43m)\u001b[49m\n\u001b[1;32m   1195\u001b[0m \u001b[38;5;66;03m# Do not call functions when jit is used\u001b[39;00m\n\u001b[1;32m   1196\u001b[0m full_backward_hooks, non_full_backward_hooks \u001b[38;5;241m=\u001b[39m [], []\n",
      "File \u001b[0;32m~/miniconda3/lib/python3.8/site-packages/transformers/models/bert/modeling_bert.py:1019\u001b[0m, in \u001b[0;36mBertModel.forward\u001b[0;34m(self, input_ids, attention_mask, token_type_ids, position_ids, head_mask, inputs_embeds, encoder_hidden_states, encoder_attention_mask, past_key_values, use_cache, output_attentions, output_hidden_states, return_dict)\u001b[0m\n\u001b[1;32m   1010\u001b[0m head_mask \u001b[38;5;241m=\u001b[39m \u001b[38;5;28mself\u001b[39m\u001b[38;5;241m.\u001b[39mget_head_mask(head_mask, \u001b[38;5;28mself\u001b[39m\u001b[38;5;241m.\u001b[39mconfig\u001b[38;5;241m.\u001b[39mnum_hidden_layers)\n\u001b[1;32m   1012\u001b[0m embedding_output \u001b[38;5;241m=\u001b[39m \u001b[38;5;28mself\u001b[39m\u001b[38;5;241m.\u001b[39membeddings(\n\u001b[1;32m   1013\u001b[0m     input_ids\u001b[38;5;241m=\u001b[39minput_ids,\n\u001b[1;32m   1014\u001b[0m     position_ids\u001b[38;5;241m=\u001b[39mposition_ids,\n\u001b[0;32m   (...)\u001b[0m\n\u001b[1;32m   1017\u001b[0m     past_key_values_length\u001b[38;5;241m=\u001b[39mpast_key_values_length,\n\u001b[1;32m   1018\u001b[0m )\n\u001b[0;32m-> 1019\u001b[0m encoder_outputs \u001b[38;5;241m=\u001b[39m \u001b[38;5;28;43mself\u001b[39;49m\u001b[38;5;241;43m.\u001b[39;49m\u001b[43mencoder\u001b[49m\u001b[43m(\u001b[49m\n\u001b[1;32m   1020\u001b[0m \u001b[43m    \u001b[49m\u001b[43membedding_output\u001b[49m\u001b[43m,\u001b[49m\n\u001b[1;32m   1021\u001b[0m \u001b[43m    \u001b[49m\u001b[43mattention_mask\u001b[49m\u001b[38;5;241;43m=\u001b[39;49m\u001b[43mextended_attention_mask\u001b[49m\u001b[43m,\u001b[49m\n\u001b[1;32m   1022\u001b[0m \u001b[43m    \u001b[49m\u001b[43mhead_mask\u001b[49m\u001b[38;5;241;43m=\u001b[39;49m\u001b[43mhead_mask\u001b[49m\u001b[43m,\u001b[49m\n\u001b[1;32m   1023\u001b[0m \u001b[43m    \u001b[49m\u001b[43mencoder_hidden_states\u001b[49m\u001b[38;5;241;43m=\u001b[39;49m\u001b[43mencoder_hidden_states\u001b[49m\u001b[43m,\u001b[49m\n\u001b[1;32m   1024\u001b[0m \u001b[43m    \u001b[49m\u001b[43mencoder_attention_mask\u001b[49m\u001b[38;5;241;43m=\u001b[39;49m\u001b[43mencoder_extended_attention_mask\u001b[49m\u001b[43m,\u001b[49m\n\u001b[1;32m   1025\u001b[0m \u001b[43m    \u001b[49m\u001b[43mpast_key_values\u001b[49m\u001b[38;5;241;43m=\u001b[39;49m\u001b[43mpast_key_values\u001b[49m\u001b[43m,\u001b[49m\n\u001b[1;32m   1026\u001b[0m \u001b[43m    \u001b[49m\u001b[43muse_cache\u001b[49m\u001b[38;5;241;43m=\u001b[39;49m\u001b[43muse_cache\u001b[49m\u001b[43m,\u001b[49m\n\u001b[1;32m   1027\u001b[0m \u001b[43m    \u001b[49m\u001b[43moutput_attentions\u001b[49m\u001b[38;5;241;43m=\u001b[39;49m\u001b[43moutput_attentions\u001b[49m\u001b[43m,\u001b[49m\n\u001b[1;32m   1028\u001b[0m \u001b[43m    \u001b[49m\u001b[43moutput_hidden_states\u001b[49m\u001b[38;5;241;43m=\u001b[39;49m\u001b[43moutput_hidden_states\u001b[49m\u001b[43m,\u001b[49m\n\u001b[1;32m   1029\u001b[0m \u001b[43m    \u001b[49m\u001b[43mreturn_dict\u001b[49m\u001b[38;5;241;43m=\u001b[39;49m\u001b[43mreturn_dict\u001b[49m\u001b[43m,\u001b[49m\n\u001b[1;32m   1030\u001b[0m \u001b[43m\u001b[49m\u001b[43m)\u001b[49m\n\u001b[1;32m   1031\u001b[0m sequence_output \u001b[38;5;241m=\u001b[39m encoder_outputs[\u001b[38;5;241m0\u001b[39m]\n\u001b[1;32m   1032\u001b[0m pooled_output \u001b[38;5;241m=\u001b[39m \u001b[38;5;28mself\u001b[39m\u001b[38;5;241m.\u001b[39mpooler(sequence_output) \u001b[38;5;28;01mif\u001b[39;00m \u001b[38;5;28mself\u001b[39m\u001b[38;5;241m.\u001b[39mpooler \u001b[38;5;129;01mis\u001b[39;00m \u001b[38;5;129;01mnot\u001b[39;00m \u001b[38;5;28;01mNone\u001b[39;00m \u001b[38;5;28;01melse\u001b[39;00m \u001b[38;5;28;01mNone\u001b[39;00m\n",
      "File \u001b[0;32m~/miniconda3/lib/python3.8/site-packages/torch/nn/modules/module.py:1194\u001b[0m, in \u001b[0;36mModule._call_impl\u001b[0;34m(self, *input, **kwargs)\u001b[0m\n\u001b[1;32m   1190\u001b[0m \u001b[38;5;66;03m# If we don't have any hooks, we want to skip the rest of the logic in\u001b[39;00m\n\u001b[1;32m   1191\u001b[0m \u001b[38;5;66;03m# this function, and just call forward.\u001b[39;00m\n\u001b[1;32m   1192\u001b[0m \u001b[38;5;28;01mif\u001b[39;00m \u001b[38;5;129;01mnot\u001b[39;00m (\u001b[38;5;28mself\u001b[39m\u001b[38;5;241m.\u001b[39m_backward_hooks \u001b[38;5;129;01mor\u001b[39;00m \u001b[38;5;28mself\u001b[39m\u001b[38;5;241m.\u001b[39m_forward_hooks \u001b[38;5;129;01mor\u001b[39;00m \u001b[38;5;28mself\u001b[39m\u001b[38;5;241m.\u001b[39m_forward_pre_hooks \u001b[38;5;129;01mor\u001b[39;00m _global_backward_hooks\n\u001b[1;32m   1193\u001b[0m         \u001b[38;5;129;01mor\u001b[39;00m _global_forward_hooks \u001b[38;5;129;01mor\u001b[39;00m _global_forward_pre_hooks):\n\u001b[0;32m-> 1194\u001b[0m     \u001b[38;5;28;01mreturn\u001b[39;00m \u001b[43mforward_call\u001b[49m\u001b[43m(\u001b[49m\u001b[38;5;241;43m*\u001b[39;49m\u001b[38;5;28;43minput\u001b[39;49m\u001b[43m,\u001b[49m\u001b[43m \u001b[49m\u001b[38;5;241;43m*\u001b[39;49m\u001b[38;5;241;43m*\u001b[39;49m\u001b[43mkwargs\u001b[49m\u001b[43m)\u001b[49m\n\u001b[1;32m   1195\u001b[0m \u001b[38;5;66;03m# Do not call functions when jit is used\u001b[39;00m\n\u001b[1;32m   1196\u001b[0m full_backward_hooks, non_full_backward_hooks \u001b[38;5;241m=\u001b[39m [], []\n",
      "File \u001b[0;32m~/miniconda3/lib/python3.8/site-packages/transformers/models/bert/modeling_bert.py:609\u001b[0m, in \u001b[0;36mBertEncoder.forward\u001b[0;34m(self, hidden_states, attention_mask, head_mask, encoder_hidden_states, encoder_attention_mask, past_key_values, use_cache, output_attentions, output_hidden_states, return_dict)\u001b[0m\n\u001b[1;32m    600\u001b[0m     layer_outputs \u001b[38;5;241m=\u001b[39m torch\u001b[38;5;241m.\u001b[39mutils\u001b[38;5;241m.\u001b[39mcheckpoint\u001b[38;5;241m.\u001b[39mcheckpoint(\n\u001b[1;32m    601\u001b[0m         create_custom_forward(layer_module),\n\u001b[1;32m    602\u001b[0m         hidden_states,\n\u001b[0;32m   (...)\u001b[0m\n\u001b[1;32m    606\u001b[0m         encoder_attention_mask,\n\u001b[1;32m    607\u001b[0m     )\n\u001b[1;32m    608\u001b[0m \u001b[38;5;28;01melse\u001b[39;00m:\n\u001b[0;32m--> 609\u001b[0m     layer_outputs \u001b[38;5;241m=\u001b[39m \u001b[43mlayer_module\u001b[49m\u001b[43m(\u001b[49m\n\u001b[1;32m    610\u001b[0m \u001b[43m        \u001b[49m\u001b[43mhidden_states\u001b[49m\u001b[43m,\u001b[49m\n\u001b[1;32m    611\u001b[0m \u001b[43m        \u001b[49m\u001b[43mattention_mask\u001b[49m\u001b[43m,\u001b[49m\n\u001b[1;32m    612\u001b[0m \u001b[43m        \u001b[49m\u001b[43mlayer_head_mask\u001b[49m\u001b[43m,\u001b[49m\n\u001b[1;32m    613\u001b[0m \u001b[43m        \u001b[49m\u001b[43mencoder_hidden_states\u001b[49m\u001b[43m,\u001b[49m\n\u001b[1;32m    614\u001b[0m \u001b[43m        \u001b[49m\u001b[43mencoder_attention_mask\u001b[49m\u001b[43m,\u001b[49m\n\u001b[1;32m    615\u001b[0m \u001b[43m        \u001b[49m\u001b[43mpast_key_value\u001b[49m\u001b[43m,\u001b[49m\n\u001b[1;32m    616\u001b[0m \u001b[43m        \u001b[49m\u001b[43moutput_attentions\u001b[49m\u001b[43m,\u001b[49m\n\u001b[1;32m    617\u001b[0m \u001b[43m    \u001b[49m\u001b[43m)\u001b[49m\n\u001b[1;32m    619\u001b[0m hidden_states \u001b[38;5;241m=\u001b[39m layer_outputs[\u001b[38;5;241m0\u001b[39m]\n\u001b[1;32m    620\u001b[0m \u001b[38;5;28;01mif\u001b[39;00m use_cache:\n",
      "File \u001b[0;32m~/miniconda3/lib/python3.8/site-packages/torch/nn/modules/module.py:1194\u001b[0m, in \u001b[0;36mModule._call_impl\u001b[0;34m(self, *input, **kwargs)\u001b[0m\n\u001b[1;32m   1190\u001b[0m \u001b[38;5;66;03m# If we don't have any hooks, we want to skip the rest of the logic in\u001b[39;00m\n\u001b[1;32m   1191\u001b[0m \u001b[38;5;66;03m# this function, and just call forward.\u001b[39;00m\n\u001b[1;32m   1192\u001b[0m \u001b[38;5;28;01mif\u001b[39;00m \u001b[38;5;129;01mnot\u001b[39;00m (\u001b[38;5;28mself\u001b[39m\u001b[38;5;241m.\u001b[39m_backward_hooks \u001b[38;5;129;01mor\u001b[39;00m \u001b[38;5;28mself\u001b[39m\u001b[38;5;241m.\u001b[39m_forward_hooks \u001b[38;5;129;01mor\u001b[39;00m \u001b[38;5;28mself\u001b[39m\u001b[38;5;241m.\u001b[39m_forward_pre_hooks \u001b[38;5;129;01mor\u001b[39;00m _global_backward_hooks\n\u001b[1;32m   1193\u001b[0m         \u001b[38;5;129;01mor\u001b[39;00m _global_forward_hooks \u001b[38;5;129;01mor\u001b[39;00m _global_forward_pre_hooks):\n\u001b[0;32m-> 1194\u001b[0m     \u001b[38;5;28;01mreturn\u001b[39;00m \u001b[43mforward_call\u001b[49m\u001b[43m(\u001b[49m\u001b[38;5;241;43m*\u001b[39;49m\u001b[38;5;28;43minput\u001b[39;49m\u001b[43m,\u001b[49m\u001b[43m \u001b[49m\u001b[38;5;241;43m*\u001b[39;49m\u001b[38;5;241;43m*\u001b[39;49m\u001b[43mkwargs\u001b[49m\u001b[43m)\u001b[49m\n\u001b[1;32m   1195\u001b[0m \u001b[38;5;66;03m# Do not call functions when jit is used\u001b[39;00m\n\u001b[1;32m   1196\u001b[0m full_backward_hooks, non_full_backward_hooks \u001b[38;5;241m=\u001b[39m [], []\n",
      "File \u001b[0;32m~/miniconda3/lib/python3.8/site-packages/transformers/models/bert/modeling_bert.py:495\u001b[0m, in \u001b[0;36mBertLayer.forward\u001b[0;34m(self, hidden_states, attention_mask, head_mask, encoder_hidden_states, encoder_attention_mask, past_key_value, output_attentions)\u001b[0m\n\u001b[1;32m    483\u001b[0m \u001b[38;5;28;01mdef\u001b[39;00m \u001b[38;5;21mforward\u001b[39m(\n\u001b[1;32m    484\u001b[0m     \u001b[38;5;28mself\u001b[39m,\n\u001b[1;32m    485\u001b[0m     hidden_states: torch\u001b[38;5;241m.\u001b[39mTensor,\n\u001b[0;32m   (...)\u001b[0m\n\u001b[1;32m    492\u001b[0m ) \u001b[38;5;241m-\u001b[39m\u001b[38;5;241m>\u001b[39m Tuple[torch\u001b[38;5;241m.\u001b[39mTensor]:\n\u001b[1;32m    493\u001b[0m     \u001b[38;5;66;03m# decoder uni-directional self-attention cached key/values tuple is at positions 1,2\u001b[39;00m\n\u001b[1;32m    494\u001b[0m     self_attn_past_key_value \u001b[38;5;241m=\u001b[39m past_key_value[:\u001b[38;5;241m2\u001b[39m] \u001b[38;5;28;01mif\u001b[39;00m past_key_value \u001b[38;5;129;01mis\u001b[39;00m \u001b[38;5;129;01mnot\u001b[39;00m \u001b[38;5;28;01mNone\u001b[39;00m \u001b[38;5;28;01melse\u001b[39;00m \u001b[38;5;28;01mNone\u001b[39;00m\n\u001b[0;32m--> 495\u001b[0m     self_attention_outputs \u001b[38;5;241m=\u001b[39m \u001b[38;5;28;43mself\u001b[39;49m\u001b[38;5;241;43m.\u001b[39;49m\u001b[43mattention\u001b[49m\u001b[43m(\u001b[49m\n\u001b[1;32m    496\u001b[0m \u001b[43m        \u001b[49m\u001b[43mhidden_states\u001b[49m\u001b[43m,\u001b[49m\n\u001b[1;32m    497\u001b[0m \u001b[43m        \u001b[49m\u001b[43mattention_mask\u001b[49m\u001b[43m,\u001b[49m\n\u001b[1;32m    498\u001b[0m \u001b[43m        \u001b[49m\u001b[43mhead_mask\u001b[49m\u001b[43m,\u001b[49m\n\u001b[1;32m    499\u001b[0m \u001b[43m        \u001b[49m\u001b[43moutput_attentions\u001b[49m\u001b[38;5;241;43m=\u001b[39;49m\u001b[43moutput_attentions\u001b[49m\u001b[43m,\u001b[49m\n\u001b[1;32m    500\u001b[0m \u001b[43m        \u001b[49m\u001b[43mpast_key_value\u001b[49m\u001b[38;5;241;43m=\u001b[39;49m\u001b[43mself_attn_past_key_value\u001b[49m\u001b[43m,\u001b[49m\n\u001b[1;32m    501\u001b[0m \u001b[43m    \u001b[49m\u001b[43m)\u001b[49m\n\u001b[1;32m    502\u001b[0m     attention_output \u001b[38;5;241m=\u001b[39m self_attention_outputs[\u001b[38;5;241m0\u001b[39m]\n\u001b[1;32m    504\u001b[0m     \u001b[38;5;66;03m# if decoder, the last output is tuple of self-attn cache\u001b[39;00m\n",
      "File \u001b[0;32m~/miniconda3/lib/python3.8/site-packages/torch/nn/modules/module.py:1194\u001b[0m, in \u001b[0;36mModule._call_impl\u001b[0;34m(self, *input, **kwargs)\u001b[0m\n\u001b[1;32m   1190\u001b[0m \u001b[38;5;66;03m# If we don't have any hooks, we want to skip the rest of the logic in\u001b[39;00m\n\u001b[1;32m   1191\u001b[0m \u001b[38;5;66;03m# this function, and just call forward.\u001b[39;00m\n\u001b[1;32m   1192\u001b[0m \u001b[38;5;28;01mif\u001b[39;00m \u001b[38;5;129;01mnot\u001b[39;00m (\u001b[38;5;28mself\u001b[39m\u001b[38;5;241m.\u001b[39m_backward_hooks \u001b[38;5;129;01mor\u001b[39;00m \u001b[38;5;28mself\u001b[39m\u001b[38;5;241m.\u001b[39m_forward_hooks \u001b[38;5;129;01mor\u001b[39;00m \u001b[38;5;28mself\u001b[39m\u001b[38;5;241m.\u001b[39m_forward_pre_hooks \u001b[38;5;129;01mor\u001b[39;00m _global_backward_hooks\n\u001b[1;32m   1193\u001b[0m         \u001b[38;5;129;01mor\u001b[39;00m _global_forward_hooks \u001b[38;5;129;01mor\u001b[39;00m _global_forward_pre_hooks):\n\u001b[0;32m-> 1194\u001b[0m     \u001b[38;5;28;01mreturn\u001b[39;00m \u001b[43mforward_call\u001b[49m\u001b[43m(\u001b[49m\u001b[38;5;241;43m*\u001b[39;49m\u001b[38;5;28;43minput\u001b[39;49m\u001b[43m,\u001b[49m\u001b[43m \u001b[49m\u001b[38;5;241;43m*\u001b[39;49m\u001b[38;5;241;43m*\u001b[39;49m\u001b[43mkwargs\u001b[49m\u001b[43m)\u001b[49m\n\u001b[1;32m   1195\u001b[0m \u001b[38;5;66;03m# Do not call functions when jit is used\u001b[39;00m\n\u001b[1;32m   1196\u001b[0m full_backward_hooks, non_full_backward_hooks \u001b[38;5;241m=\u001b[39m [], []\n",
      "File \u001b[0;32m~/miniconda3/lib/python3.8/site-packages/transformers/models/bert/modeling_bert.py:425\u001b[0m, in \u001b[0;36mBertAttention.forward\u001b[0;34m(self, hidden_states, attention_mask, head_mask, encoder_hidden_states, encoder_attention_mask, past_key_value, output_attentions)\u001b[0m\n\u001b[1;32m    415\u001b[0m \u001b[38;5;28;01mdef\u001b[39;00m \u001b[38;5;21mforward\u001b[39m(\n\u001b[1;32m    416\u001b[0m     \u001b[38;5;28mself\u001b[39m,\n\u001b[1;32m    417\u001b[0m     hidden_states: torch\u001b[38;5;241m.\u001b[39mTensor,\n\u001b[0;32m   (...)\u001b[0m\n\u001b[1;32m    423\u001b[0m     output_attentions: Optional[\u001b[38;5;28mbool\u001b[39m] \u001b[38;5;241m=\u001b[39m \u001b[38;5;28;01mFalse\u001b[39;00m,\n\u001b[1;32m    424\u001b[0m ) \u001b[38;5;241m-\u001b[39m\u001b[38;5;241m>\u001b[39m Tuple[torch\u001b[38;5;241m.\u001b[39mTensor]:\n\u001b[0;32m--> 425\u001b[0m     self_outputs \u001b[38;5;241m=\u001b[39m \u001b[38;5;28;43mself\u001b[39;49m\u001b[38;5;241;43m.\u001b[39;49m\u001b[43mself\u001b[49m\u001b[43m(\u001b[49m\n\u001b[1;32m    426\u001b[0m \u001b[43m        \u001b[49m\u001b[43mhidden_states\u001b[49m\u001b[43m,\u001b[49m\n\u001b[1;32m    427\u001b[0m \u001b[43m        \u001b[49m\u001b[43mattention_mask\u001b[49m\u001b[43m,\u001b[49m\n\u001b[1;32m    428\u001b[0m \u001b[43m        \u001b[49m\u001b[43mhead_mask\u001b[49m\u001b[43m,\u001b[49m\n\u001b[1;32m    429\u001b[0m \u001b[43m        \u001b[49m\u001b[43mencoder_hidden_states\u001b[49m\u001b[43m,\u001b[49m\n\u001b[1;32m    430\u001b[0m \u001b[43m        \u001b[49m\u001b[43mencoder_attention_mask\u001b[49m\u001b[43m,\u001b[49m\n\u001b[1;32m    431\u001b[0m \u001b[43m        \u001b[49m\u001b[43mpast_key_value\u001b[49m\u001b[43m,\u001b[49m\n\u001b[1;32m    432\u001b[0m \u001b[43m        \u001b[49m\u001b[43moutput_attentions\u001b[49m\u001b[43m,\u001b[49m\n\u001b[1;32m    433\u001b[0m \u001b[43m    \u001b[49m\u001b[43m)\u001b[49m\n\u001b[1;32m    434\u001b[0m     attention_output \u001b[38;5;241m=\u001b[39m \u001b[38;5;28mself\u001b[39m\u001b[38;5;241m.\u001b[39moutput(self_outputs[\u001b[38;5;241m0\u001b[39m], hidden_states)\n\u001b[1;32m    435\u001b[0m     outputs \u001b[38;5;241m=\u001b[39m (attention_output,) \u001b[38;5;241m+\u001b[39m self_outputs[\u001b[38;5;241m1\u001b[39m:]  \u001b[38;5;66;03m# add attentions if we output them\u001b[39;00m\n",
      "File \u001b[0;32m~/miniconda3/lib/python3.8/site-packages/torch/nn/modules/module.py:1194\u001b[0m, in \u001b[0;36mModule._call_impl\u001b[0;34m(self, *input, **kwargs)\u001b[0m\n\u001b[1;32m   1190\u001b[0m \u001b[38;5;66;03m# If we don't have any hooks, we want to skip the rest of the logic in\u001b[39;00m\n\u001b[1;32m   1191\u001b[0m \u001b[38;5;66;03m# this function, and just call forward.\u001b[39;00m\n\u001b[1;32m   1192\u001b[0m \u001b[38;5;28;01mif\u001b[39;00m \u001b[38;5;129;01mnot\u001b[39;00m (\u001b[38;5;28mself\u001b[39m\u001b[38;5;241m.\u001b[39m_backward_hooks \u001b[38;5;129;01mor\u001b[39;00m \u001b[38;5;28mself\u001b[39m\u001b[38;5;241m.\u001b[39m_forward_hooks \u001b[38;5;129;01mor\u001b[39;00m \u001b[38;5;28mself\u001b[39m\u001b[38;5;241m.\u001b[39m_forward_pre_hooks \u001b[38;5;129;01mor\u001b[39;00m _global_backward_hooks\n\u001b[1;32m   1193\u001b[0m         \u001b[38;5;129;01mor\u001b[39;00m _global_forward_hooks \u001b[38;5;129;01mor\u001b[39;00m _global_forward_pre_hooks):\n\u001b[0;32m-> 1194\u001b[0m     \u001b[38;5;28;01mreturn\u001b[39;00m \u001b[43mforward_call\u001b[49m\u001b[43m(\u001b[49m\u001b[38;5;241;43m*\u001b[39;49m\u001b[38;5;28;43minput\u001b[39;49m\u001b[43m,\u001b[49m\u001b[43m \u001b[49m\u001b[38;5;241;43m*\u001b[39;49m\u001b[38;5;241;43m*\u001b[39;49m\u001b[43mkwargs\u001b[49m\u001b[43m)\u001b[49m\n\u001b[1;32m   1195\u001b[0m \u001b[38;5;66;03m# Do not call functions when jit is used\u001b[39;00m\n\u001b[1;32m   1196\u001b[0m full_backward_hooks, non_full_backward_hooks \u001b[38;5;241m=\u001b[39m [], []\n",
      "File \u001b[0;32m~/miniconda3/lib/python3.8/site-packages/transformers/models/bert/modeling_bert.py:357\u001b[0m, in \u001b[0;36mBertSelfAttention.forward\u001b[0;34m(self, hidden_states, attention_mask, head_mask, encoder_hidden_states, encoder_attention_mask, past_key_value, output_attentions)\u001b[0m\n\u001b[1;32m    353\u001b[0m attention_probs \u001b[38;5;241m=\u001b[39m nn\u001b[38;5;241m.\u001b[39mfunctional\u001b[38;5;241m.\u001b[39msoftmax(attention_scores, dim\u001b[38;5;241m=\u001b[39m\u001b[38;5;241m-\u001b[39m\u001b[38;5;241m1\u001b[39m)\n\u001b[1;32m    355\u001b[0m \u001b[38;5;66;03m# This is actually dropping out entire tokens to attend to, which might\u001b[39;00m\n\u001b[1;32m    356\u001b[0m \u001b[38;5;66;03m# seem a bit unusual, but is taken from the original Transformer paper.\u001b[39;00m\n\u001b[0;32m--> 357\u001b[0m attention_probs \u001b[38;5;241m=\u001b[39m \u001b[38;5;28;43mself\u001b[39;49m\u001b[38;5;241;43m.\u001b[39;49m\u001b[43mdropout\u001b[49m\u001b[43m(\u001b[49m\u001b[43mattention_probs\u001b[49m\u001b[43m)\u001b[49m\n\u001b[1;32m    359\u001b[0m \u001b[38;5;66;03m# Mask heads if we want to\u001b[39;00m\n\u001b[1;32m    360\u001b[0m \u001b[38;5;28;01mif\u001b[39;00m head_mask \u001b[38;5;129;01mis\u001b[39;00m \u001b[38;5;129;01mnot\u001b[39;00m \u001b[38;5;28;01mNone\u001b[39;00m:\n",
      "File \u001b[0;32m~/miniconda3/lib/python3.8/site-packages/torch/nn/modules/module.py:1194\u001b[0m, in \u001b[0;36mModule._call_impl\u001b[0;34m(self, *input, **kwargs)\u001b[0m\n\u001b[1;32m   1190\u001b[0m \u001b[38;5;66;03m# If we don't have any hooks, we want to skip the rest of the logic in\u001b[39;00m\n\u001b[1;32m   1191\u001b[0m \u001b[38;5;66;03m# this function, and just call forward.\u001b[39;00m\n\u001b[1;32m   1192\u001b[0m \u001b[38;5;28;01mif\u001b[39;00m \u001b[38;5;129;01mnot\u001b[39;00m (\u001b[38;5;28mself\u001b[39m\u001b[38;5;241m.\u001b[39m_backward_hooks \u001b[38;5;129;01mor\u001b[39;00m \u001b[38;5;28mself\u001b[39m\u001b[38;5;241m.\u001b[39m_forward_hooks \u001b[38;5;129;01mor\u001b[39;00m \u001b[38;5;28mself\u001b[39m\u001b[38;5;241m.\u001b[39m_forward_pre_hooks \u001b[38;5;129;01mor\u001b[39;00m _global_backward_hooks\n\u001b[1;32m   1193\u001b[0m         \u001b[38;5;129;01mor\u001b[39;00m _global_forward_hooks \u001b[38;5;129;01mor\u001b[39;00m _global_forward_pre_hooks):\n\u001b[0;32m-> 1194\u001b[0m     \u001b[38;5;28;01mreturn\u001b[39;00m \u001b[43mforward_call\u001b[49m\u001b[43m(\u001b[49m\u001b[38;5;241;43m*\u001b[39;49m\u001b[38;5;28;43minput\u001b[39;49m\u001b[43m,\u001b[49m\u001b[43m \u001b[49m\u001b[38;5;241;43m*\u001b[39;49m\u001b[38;5;241;43m*\u001b[39;49m\u001b[43mkwargs\u001b[49m\u001b[43m)\u001b[49m\n\u001b[1;32m   1195\u001b[0m \u001b[38;5;66;03m# Do not call functions when jit is used\u001b[39;00m\n\u001b[1;32m   1196\u001b[0m full_backward_hooks, non_full_backward_hooks \u001b[38;5;241m=\u001b[39m [], []\n",
      "File \u001b[0;32m~/miniconda3/lib/python3.8/site-packages/torch/nn/modules/dropout.py:59\u001b[0m, in \u001b[0;36mDropout.forward\u001b[0;34m(self, input)\u001b[0m\n\u001b[1;32m     58\u001b[0m \u001b[38;5;28;01mdef\u001b[39;00m \u001b[38;5;21mforward\u001b[39m(\u001b[38;5;28mself\u001b[39m, \u001b[38;5;28minput\u001b[39m: Tensor) \u001b[38;5;241m-\u001b[39m\u001b[38;5;241m>\u001b[39m Tensor:\n\u001b[0;32m---> 59\u001b[0m     \u001b[38;5;28;01mreturn\u001b[39;00m \u001b[43mF\u001b[49m\u001b[38;5;241;43m.\u001b[39;49m\u001b[43mdropout\u001b[49m\u001b[43m(\u001b[49m\u001b[38;5;28;43minput\u001b[39;49m\u001b[43m,\u001b[49m\u001b[43m \u001b[49m\u001b[38;5;28;43mself\u001b[39;49m\u001b[38;5;241;43m.\u001b[39;49m\u001b[43mp\u001b[49m\u001b[43m,\u001b[49m\u001b[43m \u001b[49m\u001b[38;5;28;43mself\u001b[39;49m\u001b[38;5;241;43m.\u001b[39;49m\u001b[43mtraining\u001b[49m\u001b[43m,\u001b[49m\u001b[43m \u001b[49m\u001b[38;5;28;43mself\u001b[39;49m\u001b[38;5;241;43m.\u001b[39;49m\u001b[43minplace\u001b[49m\u001b[43m)\u001b[49m\n",
      "File \u001b[0;32m~/miniconda3/lib/python3.8/site-packages/torch/nn/functional.py:1252\u001b[0m, in \u001b[0;36mdropout\u001b[0;34m(input, p, training, inplace)\u001b[0m\n\u001b[1;32m   1250\u001b[0m \u001b[38;5;28;01mif\u001b[39;00m p \u001b[38;5;241m<\u001b[39m \u001b[38;5;241m0.0\u001b[39m \u001b[38;5;129;01mor\u001b[39;00m p \u001b[38;5;241m>\u001b[39m \u001b[38;5;241m1.0\u001b[39m:\n\u001b[1;32m   1251\u001b[0m     \u001b[38;5;28;01mraise\u001b[39;00m \u001b[38;5;167;01mValueError\u001b[39;00m(\u001b[38;5;124m\"\u001b[39m\u001b[38;5;124mdropout probability has to be between 0 and 1, \u001b[39m\u001b[38;5;124m\"\u001b[39m \u001b[38;5;124m\"\u001b[39m\u001b[38;5;124mbut got \u001b[39m\u001b[38;5;132;01m{}\u001b[39;00m\u001b[38;5;124m\"\u001b[39m\u001b[38;5;241m.\u001b[39mformat(p))\n\u001b[0;32m-> 1252\u001b[0m \u001b[38;5;28;01mreturn\u001b[39;00m _VF\u001b[38;5;241m.\u001b[39mdropout_(\u001b[38;5;28minput\u001b[39m, p, training) \u001b[38;5;28;01mif\u001b[39;00m inplace \u001b[38;5;28;01melse\u001b[39;00m \u001b[43m_VF\u001b[49m\u001b[38;5;241;43m.\u001b[39;49m\u001b[43mdropout\u001b[49m\u001b[43m(\u001b[49m\u001b[38;5;28;43minput\u001b[39;49m\u001b[43m,\u001b[49m\u001b[43m \u001b[49m\u001b[43mp\u001b[49m\u001b[43m,\u001b[49m\u001b[43m \u001b[49m\u001b[43mtraining\u001b[49m\u001b[43m)\u001b[49m\n",
      "\u001b[0;31mOutOfMemoryError\u001b[0m: CUDA out of memory. Tried to allocate 768.00 MiB (GPU 0; 3.81 GiB total capacity; 2.47 GiB already allocated; 362.94 MiB free; 2.52 GiB reserved in total by PyTorch) If reserved memory is >> allocated memory try setting max_split_size_mb to avoid fragmentation.  See documentation for Memory Management and PYTORCH_CUDA_ALLOC_CONF"
     ]
    }
   ],
   "source": [
    "train(net, criterion, optimizer, train_loader, val_loader)"
   ]
  },
  {
   "cell_type": "code",
   "execution_count": null,
   "metadata": {
    "colab": {
     "base_uri": "https://localhost:8080/",
     "height": 125,
     "referenced_widgets": [
      "dc42439c3ab748f192cf5feabe664c96",
      "1345f996bad444c7822c815f5fa0323a",
      "463544447ff84738aba90999ab929ffd",
      "eff4598a3ae044d099922fdf3c145fd5",
      "52ab51d7c11148b4a88c2f7abba34432",
      "4d1ff148e79d47dcae2bcb971b2fc93b",
      "d941ee03059544419a09d0278e286932",
      "c3f9ab65d166413198a2711d3d45af89",
      "304d2818ce664d5c85b15d1e753c95fb",
      "987699df378341ec8183cdbaa748ff92",
      "799cafe832b548a7a66535131508db75"
     ]
    },
    "id": "RQTwUmfbBpRQ",
    "outputId": "a37cf0e3-db17-4d05-f387-19ffb115994b"
   },
   "outputs": [],
   "source": [
    "from datasets import load_metric\n",
    "\n",
    "metric = load_metric(\"accuracy\")\n",
    "net.eval()\n",
    "\n",
    "for seq, attn_masks, labels in val_loader:\n",
    "    seq, attn_masks, labels = seq.to(device), attn_masks.to(device), labels.to(device)\n",
    "    with torch.no_grad():\n",
    "        logits = net(seq, attn_masks) # task: model forward pass\n",
    "\n",
    "    predictions = torch.argmax(logits, dim=-1)\n",
    "    metric.add_batch(predictions=predictions, references=labels)  # task: fill parameters\n",
    "\n",
    "metric.compute()"
   ]
  },
  {
   "cell_type": "code",
   "execution_count": 19,
   "metadata": {
    "id": "GewD715OFVzQ"
   },
   "outputs": [
    {
     "ename": "NameError",
     "evalue": "name 'label' is not defined",
     "output_type": "error",
     "traceback": [
      "\u001b[0;31m---------------------------------------------------------------------------\u001b[0m",
      "\u001b[0;31mNameError\u001b[0m                                 Traceback (most recent call last)",
      "Cell \u001b[0;32mIn [19], line 6\u001b[0m\n\u001b[1;32m      3\u001b[0m      \u001b[38;5;28;01mreturn\u001b[39;00m label\n\u001b[1;32m      5\u001b[0m text \u001b[38;5;241m=\u001b[39m \u001b[38;5;124m\"\u001b[39m\u001b[38;5;124m your positive or negative text\u001b[39m\u001b[38;5;124m\"\u001b[39m\n\u001b[0;32m----> 6\u001b[0m label \u001b[38;5;241m=\u001b[39m \u001b[43minfer\u001b[49m\u001b[43m(\u001b[49m\u001b[43mnet\u001b[49m\u001b[43m,\u001b[49m\u001b[43m \u001b[49m\u001b[43mtext\u001b[49m\u001b[43m)\u001b[49m\n\u001b[1;32m      7\u001b[0m \u001b[38;5;28mprint\u001b[39m(label)\n",
      "Cell \u001b[0;32mIn [19], line 3\u001b[0m, in \u001b[0;36minfer\u001b[0;34m(net, text)\u001b[0m\n\u001b[1;32m      1\u001b[0m \u001b[38;5;28;01mdef\u001b[39;00m \u001b[38;5;21minfer\u001b[39m(net, text):\n\u001b[1;32m      2\u001b[0m      \u001b[38;5;66;03m# task: implement inference\u001b[39;00m\n\u001b[0;32m----> 3\u001b[0m      \u001b[38;5;28;01mreturn\u001b[39;00m \u001b[43mlabel\u001b[49m\n",
      "\u001b[0;31mNameError\u001b[0m: name 'label' is not defined"
     ]
    }
   ],
   "source": [
    "def infer(net, text):\n",
    "     # task: implement inference\n",
    "     return label\n",
    "    \n",
    "text = \" your positive or negative text\"\n",
    "label = infer(net, text)\n",
    "print(label)"
   ]
  },
  {
   "cell_type": "markdown",
   "metadata": {
    "id": "Fh7d9wAlTAgj"
   },
   "source": [
    "## BertForSequenceClassification Fine-tuning"
   ]
  },
  {
   "cell_type": "code",
   "execution_count": 20,
   "metadata": {
    "colab": {
     "base_uri": "https://localhost:8080/",
     "height": 162,
     "referenced_widgets": [
      "1a835274d95f401f8cc9926cc71a743a",
      "79cd26946e02496c862b332a1c329aee",
      "6a7d6a7ea6724f339aa1605f932e78d4",
      "bd1d292d2e504b6eb6d48f1482b626fb",
      "ddb7322839334e42a36663437adb5931",
      "bd71695732344b80a8cf124e1b36b063",
      "48140f26ef4849b0b79235e0d9b27f6e",
      "e0f4fb7a8f6147ffbf5ca7155f57eedb",
      "b08353a4f07443beb322fa1140697265",
      "187434b315a94195959f7c546bcff30c",
      "924fac9ef48f41f6bc14a41090c3e36e"
     ]
    },
    "id": "CROFAgmUTEfJ",
    "outputId": "a0431785-ae15-4ac0-cdc9-2f606e875c17"
   },
   "outputs": [
    {
     "data": {
      "application/vnd.jupyter.widget-view+json": {
       "model_id": "b08031a7c076412eb9f723bc9b811a06",
       "version_major": 2,
       "version_minor": 0
      },
      "text/plain": [
       "Downloading (…)\"pytorch_model.bin\";:   0%|          | 0.00/436M [00:00<?, ?B/s]"
      ]
     },
     "metadata": {},
     "output_type": "display_data"
    },
    {
     "name": "stderr",
     "output_type": "stream",
     "text": [
      "Some weights of the model checkpoint at bert-base-cased were not used when initializing BertForSequenceClassification: ['cls.predictions.decoder.weight', 'cls.predictions.transform.LayerNorm.weight', 'cls.predictions.bias', 'cls.predictions.transform.LayerNorm.bias', 'cls.predictions.transform.dense.weight', 'cls.seq_relationship.weight', 'cls.seq_relationship.bias', 'cls.predictions.transform.dense.bias']\n",
      "- This IS expected if you are initializing BertForSequenceClassification from the checkpoint of a model trained on another task or with another architecture (e.g. initializing a BertForSequenceClassification model from a BertForPreTraining model).\n",
      "- This IS NOT expected if you are initializing BertForSequenceClassification from the checkpoint of a model that you expect to be exactly identical (initializing a BertForSequenceClassification model from a BertForSequenceClassification model).\n",
      "Some weights of BertForSequenceClassification were not initialized from the model checkpoint at bert-base-cased and are newly initialized: ['classifier.weight', 'classifier.bias']\n",
      "You should probably TRAIN this model on a down-stream task to be able to use it for predictions and inference.\n"
     ]
    }
   ],
   "source": [
    "from transformers import AutoModelForSequenceClassification\n",
    "\n",
    "model = AutoModelForSequenceClassification.from_pretrained(\"bert-base-cased\", num_labels=2)"
   ]
  },
  {
   "cell_type": "code",
   "execution_count": 21,
   "metadata": {
    "id": "jRdlD5sancpM"
   },
   "outputs": [],
   "source": [
    "from transformers import TrainingArguments\n",
    "\n",
    "training_args = TrainingArguments(\"test_trainer\")"
   ]
  },
  {
   "cell_type": "code",
   "execution_count": 22,
   "metadata": {
    "id": "y2CqnFkivLi4"
   },
   "outputs": [],
   "source": [
    "# task: change the number of epochs to 5\n",
    "training_args.num_train_epochs = 5"
   ]
  },
  {
   "cell_type": "code",
   "execution_count": 23,
   "metadata": {
    "id": "xBCgtbJPndLo"
   },
   "outputs": [
    {
     "ename": "AttributeError",
     "evalue": "module 'distutils' has no attribute 'version'",
     "output_type": "error",
     "traceback": [
      "\u001b[0;31m---------------------------------------------------------------------------\u001b[0m",
      "\u001b[0;31mAttributeError\u001b[0m                            Traceback (most recent call last)",
      "Cell \u001b[0;32mIn [23], line 3\u001b[0m\n\u001b[1;32m      1\u001b[0m \u001b[38;5;28;01mfrom\u001b[39;00m \u001b[38;5;21;01mtransformers\u001b[39;00m \u001b[38;5;28;01mimport\u001b[39;00m Trainer\n\u001b[0;32m----> 3\u001b[0m trainer \u001b[38;5;241m=\u001b[39m \u001b[43mTrainer\u001b[49m\u001b[43m(\u001b[49m\u001b[43mmodel\u001b[49m\u001b[38;5;241;43m=\u001b[39;49m\u001b[43mmodel\u001b[49m\u001b[43m,\u001b[49m\u001b[43m \u001b[49m\u001b[43margs\u001b[49m\u001b[38;5;241;43m=\u001b[39;49m\u001b[43mtraining_args\u001b[49m\u001b[43m,\u001b[49m\u001b[43m \u001b[49m\u001b[43mtrain_dataset\u001b[49m\u001b[38;5;241;43m=\u001b[39;49m\u001b[43msmall_train_dataset\u001b[49m\u001b[43m,\u001b[49m\u001b[43m \u001b[49m\u001b[43meval_dataset\u001b[49m\u001b[38;5;241;43m=\u001b[39;49m\u001b[43msmall_eval_dataset\u001b[49m\u001b[43m)\u001b[49m\n",
      "File \u001b[0;32m~/miniconda3/lib/python3.8/site-packages/transformers/trainer.py:487\u001b[0m, in \u001b[0;36mTrainer.__init__\u001b[0;34m(self, model, args, data_collator, train_dataset, eval_dataset, tokenizer, model_init, compute_metrics, callbacks, optimizers, preprocess_logits_for_metrics)\u001b[0m\n\u001b[1;32m    485\u001b[0m default_callbacks \u001b[38;5;241m=\u001b[39m DEFAULT_CALLBACKS \u001b[38;5;241m+\u001b[39m get_reporting_integration_callbacks(\u001b[38;5;28mself\u001b[39m\u001b[38;5;241m.\u001b[39margs\u001b[38;5;241m.\u001b[39mreport_to)\n\u001b[1;32m    486\u001b[0m callbacks \u001b[38;5;241m=\u001b[39m default_callbacks \u001b[38;5;28;01mif\u001b[39;00m callbacks \u001b[38;5;129;01mis\u001b[39;00m \u001b[38;5;28;01mNone\u001b[39;00m \u001b[38;5;28;01melse\u001b[39;00m default_callbacks \u001b[38;5;241m+\u001b[39m callbacks\n\u001b[0;32m--> 487\u001b[0m \u001b[38;5;28mself\u001b[39m\u001b[38;5;241m.\u001b[39mcallback_handler \u001b[38;5;241m=\u001b[39m \u001b[43mCallbackHandler\u001b[49m\u001b[43m(\u001b[49m\n\u001b[1;32m    488\u001b[0m \u001b[43m    \u001b[49m\u001b[43mcallbacks\u001b[49m\u001b[43m,\u001b[49m\u001b[43m \u001b[49m\u001b[38;5;28;43mself\u001b[39;49m\u001b[38;5;241;43m.\u001b[39;49m\u001b[43mmodel\u001b[49m\u001b[43m,\u001b[49m\u001b[43m \u001b[49m\u001b[38;5;28;43mself\u001b[39;49m\u001b[38;5;241;43m.\u001b[39;49m\u001b[43mtokenizer\u001b[49m\u001b[43m,\u001b[49m\u001b[43m \u001b[49m\u001b[38;5;28;43mself\u001b[39;49m\u001b[38;5;241;43m.\u001b[39;49m\u001b[43moptimizer\u001b[49m\u001b[43m,\u001b[49m\u001b[43m \u001b[49m\u001b[38;5;28;43mself\u001b[39;49m\u001b[38;5;241;43m.\u001b[39;49m\u001b[43mlr_scheduler\u001b[49m\n\u001b[1;32m    489\u001b[0m \u001b[43m\u001b[49m\u001b[43m)\u001b[49m\n\u001b[1;32m    490\u001b[0m \u001b[38;5;28mself\u001b[39m\u001b[38;5;241m.\u001b[39madd_callback(PrinterCallback \u001b[38;5;28;01mif\u001b[39;00m \u001b[38;5;28mself\u001b[39m\u001b[38;5;241m.\u001b[39margs\u001b[38;5;241m.\u001b[39mdisable_tqdm \u001b[38;5;28;01melse\u001b[39;00m DEFAULT_PROGRESS_CALLBACK)\n\u001b[1;32m    492\u001b[0m \u001b[38;5;66;03m# Will be set to True by `self._setup_loggers()` on first call to `self.log()`.\u001b[39;00m\n",
      "File \u001b[0;32m~/miniconda3/lib/python3.8/site-packages/transformers/trainer_callback.py:296\u001b[0m, in \u001b[0;36mCallbackHandler.__init__\u001b[0;34m(self, callbacks, model, tokenizer, optimizer, lr_scheduler)\u001b[0m\n\u001b[1;32m    294\u001b[0m \u001b[38;5;28mself\u001b[39m\u001b[38;5;241m.\u001b[39mcallbacks \u001b[38;5;241m=\u001b[39m []\n\u001b[1;32m    295\u001b[0m \u001b[38;5;28;01mfor\u001b[39;00m cb \u001b[38;5;129;01min\u001b[39;00m callbacks:\n\u001b[0;32m--> 296\u001b[0m     \u001b[38;5;28;43mself\u001b[39;49m\u001b[38;5;241;43m.\u001b[39;49m\u001b[43madd_callback\u001b[49m\u001b[43m(\u001b[49m\u001b[43mcb\u001b[49m\u001b[43m)\u001b[49m\n\u001b[1;32m    297\u001b[0m \u001b[38;5;28mself\u001b[39m\u001b[38;5;241m.\u001b[39mmodel \u001b[38;5;241m=\u001b[39m model\n\u001b[1;32m    298\u001b[0m \u001b[38;5;28mself\u001b[39m\u001b[38;5;241m.\u001b[39mtokenizer \u001b[38;5;241m=\u001b[39m tokenizer\n",
      "File \u001b[0;32m~/miniconda3/lib/python3.8/site-packages/transformers/trainer_callback.py:313\u001b[0m, in \u001b[0;36mCallbackHandler.add_callback\u001b[0;34m(self, callback)\u001b[0m\n\u001b[1;32m    312\u001b[0m \u001b[38;5;28;01mdef\u001b[39;00m \u001b[38;5;21madd_callback\u001b[39m(\u001b[38;5;28mself\u001b[39m, callback):\n\u001b[0;32m--> 313\u001b[0m     cb \u001b[38;5;241m=\u001b[39m \u001b[43mcallback\u001b[49m\u001b[43m(\u001b[49m\u001b[43m)\u001b[49m \u001b[38;5;28;01mif\u001b[39;00m \u001b[38;5;28misinstance\u001b[39m(callback, \u001b[38;5;28mtype\u001b[39m) \u001b[38;5;28;01melse\u001b[39;00m callback\n\u001b[1;32m    314\u001b[0m     cb_class \u001b[38;5;241m=\u001b[39m callback \u001b[38;5;28;01mif\u001b[39;00m \u001b[38;5;28misinstance\u001b[39m(callback, \u001b[38;5;28mtype\u001b[39m) \u001b[38;5;28;01melse\u001b[39;00m callback\u001b[38;5;241m.\u001b[39m\u001b[38;5;18m__class__\u001b[39m\n\u001b[1;32m    315\u001b[0m     \u001b[38;5;28;01mif\u001b[39;00m cb_class \u001b[38;5;129;01min\u001b[39;00m [c\u001b[38;5;241m.\u001b[39m\u001b[38;5;18m__class__\u001b[39m \u001b[38;5;28;01mfor\u001b[39;00m c \u001b[38;5;129;01min\u001b[39;00m \u001b[38;5;28mself\u001b[39m\u001b[38;5;241m.\u001b[39mcallbacks]:\n",
      "File \u001b[0;32m~/miniconda3/lib/python3.8/site-packages/transformers/integrations.py:574\u001b[0m, in \u001b[0;36mTensorBoardCallback.__init__\u001b[0;34m(self, tb_writer)\u001b[0m\n\u001b[1;32m    572\u001b[0m \u001b[38;5;28;01mif\u001b[39;00m has_tensorboard:\n\u001b[1;32m    573\u001b[0m     \u001b[38;5;28;01mtry\u001b[39;00m:\n\u001b[0;32m--> 574\u001b[0m         \u001b[38;5;28;01mfrom\u001b[39;00m \u001b[38;5;21;01mtorch\u001b[39;00m\u001b[38;5;21;01m.\u001b[39;00m\u001b[38;5;21;01mutils\u001b[39;00m\u001b[38;5;21;01m.\u001b[39;00m\u001b[38;5;21;01mtensorboard\u001b[39;00m \u001b[38;5;28;01mimport\u001b[39;00m SummaryWriter  \u001b[38;5;66;03m# noqa: F401\u001b[39;00m\n\u001b[1;32m    576\u001b[0m         \u001b[38;5;28mself\u001b[39m\u001b[38;5;241m.\u001b[39m_SummaryWriter \u001b[38;5;241m=\u001b[39m SummaryWriter\n\u001b[1;32m    577\u001b[0m     \u001b[38;5;28;01mexcept\u001b[39;00m \u001b[38;5;167;01mImportError\u001b[39;00m:\n",
      "File \u001b[0;32m~/miniconda3/lib/python3.8/site-packages/torch/utils/tensorboard/__init__.py:4\u001b[0m\n\u001b[1;32m      1\u001b[0m \u001b[38;5;28;01mimport\u001b[39;00m \u001b[38;5;21;01mtensorboard\u001b[39;00m\n\u001b[1;32m      2\u001b[0m \u001b[38;5;28;01mfrom\u001b[39;00m \u001b[38;5;21;01msetuptools\u001b[39;00m \u001b[38;5;28;01mimport\u001b[39;00m distutils\n\u001b[0;32m----> 4\u001b[0m LooseVersion \u001b[38;5;241m=\u001b[39m \u001b[43mdistutils\u001b[49m\u001b[38;5;241;43m.\u001b[39;49m\u001b[43mversion\u001b[49m\u001b[38;5;241m.\u001b[39mLooseVersion\n\u001b[1;32m      6\u001b[0m \u001b[38;5;28;01mif\u001b[39;00m \u001b[38;5;129;01mnot\u001b[39;00m \u001b[38;5;28mhasattr\u001b[39m(tensorboard, \u001b[38;5;124m'\u001b[39m\u001b[38;5;124m__version__\u001b[39m\u001b[38;5;124m'\u001b[39m) \u001b[38;5;129;01mor\u001b[39;00m LooseVersion(tensorboard\u001b[38;5;241m.\u001b[39m__version__) \u001b[38;5;241m<\u001b[39m LooseVersion(\u001b[38;5;124m'\u001b[39m\u001b[38;5;124m1.15\u001b[39m\u001b[38;5;124m'\u001b[39m):\n\u001b[1;32m      7\u001b[0m     \u001b[38;5;28;01mraise\u001b[39;00m \u001b[38;5;167;01mImportError\u001b[39;00m(\u001b[38;5;124m'\u001b[39m\u001b[38;5;124mTensorBoard logging requires TensorBoard version 1.15 or above\u001b[39m\u001b[38;5;124m'\u001b[39m)\n",
      "\u001b[0;31mAttributeError\u001b[0m: module 'distutils' has no attribute 'version'"
     ]
    }
   ],
   "source": [
    "from transformers import Trainer\n",
    "\n",
    "trainer = Trainer(model=model, args=training_args, train_dataset=small_train_dataset, eval_dataset=small_eval_dataset)"
   ]
  },
  {
   "cell_type": "code",
   "execution_count": null,
   "metadata": {
    "id": "UdIc3xMPuPJP"
   },
   "outputs": [],
   "source": [
    "# for param in model.bert.parameters():\n",
    "#     # task: freeze bert training weights\n",
    "#     param.requires_grad = False"
   ]
  },
  {
   "cell_type": "code",
   "execution_count": null,
   "metadata": {
    "colab": {
     "base_uri": "https://localhost:8080/",
     "height": 500
    },
    "id": "pJZCtCT0ngP8",
    "outputId": "e407e104-4864-4338-da3b-0c279ffc58a0"
   },
   "outputs": [],
   "source": [
    "trainer.train()"
   ]
  },
  {
   "cell_type": "code",
   "execution_count": null,
   "metadata": {
    "id": "QjCMmTWanpue"
   },
   "outputs": [],
   "source": [
    "import numpy as np\n",
    "from datasets import load_metric\n",
    "\n",
    "metric = load_metric(\"accuracy\")\n",
    "\n",
    "\n",
    "def compute_metrics(eval_pred):\n",
    "    logits, labels = eval_pred\n",
    "    predictions = np.argmax(logits, axis=-1)\n",
    "    return metric.compute(predictions=predictions, references=labels)"
   ]
  },
  {
   "cell_type": "code",
   "execution_count": null,
   "metadata": {
    "colab": {
     "base_uri": "https://localhost:8080/",
     "height": 225
    },
    "id": "Lp0Pn2s_nsjc",
    "outputId": "55178ed9-2f28-4c6b-c936-d5cea5b4929b"
   },
   "outputs": [],
   "source": [
    "# task: achieve 80% accuracy, you may also try unfreeze the bert parameters\n",
    "\n",
    "trainer = Trainer(\n",
    "    model=model,\n",
    "    args=training_args,\n",
    "    train_dataset=small_train_dataset,\n",
    "    eval_dataset=small_eval_dataset,\n",
    "    compute_metrics=compute_metrics,\n",
    ")\n",
    "trainer.evaluate()"
   ]
  },
  {
   "cell_type": "markdown",
   "metadata": {
    "id": "r76m0fa8eb5B"
   },
   "source": [
    "Links\n",
    "\n",
    "[Painless Fine-Tuning of BERT in Pytorch](https://medium.com/swlh/painless-fine-tuning-of-bert-in-pytorch-b91c14912caa)\n",
    "\n",
    "[Fine-tuning BERT by Hugging Face](https://huggingface.co/docs/transformers/v4.16.2/en/training)"
   ]
  }
 ],
 "metadata": {
  "colab": {
   "provenance": [],
   "toc_visible": true
  },
  "kernelspec": {
   "display_name": "Python 3 (ipykernel)",
   "language": "python",
   "name": "python3"
  },
  "language_info": {
   "codemirror_mode": {
    "name": "ipython",
    "version": 3
   },
   "file_extension": ".py",
   "mimetype": "text/x-python",
   "name": "python",
   "nbconvert_exporter": "python",
   "pygments_lexer": "ipython3",
   "version": "3.8.15"
  }
 },
 "nbformat": 4,
 "nbformat_minor": 1
}
