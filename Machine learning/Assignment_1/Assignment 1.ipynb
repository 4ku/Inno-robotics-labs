{
 "cells": [
  {
   "cell_type": "markdown",
   "source": [
    "# Assignment 1"
   ],
   "metadata": {}
  },
  {
   "cell_type": "markdown",
   "source": [
    "## Analyze data"
   ],
   "metadata": {}
  },
  {
   "cell_type": "code",
   "execution_count": 1,
   "source": [
    "from matplotlib import pyplot as plt\r\n",
    "import pandas as pd\r\n",
    "\r\n",
    "data = pd.read_csv('flight_delay.csv')\r\n",
    "\r\n",
    "print(\"First n rows:\")\r\n",
    "display(data.head())\r\n",
    "\r\n",
    "print()\r\n",
    "print(\"Data info:\")\r\n",
    "data.info()\r\n",
    "\r\n",
    "print()\r\n",
    "print(\"Describe delay column\")\r\n",
    "display(data.describe())\r\n",
    "\r\n",
    "#Check fo nans\r\n",
    "print(\"Is there are any nulls:\", data.isnull().values.any())"
   ],
   "outputs": [
    {
     "output_type": "stream",
     "name": "stdout",
     "text": [
      "First n rows:\n"
     ]
    },
    {
     "output_type": "display_data",
     "data": {
      "text/html": [
       "<div>\n",
       "<style scoped>\n",
       "    .dataframe tbody tr th:only-of-type {\n",
       "        vertical-align: middle;\n",
       "    }\n",
       "\n",
       "    .dataframe tbody tr th {\n",
       "        vertical-align: top;\n",
       "    }\n",
       "\n",
       "    .dataframe thead th {\n",
       "        text-align: right;\n",
       "    }\n",
       "</style>\n",
       "<table border=\"1\" class=\"dataframe\">\n",
       "  <thead>\n",
       "    <tr style=\"text-align: right;\">\n",
       "      <th></th>\n",
       "      <th>Depature Airport</th>\n",
       "      <th>Scheduled depature time</th>\n",
       "      <th>Destination Airport</th>\n",
       "      <th>Scheduled arrival time</th>\n",
       "      <th>Delay</th>\n",
       "    </tr>\n",
       "  </thead>\n",
       "  <tbody>\n",
       "    <tr>\n",
       "      <th>0</th>\n",
       "      <td>SVO</td>\n",
       "      <td>2015-10-27 07:40:00</td>\n",
       "      <td>HAV</td>\n",
       "      <td>2015-10-27 20:45:00</td>\n",
       "      <td>0.0</td>\n",
       "    </tr>\n",
       "    <tr>\n",
       "      <th>1</th>\n",
       "      <td>SVO</td>\n",
       "      <td>2015-10-27 09:50:00</td>\n",
       "      <td>JFK</td>\n",
       "      <td>2015-10-27 20:35:00</td>\n",
       "      <td>2.0</td>\n",
       "    </tr>\n",
       "    <tr>\n",
       "      <th>2</th>\n",
       "      <td>SVO</td>\n",
       "      <td>2015-10-27 10:45:00</td>\n",
       "      <td>MIA</td>\n",
       "      <td>2015-10-27 23:35:00</td>\n",
       "      <td>0.0</td>\n",
       "    </tr>\n",
       "    <tr>\n",
       "      <th>3</th>\n",
       "      <td>SVO</td>\n",
       "      <td>2015-10-27 12:30:00</td>\n",
       "      <td>LAX</td>\n",
       "      <td>2015-10-28 01:20:00</td>\n",
       "      <td>0.0</td>\n",
       "    </tr>\n",
       "    <tr>\n",
       "      <th>4</th>\n",
       "      <td>OTP</td>\n",
       "      <td>2015-10-27 14:15:00</td>\n",
       "      <td>SVO</td>\n",
       "      <td>2015-10-27 16:40:00</td>\n",
       "      <td>9.0</td>\n",
       "    </tr>\n",
       "  </tbody>\n",
       "</table>\n",
       "</div>"
      ],
      "text/plain": [
       "  Depature Airport Scheduled depature time Destination Airport  \\\n",
       "0              SVO     2015-10-27 07:40:00                 HAV   \n",
       "1              SVO     2015-10-27 09:50:00                 JFK   \n",
       "2              SVO     2015-10-27 10:45:00                 MIA   \n",
       "3              SVO     2015-10-27 12:30:00                 LAX   \n",
       "4              OTP     2015-10-27 14:15:00                 SVO   \n",
       "\n",
       "  Scheduled arrival time  Delay  \n",
       "0    2015-10-27 20:45:00    0.0  \n",
       "1    2015-10-27 20:35:00    2.0  \n",
       "2    2015-10-27 23:35:00    0.0  \n",
       "3    2015-10-28 01:20:00    0.0  \n",
       "4    2015-10-27 16:40:00    9.0  "
      ]
     },
     "metadata": {}
    },
    {
     "output_type": "stream",
     "name": "stdout",
     "text": [
      "\n",
      "Data info:\n",
      "<class 'pandas.core.frame.DataFrame'>\n",
      "RangeIndex: 675513 entries, 0 to 675512\n",
      "Data columns (total 5 columns):\n",
      " #   Column                   Non-Null Count   Dtype  \n",
      "---  ------                   --------------   -----  \n",
      " 0   Depature Airport         675513 non-null  object \n",
      " 1   Scheduled depature time  675513 non-null  object \n",
      " 2   Destination Airport      675513 non-null  object \n",
      " 3   Scheduled arrival time   675513 non-null  object \n",
      " 4   Delay                    675513 non-null  float64\n",
      "dtypes: float64(1), object(4)\n",
      "memory usage: 25.8+ MB\n",
      "\n",
      "Describe delay column\n"
     ]
    },
    {
     "output_type": "display_data",
     "data": {
      "text/html": [
       "<div>\n",
       "<style scoped>\n",
       "    .dataframe tbody tr th:only-of-type {\n",
       "        vertical-align: middle;\n",
       "    }\n",
       "\n",
       "    .dataframe tbody tr th {\n",
       "        vertical-align: top;\n",
       "    }\n",
       "\n",
       "    .dataframe thead th {\n",
       "        text-align: right;\n",
       "    }\n",
       "</style>\n",
       "<table border=\"1\" class=\"dataframe\">\n",
       "  <thead>\n",
       "    <tr style=\"text-align: right;\">\n",
       "      <th></th>\n",
       "      <th>Delay</th>\n",
       "    </tr>\n",
       "  </thead>\n",
       "  <tbody>\n",
       "    <tr>\n",
       "      <th>count</th>\n",
       "      <td>675513.000000</td>\n",
       "    </tr>\n",
       "    <tr>\n",
       "      <th>mean</th>\n",
       "      <td>9.912939</td>\n",
       "    </tr>\n",
       "    <tr>\n",
       "      <th>std</th>\n",
       "      <td>44.895875</td>\n",
       "    </tr>\n",
       "    <tr>\n",
       "      <th>min</th>\n",
       "      <td>0.000000</td>\n",
       "    </tr>\n",
       "    <tr>\n",
       "      <th>25%</th>\n",
       "      <td>0.000000</td>\n",
       "    </tr>\n",
       "    <tr>\n",
       "      <th>50%</th>\n",
       "      <td>0.000000</td>\n",
       "    </tr>\n",
       "    <tr>\n",
       "      <th>75%</th>\n",
       "      <td>5.000000</td>\n",
       "    </tr>\n",
       "    <tr>\n",
       "      <th>max</th>\n",
       "      <td>1436.000000</td>\n",
       "    </tr>\n",
       "  </tbody>\n",
       "</table>\n",
       "</div>"
      ],
      "text/plain": [
       "               Delay\n",
       "count  675513.000000\n",
       "mean        9.912939\n",
       "std        44.895875\n",
       "min         0.000000\n",
       "25%         0.000000\n",
       "50%         0.000000\n",
       "75%         5.000000\n",
       "max      1436.000000"
      ]
     },
     "metadata": {}
    },
    {
     "output_type": "stream",
     "name": "stdout",
     "text": [
      "Is there are any nulls: False\n"
     ]
    }
   ],
   "metadata": {}
  },
  {
   "cell_type": "markdown",
   "source": [
    "## Preprocess data"
   ],
   "metadata": {}
  },
  {
   "cell_type": "code",
   "execution_count": 2,
   "source": [
    "from sklearn.preprocessing import LabelEncoder\r\n",
    "data[\"Scheduled arrival time\"] = pd.to_datetime(data[\"Scheduled arrival time\"])\r\n",
    "data[\"Scheduled depature time\"] = pd.to_datetime(data[\"Scheduled depature time\"])\r\n",
    "data[\"Duration\"] = (data[\"Scheduled arrival time\"] - data[\"Scheduled depature time\"]).dt.seconds/60\r\n",
    "data[\"arrival month\"] = data[\"Scheduled arrival time\"].dt.month\r\n",
    "data[\"arrival day\"] = data[\"Scheduled arrival time\"].dt.day\r\n",
    "data[\"arrival day_of_week\"] = data[\"Scheduled arrival time\"].dt.day_of_week\r\n",
    "data[\"departure month\"] = data[\"Scheduled depature time\"].dt.month\r\n",
    "data[\"departure day\"] = data[\"Scheduled depature time\"].dt.day\r\n",
    "data[\"departure day_of_week\"] = data[\"Scheduled depature time\"].dt.day_of_week\r\n",
    "data[\"departure year\"] = data[\"Scheduled depature time\"].dt.year\r\n",
    "data.drop(columns=[\"Scheduled arrival time\", \"Scheduled depature time\"], inplace=True)\r\n",
    "\r\n",
    "print(\"Unique numbers of departure airports:\", len(data[\"Depature Airport\"].unique()))\r\n",
    "print(\"Unique numbers of destination airports:\", len(data[\"Destination Airport\"].unique()))\r\n",
    "le = LabelEncoder()\r\n",
    "data[\"Depature Airport\"] = le.fit_transform(data[\"Depature Airport\"])\r\n",
    "data[\"Destination Airport\"] = le.fit_transform(data[\"Destination Airport\"])\r\n",
    "\r\n",
    "print(\"Data shape\", data.shape)"
   ],
   "outputs": [
    {
     "output_type": "stream",
     "name": "stdout",
     "text": [
      "Unique numbers of departure airports: 179\n",
      "Unique numbers of destination airports: 177\n",
      "Data shape (675513, 11)\n"
     ]
    }
   ],
   "metadata": {}
  },
  {
   "cell_type": "markdown",
   "source": [
    "## Some charts"
   ],
   "metadata": {}
  },
  {
   "cell_type": "markdown",
   "source": [
    "### Duration-delay chart"
   ],
   "metadata": {}
  },
  {
   "cell_type": "code",
   "execution_count": 3,
   "source": [
    "plt.scatter(data[\"Duration\"], data[\"Delay\"])\r\n",
    "plt.savefig('Scatter duration-delay.png')\r\n",
    "plt.show()"
   ],
   "outputs": [
    {
     "output_type": "display_data",
     "data": {
      "image/png": "[encoded data removed]",
      "text/plain": [
       "<Figure size 432x288 with 1 Axes>"
      ]
     },
     "metadata": {
      "needs_background": "light"
     }
    }
   ],
   "metadata": {}
  },
  {
   "cell_type": "markdown",
   "source": [
    "### Delay histogram"
   ],
   "metadata": {}
  },
  {
   "cell_type": "code",
   "execution_count": 4,
   "source": [
    "data[\"Delay\"][(data[\"Delay\"] > 0) & (data[\"Delay\"] < 50)].hist(bins=50)\r\n",
    "plt.savefig('Delay under 50.png')\r\n",
    "plt.show()\r\n",
    "\r\n",
    "data[\"Delay\"][(data[\"Delay\"] > 50) & (data[\"Delay\"] < 300)].hist(bins=50)\r\n",
    "plt.savefig('Delay over 50 and under 300.png')\r\n",
    "plt.show()\r\n",
    "\r\n",
    "data[\"Delay\"][(data[\"Delay\"] > 300)].hist(bins=50)\r\n",
    "plt.savefig('Delay over 300.png')\r\n",
    "plt.show()"
   ],
   "outputs": [
    {
     "output_type": "display_data",
     "data": {
      "image/png": "[encoded data removed]",
      "text/plain": [
       "<Figure size 432x288 with 1 Axes>"
      ]
     },
     "metadata": {
      "needs_background": "light"
     }
    },
    {
     "output_type": "display_data",
     "data": {
      "image/png": "[encoded data removed]",
      "text/plain": [
       "<Figure size 432x288 with 1 Axes>"
      ]
     },
     "metadata": {
      "needs_background": "light"
     }
    },
    {
     "output_type": "display_data",
     "data": {
      "image/png": "[encoded data removed]",
      "text/plain": [
       "<Figure size 432x288 with 1 Axes>"
      ]
     },
     "metadata": {
      "needs_background": "light"
     }
    }
   ],
   "metadata": {}
  },
  {
   "cell_type": "markdown",
   "source": [
    "### Normalize duration column"
   ],
   "metadata": {}
  },
  {
   "cell_type": "code",
   "execution_count": 5,
   "source": [
    "from sklearn.preprocessing import RobustScaler\r\n",
    "rs = RobustScaler()\r\n",
    "\r\n",
    "data[\"Duration\"] = rs.fit_transform(data[\"Duration\"].values[:, None])"
   ],
   "outputs": [],
   "metadata": {}
  },
  {
   "cell_type": "markdown",
   "source": [
    "## Split data to train and test"
   ],
   "metadata": {}
  },
  {
   "cell_type": "code",
   "execution_count": 6,
   "source": [
    "train_data = data[data['departure year'] < 2018]\r\n",
    "test_data = data[data['departure year'] >= 2018]\r\n",
    "trainY = train_data[\"Delay\"]\r\n",
    "trainX= train_data.drop(columns=[\"Delay\", 'departure year'])\r\n",
    "testY = test_data[\"Delay\"]\r\n",
    "testX= test_data.drop(columns=[\"Delay\", 'departure year'])"
   ],
   "outputs": [],
   "metadata": {}
  },
  {
   "cell_type": "markdown",
   "source": [
    "## Find outliers and remove it"
   ],
   "metadata": {}
  },
  {
   "cell_type": "code",
   "execution_count": 7,
   "source": [
    "import numpy as np\r\n",
    "from sklearn.ensemble import IsolationForest\r\n",
    "\r\n",
    "train_data = train_data.drop(columns=['departure year'])\r\n",
    "oulier_detector = IsolationForest(n_estimators=200, contamination=0.05, n_jobs=-1)\r\n",
    "outliers = oulier_detector.fit_predict(train_data)\r\n",
    "print(\"Unique numbers for outliers:\", np.unique(outliers))\r\n",
    "print(f\"Number of outliers: {(outliers == -1).sum()} of {len(outliers)}\")"
   ],
   "outputs": [
    {
     "output_type": "stream",
     "name": "stdout",
     "text": [
      "Unique numbers for outliers: [-1  1]\n",
      "Number of outliers: 24954 of 499062\n"
     ]
    }
   ],
   "metadata": {}
  },
  {
   "cell_type": "markdown",
   "source": [
    "### Outliers chart"
   ],
   "metadata": {}
  },
  {
   "cell_type": "code",
   "execution_count": 9,
   "source": [
    "plt.scatter(train_data[\"Duration\"][outliers == -1], train_data[\"Delay\"][outliers == -1], c='r')\r\n",
    "plt.scatter(train_data[\"Duration\"][outliers == 1], train_data[\"Delay\"][outliers == 1], c='b')\r\n",
    "plt.savefig('Outliers.png')\r\n",
    "plt.show()"
   ],
   "outputs": [
    {
     "output_type": "display_data",
     "data": {
      "image/png": "[encoded data removed]",
      "text/plain": [
       "<Figure size 432x288 with 1 Axes>"
      ]
     },
     "metadata": {
      "needs_background": "light"
     }
    }
   ],
   "metadata": {}
  },
  {
   "cell_type": "code",
   "execution_count": 10,
   "source": [
    "trainX = trainX[outliers == 1]\r\n",
    "trainY = trainY[outliers == 1]"
   ],
   "outputs": [],
   "metadata": {}
  },
  {
   "cell_type": "markdown",
   "source": [
    "## Machine learning models"
   ],
   "metadata": {}
  },
  {
   "cell_type": "code",
   "execution_count": 11,
   "source": [
    "import numpy as np\r\n",
    "from sklearn.linear_model import LinearRegression, Ridge, Lasso\r\n",
    "from sklearn.preprocessing import PolynomialFeatures\r\n",
    "\r\n",
    "from sklearn.metrics import mean_squared_error, mean_absolute_error\r\n",
    "from sklearn.model_selection import GridSearchCV"
   ],
   "outputs": [],
   "metadata": {}
  },
  {
   "cell_type": "markdown",
   "source": [
    "### Linear regression"
   ],
   "metadata": {}
  },
  {
   "cell_type": "code",
   "execution_count": 12,
   "source": [
    "LR = LinearRegression(n_jobs=-1)\r\n",
    "LR.fit(trainX, trainY)\r\n",
    "pred = LR.predict(testX)\r\n",
    "print(\"Error for linear regression (MSE):\", mean_squared_error(testY, pred))\r\n",
    "print(\"Error for linear regression (MAE):\", mean_absolute_error(testY, pred))\r\n",
    "pred_train = LR.predict(trainX)\r\n",
    "print(\"Error for linear regression (MSE) on train dataset:\", mean_squared_error(trainY, pred_train))\r\n",
    "print(\"Error for linear regression (MAE) on train dataset:\", mean_absolute_error(trainY, pred_train))"
   ],
   "outputs": [
    {
     "output_type": "stream",
     "name": "stdout",
     "text": [
      "Error for linear regression (MSE): 1602.0938487674096\n",
      "Error for linear regression (MAE): 10.897530631548038\n",
      "Error for linear regression (MSE) on train dataset: 353.3478244008921\n",
      "Error for linear regression (MAE) on train dataset: 9.036420268469257\n"
     ]
    }
   ],
   "metadata": {}
  },
  {
   "cell_type": "markdown",
   "source": [
    "### Ridge regression"
   ],
   "metadata": {}
  },
  {
   "cell_type": "code",
   "execution_count": 13,
   "source": [
    "ridge = Ridge()\r\n",
    "gridParams = {\"alpha\": np.linspace(0.1, 10, 10)}\r\n",
    "grid = GridSearchCV(ridge, gridParams, scoring='neg_mean_squared_error',\r\n",
    "                    verbose=1, n_jobs=-1, cv=5)\r\n",
    "grid.fit(trainX, trainY)\r\n",
    "print(\"Best params:\", grid.best_params_)\r\n",
    "print(\"Best score:\", grid.best_score_)\r\n",
    "print(\"Error for ridge regression (MSE):\", mean_squared_error(testY, grid.predict(testX)))\r\n",
    "print(\"Error for ridge regression (MAE):\", mean_absolute_error(testY, grid.predict(testX)))\r\n",
    "pred_train = grid.predict(trainX)\r\n",
    "print(f\"MSE for lasso regression on train dataset:\", mean_squared_error(trainY, pred_train))\r\n",
    "print(f\"MAE for lasso regression on train dataset:\", mean_absolute_error(trainY, pred_train))"
   ],
   "outputs": [
    {
     "output_type": "stream",
     "name": "stdout",
     "text": [
      "Fitting 5 folds for each of 10 candidates, totalling 50 fits\n",
      "Best params: {'alpha': 10.0}\n",
      "Best score: -354.15000155743064\n",
      "Error for ridge regression (MSE): 1602.0939636896237\n",
      "Error for ridge regression (MAE): 10.897532105646288\n",
      "MSE for lasso regression on train dataset: 353.34782605646086\n",
      "MAE for lasso regression on train dataset: 9.036421060480894\n"
     ]
    }
   ],
   "metadata": {}
  },
  {
   "cell_type": "markdown",
   "source": [
    "### Lasso regression"
   ],
   "metadata": {}
  },
  {
   "cell_type": "code",
   "execution_count": 13,
   "source": [
    "lasso = Lasso()\r\n",
    "gridParams = {\"alpha\": np.linspace(0.1, 4, 5)}\r\n",
    "grid = GridSearchCV(lasso, gridParams, scoring='neg_mean_squared_error',\r\n",
    "                    verbose=1, n_jobs=-1, cv=5)\r\n",
    "grid.fit(trainX, trainY)           \r\n",
    "print(\"Best params:\", grid.best_params_)\r\n",
    "print(\"Best score:\", grid.best_score_)\r\n",
    "print(\"Error for lasso regression (MSE):\", mean_squared_error(testY, grid.predict(testX)))\r\n",
    "print(\"Error for lasso regression (MAE):\", mean_absolute_error(testY, grid.predict(testX)))\r\n",
    "pred_train = grid.predict(trainX)\r\n",
    "print(f\"MSE for lasso regression on train dataset:\", mean_squared_error(trainY, pred_train))\r\n",
    "print(f\"MAE for lasso regression on train dataset:\", mean_absolute_error(trainY, pred_train))\r\n"
   ],
   "outputs": [
    {
     "output_type": "stream",
     "name": "stdout",
     "text": [
      "Fitting 5 folds for each of 5 candidates, totalling 25 fits\n",
      "Best params: {'alpha': 0.1}\n",
      "Best score: -317.37156327319826\n",
      "Error for lasso regression (MSE): 1600.912197586982\n",
      "Error for lasso regression (MAE): 10.76436295600736\n",
      "MSE for lasso regression on train dataset: 316.6955182753042\n",
      "MAE for lasso regression on train dataset: 8.745299633437313\n"
     ]
    }
   ],
   "metadata": {}
  },
  {
   "cell_type": "markdown",
   "source": [
    "### Polynomial regression"
   ],
   "metadata": {}
  },
  {
   "cell_type": "code",
   "execution_count": 14,
   "source": [
    "degrees = [2, 3, 4]\r\n",
    "for degree in degrees:\r\n",
    "    poly = PolynomialFeatures(degree)\r\n",
    "    poly.fit(trainX)\r\n",
    "    polyXtrain = poly.transform(trainX)\r\n",
    "    polyXtest = poly.transform(testX)\r\n",
    "    lr = LinearRegression()\r\n",
    "    lr.fit(polyXtrain, trainY)\r\n",
    "    pred = lr.predict(polyXtest)\r\n",
    "    print(f\"MSE for linear regression with degree {degree} :\", mean_squared_error(testY, pred))\r\n",
    "    print(f\"MAE for linear regression with degree {degree} :\", mean_absolute_error(testY, pred))\r\n",
    "    pred_train = lr.predict(polyXtrain)\r\n",
    "    print(f\"MSE for linear regression with degree {degree} on train dataset:\", mean_squared_error(trainY, pred_train))\r\n",
    "    print(f\"MAE for linear regression with degree {degree} on train dataset:\", mean_absolute_error(trainY, pred_train))"
   ],
   "outputs": [
    {
     "output_type": "stream",
     "name": "stdout",
     "text": [
      "MSE for linear regression with degree 2 : 1606.5179820916965\n",
      "MAE for linear regression with degree 2 : 10.743942390952325\n",
      "MSE for linear regression with degree 2 on train dataset: 314.9344927109354\n",
      "MAE for linear regression with degree 2 on train dataset: 8.718238688664616\n",
      "MSE for linear regression with degree 3 : 1605.6039575035386\n",
      "MAE for linear regression with degree 3 : 10.702229858822902\n",
      "MSE for linear regression with degree 3 on train dataset: 314.19726521120253\n",
      "MAE for linear regression with degree 3 on train dataset: 8.690438366683237\n",
      "MSE for linear regression with degree 4 : 1617.315643327929\n",
      "MAE for linear regression with degree 4 : 10.972191940199252\n",
      "MSE for linear regression with degree 4 on train dataset: 312.66473242874866\n",
      "MAE for linear regression with degree 4 on train dataset: 8.635908529192344\n"
     ]
    }
   ],
   "metadata": {}
  }
 ],
 "metadata": {
  "interpreter": {
   "hash": "3223d0044a6b5cdd8800ae249eee83b833c368097a6c55e0f68bbe44bda8f065"
  },
  "kernelspec": {
   "name": "python3",
   "display_name": "Python 3.8.10 64-bit"
  },
  "language_info": {
   "codemirror_mode": {
    "name": "ipython",
    "version": 3
   },
   "file_extension": ".py",
   "mimetype": "text/x-python",
   "name": "python",
   "nbconvert_exporter": "python",
   "pygments_lexer": "ipython3",
   "version": "3.8.10"
  }
 },
 "nbformat": 4,
 "nbformat_minor": 5
}